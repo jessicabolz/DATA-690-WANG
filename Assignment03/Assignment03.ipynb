{
 "cells": [
  {
   "cell_type": "markdown",
   "metadata": {},
   "source": [
    "# Assignment 3"
   ]
  },
  {
   "cell_type": "markdown",
   "metadata": {},
   "source": [
    "# Goal 1:  Generate 100 random integers between 0 and 9 and put them in a 10x10 matrix"
   ]
  },
  {
   "cell_type": "code",
   "execution_count": 23,
   "metadata": {},
   "outputs": [
    {
     "name": "stdout",
     "output_type": "stream",
     "text": [
      "7 2 1 6 2 3 0 7 4 0\n",
      "4 2 2 0 6 8 2 1 6 8\n",
      "1 4 8 1 4 7 6 7 1 2\n",
      "7 1 2 3 8 3 8 4 3 8\n",
      "3 0 8 5 8 7 1 5 1 3\n",
      "6 2 7 6 0 4 1 3 2 0\n",
      "3 0 4 7 2 5 0 1 8 8\n",
      "0 0 8 2 4 0 8 0 6 0\n",
      "1 6 0 2 3 1 1 4 3 8\n",
      "0 7 6 0 2 5 8 0 2 3\n"
     ]
    }
   ],
   "source": [
    "import numpy\n",
    "for i in range(10):                            #do the following 10 times\n",
    "    data1=numpy.random.randint(0,9,10)         #generate 10 random integers between 0 and 9\n",
    "    print(*data1)                              #print the 10 integers without brackets\n",
    "\n",
    "\n"
   ]
  },
  {
   "cell_type": "markdown",
   "metadata": {},
   "source": [
    "# Goal 2:  Replace each odd integer with @ symbol"
   ]
  },
  {
   "cell_type": "code",
   "execution_count": 22,
   "metadata": {},
   "outputs": [
    {
     "name": "stdout",
     "output_type": "stream",
     "text": [
      "8 @ 4 @ 2 4 8 @ 0 8\n",
      "2 @ 8 2 0 8 2 2 8 @\n",
      "@ 4 8 4 8 @ 2 6 0 @\n",
      "@ @ @ @ @ 4 0 @ 2 6\n",
      "4 @ 6 @ @ @ @ 2 0 4\n",
      "0 6 @ 6 @ 0 6 @ 4 0\n",
      "@ 4 6 @ @ @ 0 @ @ @\n",
      "6 6 4 8 @ 6 @ @ 4 @\n",
      "6 2 2 @ @ 6 8 @ 8 @\n",
      "2 6 8 2 0 @ 6 0 @ 6\n"
     ]
    }
   ],
   "source": [
    "import numpy\n",
    "\n",
    "for i in range(10):                                           #do the following 10 times\n",
    "    \n",
    "    list_position=0                                           #set position in row to 0\n",
    "    data1=numpy.random.randint(0,9,10).astype('object')       #generate 10 random integers between 0 and 9, type object will\n",
    "                                                              #allow it to change integers to strings\n",
    "    \n",
    "    for j in data1:                                           #iterate through the integers\n",
    "        list_position=list_position+1                         #keep track of the position of the integers\n",
    "        if j%2==1:                                            #if the remainder of the integer divided by 2 is 1\n",
    "            data1[list_position-1]=\"@\"                        #replace it with @\n",
    "    print(*data1)                                             #print the row without brackets"
   ]
  },
  {
   "cell_type": "markdown",
   "metadata": {},
   "source": [
    "# Goal 3:  Calculate the total of each row"
   ]
  },
  {
   "cell_type": "code",
   "execution_count": 4,
   "metadata": {},
   "outputs": [
    {
     "name": "stdout",
     "output_type": "stream",
     "text": [
      "7 8 6 2 7 2 0 6 8 2 * 48\n",
      "4 3 6 3 6 0 6 3 6 3 * 40\n",
      "7 4 4 7 2 2 7 4 5 3 * 45\n",
      "8 3 5 7 0 6 7 3 6 0 * 45\n",
      "0 2 6 3 0 8 4 3 4 3 * 33\n",
      "8 6 0 3 4 5 1 0 5 3 * 35\n",
      "0 0 3 5 5 6 1 7 4 7 * 38\n",
      "8 7 0 7 2 8 3 0 7 3 * 45\n",
      "2 4 7 4 5 8 5 7 0 4 * 46\n",
      "2 5 7 6 4 7 0 0 4 3 * 38\n"
     ]
    }
   ],
   "source": [
    "import numpy\n",
    "\n",
    "for i in range(10):                         #do the following ten times\n",
    "    sum=0\n",
    "    data1=numpy.random.randint(0,9,10)      #generate 10 random integers\n",
    "    for number in data1:                    #add each number in the row to variable sum\n",
    "        sum=sum+number\n",
    "    print(*data1,end=\"\")                    #print the row without brackets and without a new line \n",
    "    print(\" *\",sum)                         #print an asterisk followed by the sum\n",
    "    "
   ]
  },
  {
   "cell_type": "markdown",
   "metadata": {},
   "source": [
    "# Goal 4:  Surrond the matrix with asterisks"
   ]
  },
  {
   "cell_type": "code",
   "execution_count": 13,
   "metadata": {},
   "outputs": [
    {
     "name": "stdout",
     "output_type": "stream",
     "text": [
      "***********************\n",
      "* 8 2 6 8 8 5 7 2 7 0 *\n",
      "* 7 6 7 8 7 7 5 0 2 0 *\n",
      "* 4 4 6 8 6 6 2 5 1 7 *\n",
      "* 1 4 6 2 5 7 0 1 5 7 *\n",
      "* 6 7 3 4 4 5 5 6 5 4 *\n",
      "* 7 8 8 3 0 5 1 2 1 0 *\n",
      "* 5 3 0 7 4 2 1 7 6 0 *\n",
      "* 8 3 2 0 6 5 8 0 3 7 *\n",
      "* 5 3 5 3 2 6 7 6 0 2 *\n",
      "* 0 2 0 4 3 2 2 1 5 0 *\n",
      "***********************\n"
     ]
    }
   ],
   "source": [
    "import numpy\n",
    "\n",
    "print(\"***********************\")            #print top row astersisks\n",
    "\n",
    "for i in range(10):                         #do the following ten times\n",
    "    data1=numpy.random.randint(0,9,10)      #generate 10 integers\n",
    "    print(\"* \",end=\"\")                      #print an asterisk without adding a new line\n",
    "    print(*data1,end=\"\")                    #print the 10 integers without adding a new line \n",
    "    print(\" *\")                             #print an asterisk\n",
    "\n",
    "print(\"***********************\")            #print bottom row astersisks"
   ]
  },
  {
   "cell_type": "code",
   "execution_count": null,
   "metadata": {},
   "outputs": [],
   "source": []
  }
 ],
 "metadata": {
  "kernelspec": {
   "display_name": "Python 3",
   "language": "python",
   "name": "python3"
  },
  "language_info": {
   "codemirror_mode": {
    "name": "ipython",
    "version": 3
   },
   "file_extension": ".py",
   "mimetype": "text/x-python",
   "name": "python",
   "nbconvert_exporter": "python",
   "pygments_lexer": "ipython3",
   "version": "3.8.1"
  }
 },
 "nbformat": 4,
 "nbformat_minor": 4
}
