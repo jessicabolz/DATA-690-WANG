{
 "cells": [
  {
   "cell_type": "markdown",
   "metadata": {},
   "source": [
    "# Assignment 4"
   ]
  },
  {
   "cell_type": "markdown",
   "metadata": {},
   "source": [
    "### Goal:  Data cleanse the census.cost.txt file"
   ]
  },
  {
   "cell_type": "markdown",
   "metadata": {},
   "source": [
    "#### 1.  Open, read, and print census.cost.txt"
   ]
  },
  {
   "cell_type": "code",
   "execution_count": 10,
   "metadata": {},
   "outputs": [
    {
     "name": "stdout",
     "output_type": "stream",
     "text": [
      "Source: https://www.genealogybranches.com/censuscosts.html\n",
      "Census Year\tTotal Population\tCensus Cost\tAverage Cost Per Person\n",
      "1790\t3,929,214\t$44,377\t1.13 cents\n",
      "1800\t5,308,483\t$66,109\t1.24 cents\n",
      "1810\t7,239,881\t$178,445\t2.46 cents\n",
      "1820\t9,633,822\t$208,526\t2.16 cents\n",
      "1830\t12,866,020\t$378,545\t2.94 cents\n",
      "1840\t17,069,458\t$833,371\t4.88 cents\n",
      "1850\t23,191,876\t$1,423,351\t6.14 cents\n",
      "1860\t31,443,321\t$1,969,377\t6.26 cents\n",
      "1870\t38,558,371\t$3,421,198\t8.87 cents\n",
      "1880\t50,155,783\t$5,790,678\t11.54 cents\n",
      "1890\t62,979,766\t$11,547,127\t18.33 cents\n",
      "1900\t76,303,387\t$11,854,000\t15.54 cents\n",
      "1910\t91,972,266\t$15,968,000\t17.07 cents\n",
      "1920\t105,710,620\t$25,117,000\t23.76 cents\n",
      "1930\t122,775,046\t$40,156,000\t32.71 cents\n",
      "1940\t131,669,275\t$67,527,000\t51.29 cents\n",
      "1950\t151,325,798\t$91,462,000\t60.44 cents\n",
      "1960\t179,323,175\t$127,934,000\t71.34 cents\n",
      "1970\t203,302,031\t$247,653,000\t$1.22\n",
      "1980\t226,542,199\t$1,078,488,000\t$4.76\n",
      "1990\t248,718,301\t$2,492,830,000\t$10.02\n",
      "2000\t281,421,906\t$4.5 Billion\t$15.99\n",
      "2010*\t308,745,538\t$13 Billion\t$42.11"
     ]
    }
   ],
   "source": [
    "with open(\"census.cost.txt\", \"rt\") as my_file:        #open the file\n",
    "    line_list=my_file.readlines()                     #read the file into a list\n",
    "\n",
    "for line in line_list:                                #print in an easy-to-read format \n",
    "    print(line,end=\"\")"
   ]
  },
  {
   "cell_type": "markdown",
   "metadata": {},
   "source": [
    "#### 2.  Extract the top two lines"
   ]
  },
  {
   "cell_type": "code",
   "execution_count": 11,
   "metadata": {},
   "outputs": [
    {
     "name": "stdout",
     "output_type": "stream",
     "text": [
      "Source: https://www.genealogybranches.com/censuscosts.html\n",
      "Census Year\tTotal Population\tCensus Cost\tAverage Cost Per Person\n"
     ]
    }
   ],
   "source": [
    "top2_list=line_list[0:2]                                 #store/print the top two lines\n",
    "for line in top2_list:\n",
    "    print(line,end=\"\")"
   ]
  },
  {
   "cell_type": "markdown",
   "metadata": {},
   "source": [
    "#### 3.  Put the rest of the data in a new list"
   ]
  },
  {
   "cell_type": "code",
   "execution_count": 12,
   "metadata": {},
   "outputs": [
    {
     "name": "stdout",
     "output_type": "stream",
     "text": [
      "1790\t3,929,214\t$44,377\t1.13 cents\n",
      "1800\t5,308,483\t$66,109\t1.24 cents\n",
      "1810\t7,239,881\t$178,445\t2.46 cents\n",
      "1820\t9,633,822\t$208,526\t2.16 cents\n",
      "1830\t12,866,020\t$378,545\t2.94 cents\n",
      "1840\t17,069,458\t$833,371\t4.88 cents\n",
      "1850\t23,191,876\t$1,423,351\t6.14 cents\n",
      "1860\t31,443,321\t$1,969,377\t6.26 cents\n",
      "1870\t38,558,371\t$3,421,198\t8.87 cents\n",
      "1880\t50,155,783\t$5,790,678\t11.54 cents\n",
      "1890\t62,979,766\t$11,547,127\t18.33 cents\n",
      "1900\t76,303,387\t$11,854,000\t15.54 cents\n",
      "1910\t91,972,266\t$15,968,000\t17.07 cents\n",
      "1920\t105,710,620\t$25,117,000\t23.76 cents\n",
      "1930\t122,775,046\t$40,156,000\t32.71 cents\n",
      "1940\t131,669,275\t$67,527,000\t51.29 cents\n",
      "1950\t151,325,798\t$91,462,000\t60.44 cents\n",
      "1960\t179,323,175\t$127,934,000\t71.34 cents\n",
      "1970\t203,302,031\t$247,653,000\t$1.22\n",
      "1980\t226,542,199\t$1,078,488,000\t$4.76\n",
      "1990\t248,718,301\t$2,492,830,000\t$10.02\n",
      "2000\t281,421,906\t$4.5 Billion\t$15.99\n",
      "2010*\t308,745,538\t$13 Billion\t$42.11"
     ]
    }
   ],
   "source": [
    "data_list=list()                                        #store/print the rest of the data\n",
    "raw_list=line_list[2:]\n",
    "for line in raw_list:\n",
    "    data_list.append(line.split(\"\\t\"))                  #split the line strings by tab\n",
    "    print(line,end=\"\")\n"
   ]
  },
  {
   "cell_type": "markdown",
   "metadata": {},
   "source": [
    "#### 4.  Put census years in a list"
   ]
  },
  {
   "cell_type": "code",
   "execution_count": 13,
   "metadata": {},
   "outputs": [
    {
     "name": "stdout",
     "output_type": "stream",
     "text": [
      "1790\n",
      "1800\n",
      "1810\n",
      "1820\n",
      "1830\n",
      "1840\n",
      "1850\n",
      "1860\n",
      "1870\n",
      "1880\n",
      "1890\n",
      "1900\n",
      "1910\n",
      "1920\n",
      "1930\n",
      "1940\n",
      "1950\n",
      "1960\n",
      "1970\n",
      "1980\n",
      "1990\n",
      "2000\n",
      "2010\n"
     ]
    }
   ],
   "source": [
    "year_list=list()                                                \n",
    "\n",
    "for line in data_list:                                   #go through each line, adding the year to the list, \n",
    "    year_list.append(line[0].replace(\"*\",\"\"))            #having replaced * with nothing\n",
    "\n",
    "for year in year_list:                                   #print the years\n",
    "    print(year)\n",
    "\n",
    "\n",
    "\n"
   ]
  },
  {
   "cell_type": "markdown",
   "metadata": {},
   "source": [
    "#### 5.  Put populations in a list"
   ]
  },
  {
   "cell_type": "code",
   "execution_count": 14,
   "metadata": {},
   "outputs": [
    {
     "name": "stdout",
     "output_type": "stream",
     "text": [
      "3929214\n",
      "5308483\n",
      "7239881\n",
      "9633822\n",
      "12866020\n",
      "17069458\n",
      "23191876\n",
      "31443321\n",
      "38558371\n",
      "50155783\n",
      "62979766\n",
      "76303387\n",
      "91972266\n",
      "105710620\n",
      "122775046\n",
      "131669275\n",
      "151325798\n",
      "179323175\n",
      "203302031\n",
      "226542199\n",
      "248718301\n",
      "281421906\n",
      "308745538\n"
     ]
    }
   ],
   "source": [
    "pop_list=list()\n",
    "\n",
    "for line in data_list:                                    #go through each line, adding the population to the list, \n",
    "    pop_list.append(line[1].replace(\",\",\"\"))              #having replaced commas with nothing\n",
    "\n",
    "for pop in pop_list:                                      #print the populations\n",
    "    print(pop)\n"
   ]
  },
  {
   "cell_type": "markdown",
   "metadata": {},
   "source": [
    "#### 6.  Put the census cost in a list"
   ]
  },
  {
   "cell_type": "code",
   "execution_count": 15,
   "metadata": {},
   "outputs": [
    {
     "name": "stdout",
     "output_type": "stream",
     "text": [
      "44377\n",
      "66109\n",
      "178445\n",
      "208526\n",
      "378545\n",
      "833371\n",
      "1423351\n",
      "1969377\n",
      "3421198\n",
      "5790678\n",
      "11547127\n",
      "11854000\n",
      "15968000\n",
      "25117000\n",
      "40156000\n",
      "67527000\n",
      "91462000\n",
      "127934000\n",
      "247653000\n",
      "1078488000\n",
      "2492830000\n",
      "45000000000\n",
      "13000000000\n"
     ]
    }
   ],
   "source": [
    "cost_list=list()                                 #go through each line, adding the census cost \n",
    "                                                 #to the list, having replaced commas, $, and \n",
    "                                                 #decimal points with nothing and Billion with 9 zeros\n",
    "for line in data_list:\n",
    "    cost_list.append(line[2].replace(\",\",\"\").replace(\"$\",\"\").replace(\" Billion\",\"000000000\").replace(\".\",\"\"))\n",
    "\n",
    "for cost in cost_list:                           #print the census costs\n",
    "    print(cost)\n"
   ]
  },
  {
   "cell_type": "markdown",
   "metadata": {},
   "source": [
    "#### 7.  Put the average cost per person (in dollars) in a list"
   ]
  },
  {
   "cell_type": "code",
   "execution_count": 16,
   "metadata": {},
   "outputs": [
    {
     "name": "stdout",
     "output_type": "stream",
     "text": [
      "0.0113\n",
      "0.0124\n",
      "0.0246\n",
      "0.0216\n",
      "0.0294\n",
      "0.048799999999999996\n",
      "0.061399999999999996\n",
      "0.0626\n",
      "0.08869999999999999\n",
      "0.11539999999999999\n",
      "0.1833\n",
      "0.15539999999999998\n",
      "0.1707\n",
      "0.2376\n",
      "0.3271\n",
      "0.5129\n",
      "0.6043999999999999\n",
      "0.7134\n",
      "1.22\n",
      "4.76\n",
      "10.02\n",
      "15.99\n",
      "42.11\n"
     ]
    }
   ],
   "source": [
    "clean_list=list()\n",
    "cents_list=list()\n",
    "dollars_list=list()\n",
    "avg_list=list()\n",
    "\n",
    "for line in data_list:                                               #go through each line, adding the cost per person \n",
    "    clean_list.append(line[3].replace(\"cents\",\"\").replace(\"$\",\"\"))   #to the list, having replaced 'cents' and '$' with \n",
    "                                                                     #nothing   \n",
    "   \n",
    "for cents in clean_list[0:18]:                                       #change the cents to dollars by changing to a float and\n",
    "    fcents=float(cents)                                              #dividing by 100 and add to cents_list\n",
    "    cents_list.append(fcents/100)\n",
    "\n",
    "for dollars in clean_list[18:]:                                      #I couldn't get the dollars to print without an extra\n",
    "    fdollars=float(dollars)                                          #line.  I found that by changing them to floats too\n",
    "    dollars_list.append(fdollars)                                    #I didn't have that problem!\n",
    "    \n",
    "avg_list=cents_list+dollars_list                                     #Combine the cents and dollars lists\n",
    "\n",
    "for avg in avg_list:                                                 #Print the average cost\n",
    "    print(avg)\n",
    "\n"
   ]
  },
  {
   "cell_type": "markdown",
   "metadata": {},
   "source": [
    "#### 8.  Coalesce the cleansed data to a csv file"
   ]
  },
  {
   "cell_type": "code",
   "execution_count": 18,
   "metadata": {},
   "outputs": [],
   "source": [
    "rows = zip(year_list,pop_list,cost_list,avg_list)                #change lists to rows\n",
    "\n",
    "import csv\n",
    "\n",
    "file_name=\"census_cost.csv\"                                      #create empty csv file\n",
    "fields=['Year','Poplulation','Cost','Average Cost']              #create column headings\n",
    "\n",
    "with open(file_name, \"w\") as csvfile:                            \n",
    "    csvwriter = csv.writer(csvfile) \n",
    "    csvwriter.writerow(fields)                                   #write the headingss to to file\n",
    "    for row in rows:                                             #write the lists in columns\n",
    "        csvwriter.writerow(row)\n",
    "\n"
   ]
  },
  {
   "cell_type": "code",
   "execution_count": null,
   "metadata": {},
   "outputs": [],
   "source": []
  }
 ],
 "metadata": {
  "kernelspec": {
   "display_name": "Python 3",
   "language": "python",
   "name": "python3"
  },
  "language_info": {
   "codemirror_mode": {
    "name": "ipython",
    "version": 3
   },
   "file_extension": ".py",
   "mimetype": "text/x-python",
   "name": "python",
   "nbconvert_exporter": "python",
   "pygments_lexer": "ipython3",
   "version": "3.8.1"
  }
 },
 "nbformat": 4,
 "nbformat_minor": 4
}
