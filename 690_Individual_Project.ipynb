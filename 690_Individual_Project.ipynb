{
  "nbformat": 4,
  "nbformat_minor": 0,
  "metadata": {
    "colab": {
      "name": "690 Individual Project.ipynb",
      "provenance": [],
      "authorship_tag": "ABX9TyPS7q6SPuAkknv/Qo5z8ao+",
      "include_colab_link": true
    },
    "kernelspec": {
      "name": "python3",
      "display_name": "Python 3"
    }
  },
  "cells": [
    {
      "cell_type": "markdown",
      "metadata": {
        "id": "view-in-github",
        "colab_type": "text"
      },
      "source": [
        "<a href=\"https://colab.research.google.com/github/jessicabolz/DATA-690-WANG/blob/master/690_Individual_Project.ipynb\" target=\"_parent\"><img src=\"https://colab.research.google.com/assets/colab-badge.svg\" alt=\"Open In Colab\"/></a>"
      ]
    },
    {
      "cell_type": "markdown",
      "metadata": {
        "id": "9STVWXIctPLc"
      },
      "source": [
        "# Deliverable #1 - Project Proposal"
      ]
    },
    {
      "cell_type": "markdown",
      "metadata": {
        "id": "PR2oOrGQtVSR"
      },
      "source": [
        "## 1.  What is your issue of interest (provide sufficient background information)?\n"
      ]
    },
    {
      "cell_type": "markdown",
      "metadata": {
        "id": "3c2StAyfvcHm"
      },
      "source": [
        "I am very concerned about climate change, so I'd like to use my skills from the course to see if there is a measureable shift in weather patterns in the DMV area as predicted by climate models."
      ]
    },
    {
      "cell_type": "markdown",
      "metadata": {
        "id": "NRSB-8UatfS7"
      },
      "source": [
        "## 2.  Why is this issue important to you and/or to others?\n"
      ]
    },
    {
      "cell_type": "markdown",
      "metadata": {
        "id": "iHXWYrCzv3-u"
      },
      "source": [
        "Climate change is an existential crisis that our society has never before faced.  It is a threat to the planet and to human civilization in the near term.  It's important to validate the climate models in order to design resiliancy into response, planning, and preparation for our communities.  "
      ]
    },
    {
      "cell_type": "markdown",
      "metadata": {
        "id": "BSLhJ2ettju6"
      },
      "source": [
        "## 3.  What questions do you have in mind that you'd like to answer?\n"
      ]
    },
    {
      "cell_type": "markdown",
      "metadata": {
        "id": "BB4KIFPFwleE"
      },
      "source": [
        "I'd like to look at trends in rainfall:  total precipitation volume annually/ seasonally/ monthly, frequency of rain events, including heavy rain events, and frequency of 100-year floods.  I would also consider looking at humidity level and temperature trends and the frequency of tornados/tornado warnings.  I'd also like to see whether the trends are different in more-densely vs. less-densely populated areas.  I'd like to see what months have been the wettest historically.  If there is a shift, that would affect vegetation and wildlife which would be a true climate shift.  "
      ]
    },
    {
      "cell_type": "markdown",
      "metadata": {
        "id": "lV4wPnhFtpGY"
      },
      "source": [
        "## 4.  Where will you get the data to help answer your questions?\n"
      ]
    },
    {
      "cell_type": "markdown",
      "metadata": {
        "id": "NJ1GnterytyX"
      },
      "source": [
        "Most likely The US Geological Survey, NOAA, The MD Dept of the Environment, the National Meteorological Service, or NASA would have the data I need."
      ]
    },
    {
      "cell_type": "markdown",
      "metadata": {
        "id": "4Zg3PMi-ttES"
      },
      "source": [
        "## 5.  What will be your unit of analysis (for example, patient, organization, or country)? Roughly how many units do you expect to analyze?\n",
        "\n",
        "##  6. What variables/measures do you plan to use in your analysis?\n"
      ]
    },
    {
      "cell_type": "markdown",
      "metadata": {
        "id": "uFUfBXiwy9J7"
      },
      "source": [
        "Rainfall total (in inches or mm^3), number of rain events, number of tornadoes/tornado warnings, time between rain events, number of floods, monthly humidity and temperature levels, all over time."
      ]
    },
    {
      "cell_type": "markdown",
      "metadata": {
        "id": "hXPQ7eOmt2Ie"
      },
      "source": [
        "## 7.  What kinds of techniques do you you plan to use (for example, summary statistics, scatter plot, bar chart, chi-squared test)?"
      ]
    },
    {
      "cell_type": "markdown",
      "metadata": {
        "id": "gu0LQPmkzrJR"
      },
      "source": [
        "I can see using line plots and bar charts, and finding summary statistics.  I will see if a chi-squared test would be appropriate."
      ]
    },
    {
      "cell_type": "code",
      "metadata": {
        "id": "EkFj5nS6z61I"
      },
      "source": [
        ""
      ],
      "execution_count": null,
      "outputs": []
    }
  ]
}