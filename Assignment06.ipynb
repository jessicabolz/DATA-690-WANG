{
  "nbformat": 4,
  "nbformat_minor": 0,
  "metadata": {
    "colab": {
      "name": "Assignment06.ipynb",
      "provenance": [],
      "toc_visible": true,
      "authorship_tag": "ABX9TyPHyEuzwXGRxUhg+z9WkBWB",
      "include_colab_link": true
    },
    "kernelspec": {
      "name": "python3",
      "display_name": "Python 3"
    }
  },
  "cells": [
    {
      "cell_type": "markdown",
      "metadata": {
        "id": "view-in-github",
        "colab_type": "text"
      },
      "source": [
        "<a href=\"https://colab.research.google.com/github/jessicabolz/DATA-690-WANG/blob/master/Assignment06.ipynb\" target=\"_parent\"><img src=\"https://colab.research.google.com/assets/colab-badge.svg\" alt=\"Open In Colab\"/></a>"
      ]
    },
    {
      "cell_type": "markdown",
      "metadata": {
        "id": "3kFPVUhoIYDO"
      },
      "source": [
        "# Redo Assignment 4 with Pandas"
      ]
    },
    {
      "cell_type": "markdown",
      "metadata": {
        "id": "ppBOaIRQIbED"
      },
      "source": [
        "## Read the census cost data from the webpage"
      ]
    },
    {
      "cell_type": "code",
      "metadata": {
        "id": "Qc-A34SyILIS"
      },
      "source": [
        "import pandas as pd\n",
        "\n",
        "\n",
        "page = pd.read_html('https://www.genealogybranches.com/censuscosts.html')   #read from the website\n",
        "                                                                 "
      ],
      "execution_count": 1,
      "outputs": []
    },
    {
      "cell_type": "markdown",
      "metadata": {
        "id": "69N8PQ7TPnd2"
      },
      "source": [
        "##  Explore the data frame"
      ]
    },
    {
      "cell_type": "code",
      "metadata": {
        "id": "I-mK1a35PuOQ",
        "outputId": "d3a55fd9-5f5c-4bbd-e472-c8a862b1b097",
        "colab": {
          "base_uri": "https://localhost:8080/",
          "height": 34
        }
      },
      "source": [
        "type(page)      #determine type"
      ],
      "execution_count": 2,
      "outputs": [
        {
          "output_type": "execute_result",
          "data": {
            "text/plain": [
              "list"
            ]
          },
          "metadata": {
            "tags": []
          },
          "execution_count": 2
        }
      ]
    },
    {
      "cell_type": "code",
      "metadata": {
        "id": "KXTcJuNEIaay",
        "outputId": "905cdaef-65a5-480d-bd6c-5ca447f307b0",
        "colab": {
          "base_uri": "https://localhost:8080/",
          "height": 34
        }
      },
      "source": [
        "len(page)       #determine length               "
      ],
      "execution_count": 3,
      "outputs": [
        {
          "output_type": "execute_result",
          "data": {
            "text/plain": [
              "2"
            ]
          },
          "metadata": {
            "tags": []
          },
          "execution_count": 3
        }
      ]
    },
    {
      "cell_type": "code",
      "metadata": {
        "id": "QRTrD1O_L6cb",
        "outputId": "8f0fa92a-6f04-4176-cf5e-baac5cc45c5e",
        "colab": {
          "base_uri": "https://localhost:8080/",
          "height": 793
        }
      },
      "source": [
        "page[0]         #see what the first element of 2 is\n"
      ],
      "execution_count": 4,
      "outputs": [
        {
          "output_type": "execute_result",
          "data": {
            "text/html": [
              "<div>\n",
              "<style scoped>\n",
              "    .dataframe tbody tr th:only-of-type {\n",
              "        vertical-align: middle;\n",
              "    }\n",
              "\n",
              "    .dataframe tbody tr th {\n",
              "        vertical-align: top;\n",
              "    }\n",
              "\n",
              "    .dataframe thead th {\n",
              "        text-align: right;\n",
              "    }\n",
              "</style>\n",
              "<table border=\"1\" class=\"dataframe\">\n",
              "  <thead>\n",
              "    <tr style=\"text-align: right;\">\n",
              "      <th></th>\n",
              "      <th>0</th>\n",
              "      <th>1</th>\n",
              "      <th>2</th>\n",
              "      <th>3</th>\n",
              "    </tr>\n",
              "  </thead>\n",
              "  <tbody>\n",
              "    <tr>\n",
              "      <th>0</th>\n",
              "      <td>Census Year</td>\n",
              "      <td>Total Population</td>\n",
              "      <td>Census Cost</td>\n",
              "      <td>Average Cost Per Person</td>\n",
              "    </tr>\n",
              "    <tr>\n",
              "      <th>1</th>\n",
              "      <td>1790</td>\n",
              "      <td>3929214</td>\n",
              "      <td>$44,377</td>\n",
              "      <td>1.13 cents</td>\n",
              "    </tr>\n",
              "    <tr>\n",
              "      <th>2</th>\n",
              "      <td>1800</td>\n",
              "      <td>5308483</td>\n",
              "      <td>$66,109</td>\n",
              "      <td>1.24 cents</td>\n",
              "    </tr>\n",
              "    <tr>\n",
              "      <th>3</th>\n",
              "      <td>1810</td>\n",
              "      <td>7239881</td>\n",
              "      <td>$178,445</td>\n",
              "      <td>2.46 cents</td>\n",
              "    </tr>\n",
              "    <tr>\n",
              "      <th>4</th>\n",
              "      <td>1820</td>\n",
              "      <td>9633822</td>\n",
              "      <td>$208,526</td>\n",
              "      <td>2.16 cents</td>\n",
              "    </tr>\n",
              "    <tr>\n",
              "      <th>5</th>\n",
              "      <td>1830</td>\n",
              "      <td>12866020</td>\n",
              "      <td>$378,545</td>\n",
              "      <td>2.94 cents</td>\n",
              "    </tr>\n",
              "    <tr>\n",
              "      <th>6</th>\n",
              "      <td>1840</td>\n",
              "      <td>17069458</td>\n",
              "      <td>$833,371</td>\n",
              "      <td>4.88 cents</td>\n",
              "    </tr>\n",
              "    <tr>\n",
              "      <th>7</th>\n",
              "      <td>1850</td>\n",
              "      <td>23191876</td>\n",
              "      <td>$1,423,351</td>\n",
              "      <td>6.14 cents</td>\n",
              "    </tr>\n",
              "    <tr>\n",
              "      <th>8</th>\n",
              "      <td>1860</td>\n",
              "      <td>31443321</td>\n",
              "      <td>$1,969,377</td>\n",
              "      <td>6.26 cents</td>\n",
              "    </tr>\n",
              "    <tr>\n",
              "      <th>9</th>\n",
              "      <td>1870</td>\n",
              "      <td>38558371</td>\n",
              "      <td>$3,421,198</td>\n",
              "      <td>8.87 cents</td>\n",
              "    </tr>\n",
              "    <tr>\n",
              "      <th>10</th>\n",
              "      <td>1880</td>\n",
              "      <td>50155783</td>\n",
              "      <td>$5,790,678</td>\n",
              "      <td>11.54 cents</td>\n",
              "    </tr>\n",
              "    <tr>\n",
              "      <th>11</th>\n",
              "      <td>1890</td>\n",
              "      <td>62979766</td>\n",
              "      <td>$11,547,127</td>\n",
              "      <td>18.33 cents</td>\n",
              "    </tr>\n",
              "    <tr>\n",
              "      <th>12</th>\n",
              "      <td>1900</td>\n",
              "      <td>76303387</td>\n",
              "      <td>$11,854,000</td>\n",
              "      <td>15.54 cents</td>\n",
              "    </tr>\n",
              "    <tr>\n",
              "      <th>13</th>\n",
              "      <td>1910</td>\n",
              "      <td>91972266</td>\n",
              "      <td>$15,968,000</td>\n",
              "      <td>17.07 cents</td>\n",
              "    </tr>\n",
              "    <tr>\n",
              "      <th>14</th>\n",
              "      <td>1920</td>\n",
              "      <td>105710620</td>\n",
              "      <td>$25,117,000</td>\n",
              "      <td>23.76 cents</td>\n",
              "    </tr>\n",
              "    <tr>\n",
              "      <th>15</th>\n",
              "      <td>1930</td>\n",
              "      <td>122775046</td>\n",
              "      <td>$40,156,000</td>\n",
              "      <td>32.71 cents</td>\n",
              "    </tr>\n",
              "    <tr>\n",
              "      <th>16</th>\n",
              "      <td>1940</td>\n",
              "      <td>131669275</td>\n",
              "      <td>$67,527,000</td>\n",
              "      <td>51.29 cents</td>\n",
              "    </tr>\n",
              "    <tr>\n",
              "      <th>17</th>\n",
              "      <td>1950</td>\n",
              "      <td>151325798</td>\n",
              "      <td>$91,462,000</td>\n",
              "      <td>60.44 cents</td>\n",
              "    </tr>\n",
              "    <tr>\n",
              "      <th>18</th>\n",
              "      <td>1960</td>\n",
              "      <td>179323175</td>\n",
              "      <td>$127,934,000</td>\n",
              "      <td>71.34 cents</td>\n",
              "    </tr>\n",
              "    <tr>\n",
              "      <th>19</th>\n",
              "      <td>1970</td>\n",
              "      <td>203302031</td>\n",
              "      <td>$247,653,000</td>\n",
              "      <td>$1.22</td>\n",
              "    </tr>\n",
              "    <tr>\n",
              "      <th>20</th>\n",
              "      <td>1980</td>\n",
              "      <td>226542199</td>\n",
              "      <td>$1,078,488,000</td>\n",
              "      <td>$4.76</td>\n",
              "    </tr>\n",
              "    <tr>\n",
              "      <th>21</th>\n",
              "      <td>1990</td>\n",
              "      <td>248718301</td>\n",
              "      <td>$2,492,830,000</td>\n",
              "      <td>$10.02</td>\n",
              "    </tr>\n",
              "    <tr>\n",
              "      <th>22</th>\n",
              "      <td>2000</td>\n",
              "      <td>281421906</td>\n",
              "      <td>$4.5 Billion</td>\n",
              "      <td>$15.99</td>\n",
              "    </tr>\n",
              "    <tr>\n",
              "      <th>23</th>\n",
              "      <td>2010*</td>\n",
              "      <td>308745538</td>\n",
              "      <td>$13 Billion</td>\n",
              "      <td>$42.11</td>\n",
              "    </tr>\n",
              "  </tbody>\n",
              "</table>\n",
              "</div>"
            ],
            "text/plain": [
              "              0                 1               2                        3\n",
              "0   Census Year  Total Population     Census Cost  Average Cost Per Person\n",
              "1          1790           3929214         $44,377               1.13 cents\n",
              "2          1800           5308483         $66,109               1.24 cents\n",
              "3          1810           7239881        $178,445               2.46 cents\n",
              "4          1820           9633822        $208,526               2.16 cents\n",
              "5          1830          12866020        $378,545               2.94 cents\n",
              "6          1840          17069458        $833,371               4.88 cents\n",
              "7          1850          23191876      $1,423,351               6.14 cents\n",
              "8          1860          31443321      $1,969,377               6.26 cents\n",
              "9          1870          38558371      $3,421,198               8.87 cents\n",
              "10         1880          50155783      $5,790,678              11.54 cents\n",
              "11         1890          62979766     $11,547,127              18.33 cents\n",
              "12         1900          76303387     $11,854,000              15.54 cents\n",
              "13         1910          91972266     $15,968,000              17.07 cents\n",
              "14         1920         105710620     $25,117,000              23.76 cents\n",
              "15         1930         122775046     $40,156,000              32.71 cents\n",
              "16         1940         131669275     $67,527,000              51.29 cents\n",
              "17         1950         151325798     $91,462,000              60.44 cents\n",
              "18         1960         179323175    $127,934,000              71.34 cents\n",
              "19         1970         203302031    $247,653,000                    $1.22\n",
              "20         1980         226542199  $1,078,488,000                    $4.76\n",
              "21         1990         248718301  $2,492,830,000                   $10.02\n",
              "22         2000         281421906    $4.5 Billion                   $15.99\n",
              "23        2010*         308745538     $13 Billion                   $42.11"
            ]
          },
          "metadata": {
            "tags": []
          },
          "execution_count": 4
        }
      ]
    },
    {
      "cell_type": "markdown",
      "metadata": {
        "id": "b4FnB0sxWIaH"
      },
      "source": [
        "#### This is essentially the data we want"
      ]
    },
    {
      "cell_type": "code",
      "metadata": {
        "id": "ZF7yVG8zWf0C",
        "outputId": "4b28e6ad-3025-42f1-b489-1f5e6638f547",
        "colab": {
          "base_uri": "https://localhost:8080/",
          "height": 34
        }
      },
      "source": [
        "df=page[0]                         #assign the first list element to a data frame\n",
        "type(df)\n"
      ],
      "execution_count": 5,
      "outputs": [
        {
          "output_type": "execute_result",
          "data": {
            "text/plain": [
              "pandas.core.frame.DataFrame"
            ]
          },
          "metadata": {
            "tags": []
          },
          "execution_count": 5
        }
      ]
    },
    {
      "cell_type": "markdown",
      "metadata": {
        "id": "Ky38k3JcRvOn"
      },
      "source": [
        "## Issues with data:\n",
        "1.  Last year in year column has an asterisk after it.\n",
        "2.  In census cost column, all commas and dollar signs need to be removed, as well as removing the word billion and multiplying the number by 1,000,000,000.\n",
        "3.  In the average cost per person column, the word cents should be removed.  Also, all dollar signs need to be removed and the number should be divided by 100 to keep the column units as cents consistent. \n",
        "4.  The first row is counted as data and not as a header. "
      ]
    },
    {
      "cell_type": "code",
      "metadata": {
        "id": "rQJBJqH6L_CI",
        "outputId": "2a1457c0-c4a8-4280-97e1-f9c964f4db31",
        "colab": {
          "base_uri": "https://localhost:8080/",
          "height": 80
        }
      },
      "source": [
        "page[1]         #see what the second element of 2 is"
      ],
      "execution_count": 6,
      "outputs": [
        {
          "output_type": "execute_result",
          "data": {
            "text/html": [
              "<div>\n",
              "<style scoped>\n",
              "    .dataframe tbody tr th:only-of-type {\n",
              "        vertical-align: middle;\n",
              "    }\n",
              "\n",
              "    .dataframe tbody tr th {\n",
              "        vertical-align: top;\n",
              "    }\n",
              "\n",
              "    .dataframe thead th {\n",
              "        text-align: right;\n",
              "    }\n",
              "</style>\n",
              "<table border=\"1\" class=\"dataframe\">\n",
              "  <thead>\n",
              "    <tr style=\"text-align: right;\">\n",
              "      <th></th>\n",
              "      <th>0</th>\n",
              "    </tr>\n",
              "  </thead>\n",
              "  <tbody>\n",
              "    <tr>\n",
              "      <th>0</th>\n",
              "      <td>The U.S. population reached 300,000,000 on 17 ...</td>\n",
              "    </tr>\n",
              "  </tbody>\n",
              "</table>\n",
              "</div>"
            ],
            "text/plain": [
              "                                                   0\n",
              "0  The U.S. population reached 300,000,000 on 17 ..."
            ]
          },
          "metadata": {
            "tags": []
          },
          "execution_count": 6
        }
      ]
    },
    {
      "cell_type": "markdown",
      "metadata": {
        "id": "jsdFXlk-XJKz"
      },
      "source": [
        "#### We don't need this one"
      ]
    },
    {
      "cell_type": "code",
      "metadata": {
        "id": "l0Tkq-BpMDuw",
        "outputId": "3c8a8a51-02ed-41e0-e77c-d4b29192f395",
        "colab": {
          "base_uri": "https://localhost:8080/",
          "height": 34
        }
      },
      "source": [
        "df.columns"
      ],
      "execution_count": 7,
      "outputs": [
        {
          "output_type": "execute_result",
          "data": {
            "text/plain": [
              "Int64Index([0, 1, 2, 3], dtype='int64')"
            ]
          },
          "metadata": {
            "tags": []
          },
          "execution_count": 7
        }
      ]
    },
    {
      "cell_type": "markdown",
      "metadata": {
        "id": "hf2UhniMXQGS"
      },
      "source": [
        "## Replace row 1 as header for the data frame"
      ]
    },
    {
      "cell_type": "code",
      "metadata": {
        "id": "l52Qh2dwMAmy",
        "outputId": "0e2b5bb7-b274-46c3-e069-b425f393e209",
        "colab": {
          "base_uri": "https://localhost:8080/",
          "height": 204
        }
      },
      "source": [
        "df.columns=df.iloc[0]                    #assign row 1 as column headings\n",
        "data=df.drop([0])                        #get rid of row 1\n",
        "data.head()\n",
        "\n"
      ],
      "execution_count": 8,
      "outputs": [
        {
          "output_type": "execute_result",
          "data": {
            "text/html": [
              "<div>\n",
              "<style scoped>\n",
              "    .dataframe tbody tr th:only-of-type {\n",
              "        vertical-align: middle;\n",
              "    }\n",
              "\n",
              "    .dataframe tbody tr th {\n",
              "        vertical-align: top;\n",
              "    }\n",
              "\n",
              "    .dataframe thead th {\n",
              "        text-align: right;\n",
              "    }\n",
              "</style>\n",
              "<table border=\"1\" class=\"dataframe\">\n",
              "  <thead>\n",
              "    <tr style=\"text-align: right;\">\n",
              "      <th></th>\n",
              "      <th>Census Year</th>\n",
              "      <th>Total Population</th>\n",
              "      <th>Census Cost</th>\n",
              "      <th>Average Cost Per Person</th>\n",
              "    </tr>\n",
              "  </thead>\n",
              "  <tbody>\n",
              "    <tr>\n",
              "      <th>1</th>\n",
              "      <td>1790</td>\n",
              "      <td>3929214</td>\n",
              "      <td>$44,377</td>\n",
              "      <td>1.13 cents</td>\n",
              "    </tr>\n",
              "    <tr>\n",
              "      <th>2</th>\n",
              "      <td>1800</td>\n",
              "      <td>5308483</td>\n",
              "      <td>$66,109</td>\n",
              "      <td>1.24 cents</td>\n",
              "    </tr>\n",
              "    <tr>\n",
              "      <th>3</th>\n",
              "      <td>1810</td>\n",
              "      <td>7239881</td>\n",
              "      <td>$178,445</td>\n",
              "      <td>2.46 cents</td>\n",
              "    </tr>\n",
              "    <tr>\n",
              "      <th>4</th>\n",
              "      <td>1820</td>\n",
              "      <td>9633822</td>\n",
              "      <td>$208,526</td>\n",
              "      <td>2.16 cents</td>\n",
              "    </tr>\n",
              "    <tr>\n",
              "      <th>5</th>\n",
              "      <td>1830</td>\n",
              "      <td>12866020</td>\n",
              "      <td>$378,545</td>\n",
              "      <td>2.94 cents</td>\n",
              "    </tr>\n",
              "  </tbody>\n",
              "</table>\n",
              "</div>"
            ],
            "text/plain": [
              "0 Census Year Total Population Census Cost Average Cost Per Person\n",
              "1        1790          3929214     $44,377              1.13 cents\n",
              "2        1800          5308483     $66,109              1.24 cents\n",
              "3        1810          7239881    $178,445              2.46 cents\n",
              "4        1820          9633822    $208,526              2.16 cents\n",
              "5        1830         12866020    $378,545              2.94 cents"
            ]
          },
          "metadata": {
            "tags": []
          },
          "execution_count": 8
        }
      ]
    },
    {
      "cell_type": "markdown",
      "metadata": {
        "id": "vxqMQJ66aEu3"
      },
      "source": [
        "## Make a function to address issues above and cleanse the data"
      ]
    },
    {
      "cell_type": "markdown",
      "metadata": {
        "id": "IlruptE_hm_n"
      },
      "source": [
        "### Cleanse years"
      ]
    },
    {
      "cell_type": "code",
      "metadata": {
        "id": "bcfEY1YmNiIT"
      },
      "source": [
        "def cleanse_year(raw_year):\n",
        "  new_year=raw_year.replace('*','')           #replace asterisk with nothing\n",
        "  return new_year"
      ],
      "execution_count": 9,
      "outputs": []
    },
    {
      "cell_type": "code",
      "metadata": {
        "id": "BiWpKxGnc-EG",
        "outputId": "c2147c8f-4632-4c3d-fb70-7c2b09b9b5a7",
        "colab": {
          "base_uri": "https://localhost:8080/",
          "height": 35
        }
      },
      "source": [
        "cleanse_year('1998*')                         #testing"
      ],
      "execution_count": 10,
      "outputs": [
        {
          "output_type": "execute_result",
          "data": {
            "application/vnd.google.colaboratory.intrinsic+json": {
              "type": "string"
            },
            "text/plain": [
              "'1998'"
            ]
          },
          "metadata": {
            "tags": []
          },
          "execution_count": 10
        }
      ]
    },
    {
      "cell_type": "code",
      "metadata": {
        "id": "ZlNzSEpzdPqE",
        "outputId": "60d2ef5f-a7fe-4a8f-8355-ff32cc189b86",
        "colab": {
          "base_uri": "https://localhost:8080/",
          "height": 35
        }
      },
      "source": [
        "cleanse_year('20*10')                         #testing"
      ],
      "execution_count": 11,
      "outputs": [
        {
          "output_type": "execute_result",
          "data": {
            "application/vnd.google.colaboratory.intrinsic+json": {
              "type": "string"
            },
            "text/plain": [
              "'2010'"
            ]
          },
          "metadata": {
            "tags": []
          },
          "execution_count": 11
        }
      ]
    },
    {
      "cell_type": "code",
      "metadata": {
        "id": "07lLgSc0bKsK",
        "outputId": "0e3e1814-86fc-40dc-8992-9b3fcefeebdc",
        "colab": {
          "base_uri": "https://localhost:8080/",
          "height": 762
        }
      },
      "source": [
        "data[\"Census Year\"]=data[\"Census Year\"].apply(cleanse_year)   #use function to cleanse years and then replace with \n",
        "data                                                          #cleansed years\n",
        "\n"
      ],
      "execution_count": 12,
      "outputs": [
        {
          "output_type": "execute_result",
          "data": {
            "text/html": [
              "<div>\n",
              "<style scoped>\n",
              "    .dataframe tbody tr th:only-of-type {\n",
              "        vertical-align: middle;\n",
              "    }\n",
              "\n",
              "    .dataframe tbody tr th {\n",
              "        vertical-align: top;\n",
              "    }\n",
              "\n",
              "    .dataframe thead th {\n",
              "        text-align: right;\n",
              "    }\n",
              "</style>\n",
              "<table border=\"1\" class=\"dataframe\">\n",
              "  <thead>\n",
              "    <tr style=\"text-align: right;\">\n",
              "      <th></th>\n",
              "      <th>Census Year</th>\n",
              "      <th>Total Population</th>\n",
              "      <th>Census Cost</th>\n",
              "      <th>Average Cost Per Person</th>\n",
              "    </tr>\n",
              "  </thead>\n",
              "  <tbody>\n",
              "    <tr>\n",
              "      <th>1</th>\n",
              "      <td>1790</td>\n",
              "      <td>3929214</td>\n",
              "      <td>$44,377</td>\n",
              "      <td>1.13 cents</td>\n",
              "    </tr>\n",
              "    <tr>\n",
              "      <th>2</th>\n",
              "      <td>1800</td>\n",
              "      <td>5308483</td>\n",
              "      <td>$66,109</td>\n",
              "      <td>1.24 cents</td>\n",
              "    </tr>\n",
              "    <tr>\n",
              "      <th>3</th>\n",
              "      <td>1810</td>\n",
              "      <td>7239881</td>\n",
              "      <td>$178,445</td>\n",
              "      <td>2.46 cents</td>\n",
              "    </tr>\n",
              "    <tr>\n",
              "      <th>4</th>\n",
              "      <td>1820</td>\n",
              "      <td>9633822</td>\n",
              "      <td>$208,526</td>\n",
              "      <td>2.16 cents</td>\n",
              "    </tr>\n",
              "    <tr>\n",
              "      <th>5</th>\n",
              "      <td>1830</td>\n",
              "      <td>12866020</td>\n",
              "      <td>$378,545</td>\n",
              "      <td>2.94 cents</td>\n",
              "    </tr>\n",
              "    <tr>\n",
              "      <th>6</th>\n",
              "      <td>1840</td>\n",
              "      <td>17069458</td>\n",
              "      <td>$833,371</td>\n",
              "      <td>4.88 cents</td>\n",
              "    </tr>\n",
              "    <tr>\n",
              "      <th>7</th>\n",
              "      <td>1850</td>\n",
              "      <td>23191876</td>\n",
              "      <td>$1,423,351</td>\n",
              "      <td>6.14 cents</td>\n",
              "    </tr>\n",
              "    <tr>\n",
              "      <th>8</th>\n",
              "      <td>1860</td>\n",
              "      <td>31443321</td>\n",
              "      <td>$1,969,377</td>\n",
              "      <td>6.26 cents</td>\n",
              "    </tr>\n",
              "    <tr>\n",
              "      <th>9</th>\n",
              "      <td>1870</td>\n",
              "      <td>38558371</td>\n",
              "      <td>$3,421,198</td>\n",
              "      <td>8.87 cents</td>\n",
              "    </tr>\n",
              "    <tr>\n",
              "      <th>10</th>\n",
              "      <td>1880</td>\n",
              "      <td>50155783</td>\n",
              "      <td>$5,790,678</td>\n",
              "      <td>11.54 cents</td>\n",
              "    </tr>\n",
              "    <tr>\n",
              "      <th>11</th>\n",
              "      <td>1890</td>\n",
              "      <td>62979766</td>\n",
              "      <td>$11,547,127</td>\n",
              "      <td>18.33 cents</td>\n",
              "    </tr>\n",
              "    <tr>\n",
              "      <th>12</th>\n",
              "      <td>1900</td>\n",
              "      <td>76303387</td>\n",
              "      <td>$11,854,000</td>\n",
              "      <td>15.54 cents</td>\n",
              "    </tr>\n",
              "    <tr>\n",
              "      <th>13</th>\n",
              "      <td>1910</td>\n",
              "      <td>91972266</td>\n",
              "      <td>$15,968,000</td>\n",
              "      <td>17.07 cents</td>\n",
              "    </tr>\n",
              "    <tr>\n",
              "      <th>14</th>\n",
              "      <td>1920</td>\n",
              "      <td>105710620</td>\n",
              "      <td>$25,117,000</td>\n",
              "      <td>23.76 cents</td>\n",
              "    </tr>\n",
              "    <tr>\n",
              "      <th>15</th>\n",
              "      <td>1930</td>\n",
              "      <td>122775046</td>\n",
              "      <td>$40,156,000</td>\n",
              "      <td>32.71 cents</td>\n",
              "    </tr>\n",
              "    <tr>\n",
              "      <th>16</th>\n",
              "      <td>1940</td>\n",
              "      <td>131669275</td>\n",
              "      <td>$67,527,000</td>\n",
              "      <td>51.29 cents</td>\n",
              "    </tr>\n",
              "    <tr>\n",
              "      <th>17</th>\n",
              "      <td>1950</td>\n",
              "      <td>151325798</td>\n",
              "      <td>$91,462,000</td>\n",
              "      <td>60.44 cents</td>\n",
              "    </tr>\n",
              "    <tr>\n",
              "      <th>18</th>\n",
              "      <td>1960</td>\n",
              "      <td>179323175</td>\n",
              "      <td>$127,934,000</td>\n",
              "      <td>71.34 cents</td>\n",
              "    </tr>\n",
              "    <tr>\n",
              "      <th>19</th>\n",
              "      <td>1970</td>\n",
              "      <td>203302031</td>\n",
              "      <td>$247,653,000</td>\n",
              "      <td>$1.22</td>\n",
              "    </tr>\n",
              "    <tr>\n",
              "      <th>20</th>\n",
              "      <td>1980</td>\n",
              "      <td>226542199</td>\n",
              "      <td>$1,078,488,000</td>\n",
              "      <td>$4.76</td>\n",
              "    </tr>\n",
              "    <tr>\n",
              "      <th>21</th>\n",
              "      <td>1990</td>\n",
              "      <td>248718301</td>\n",
              "      <td>$2,492,830,000</td>\n",
              "      <td>$10.02</td>\n",
              "    </tr>\n",
              "    <tr>\n",
              "      <th>22</th>\n",
              "      <td>2000</td>\n",
              "      <td>281421906</td>\n",
              "      <td>$4.5 Billion</td>\n",
              "      <td>$15.99</td>\n",
              "    </tr>\n",
              "    <tr>\n",
              "      <th>23</th>\n",
              "      <td>2010</td>\n",
              "      <td>308745538</td>\n",
              "      <td>$13 Billion</td>\n",
              "      <td>$42.11</td>\n",
              "    </tr>\n",
              "  </tbody>\n",
              "</table>\n",
              "</div>"
            ],
            "text/plain": [
              "0  Census Year Total Population     Census Cost Average Cost Per Person\n",
              "1         1790          3929214         $44,377              1.13 cents\n",
              "2         1800          5308483         $66,109              1.24 cents\n",
              "3         1810          7239881        $178,445              2.46 cents\n",
              "4         1820          9633822        $208,526              2.16 cents\n",
              "5         1830         12866020        $378,545              2.94 cents\n",
              "6         1840         17069458        $833,371              4.88 cents\n",
              "7         1850         23191876      $1,423,351              6.14 cents\n",
              "8         1860         31443321      $1,969,377              6.26 cents\n",
              "9         1870         38558371      $3,421,198              8.87 cents\n",
              "10        1880         50155783      $5,790,678             11.54 cents\n",
              "11        1890         62979766     $11,547,127             18.33 cents\n",
              "12        1900         76303387     $11,854,000             15.54 cents\n",
              "13        1910         91972266     $15,968,000             17.07 cents\n",
              "14        1920        105710620     $25,117,000             23.76 cents\n",
              "15        1930        122775046     $40,156,000             32.71 cents\n",
              "16        1940        131669275     $67,527,000             51.29 cents\n",
              "17        1950        151325798     $91,462,000             60.44 cents\n",
              "18        1960        179323175    $127,934,000             71.34 cents\n",
              "19        1970        203302031    $247,653,000                   $1.22\n",
              "20        1980        226542199  $1,078,488,000                   $4.76\n",
              "21        1990        248718301  $2,492,830,000                  $10.02\n",
              "22        2000        281421906    $4.5 Billion                  $15.99\n",
              "23        2010        308745538     $13 Billion                  $42.11"
            ]
          },
          "metadata": {
            "tags": []
          },
          "execution_count": 12
        }
      ]
    },
    {
      "cell_type": "markdown",
      "metadata": {
        "id": "Cogm6nBhh0SQ"
      },
      "source": [
        "### Cleanse cost"
      ]
    },
    {
      "cell_type": "code",
      "metadata": {
        "id": "wCgVsakOcrsQ"
      },
      "source": [
        "def cleanse_cost(raw_cost):\n",
        "  new_cost=raw_cost.replace('$','').replace(',','').replace(' Billion','')  #replace $, commas, and Billion with nothing\n",
        "  if raw_cost.find('4.5') != -1:                                            #if 4.5, change to 4500000000\n",
        "    new_cost='4500000000'\n",
        "  elif raw_cost.find('13') != -1:                                           #if 13, change to 13000000000\n",
        "    new_cost='13000000000'\n",
        "  return new_cost\n"
      ],
      "execution_count": 13,
      "outputs": []
    },
    {
      "cell_type": "code",
      "metadata": {
        "id": "zsse4LprfXuT",
        "outputId": "0eeece5d-217a-42a2-80e4-b67c57cc648c",
        "colab": {
          "base_uri": "https://localhost:8080/",
          "height": 35
        }
      },
      "source": [
        "cleanse_cost('$37')                 #testing"
      ],
      "execution_count": 14,
      "outputs": [
        {
          "output_type": "execute_result",
          "data": {
            "application/vnd.google.colaboratory.intrinsic+json": {
              "type": "string"
            },
            "text/plain": [
              "'37'"
            ]
          },
          "metadata": {
            "tags": []
          },
          "execution_count": 14
        }
      ]
    },
    {
      "cell_type": "code",
      "metadata": {
        "id": "ujsH4FaZfb2t",
        "outputId": "840c5c28-4330-4bf0-c1d6-8ee101eabaa2",
        "colab": {
          "base_uri": "https://localhost:8080/",
          "height": 35
        }
      },
      "source": [
        "cleanse_cost('5 Billion')           #testing"
      ],
      "execution_count": 15,
      "outputs": [
        {
          "output_type": "execute_result",
          "data": {
            "application/vnd.google.colaboratory.intrinsic+json": {
              "type": "string"
            },
            "text/plain": [
              "'5'"
            ]
          },
          "metadata": {
            "tags": []
          },
          "execution_count": 15
        }
      ]
    },
    {
      "cell_type": "code",
      "metadata": {
        "id": "kLh4E1uffhm3",
        "outputId": "6ea76b49-594d-4e0e-bf59-bc8b5af581aa",
        "colab": {
          "base_uri": "https://localhost:8080/",
          "height": 35
        }
      },
      "source": [
        "cleanse_cost('$1,078,488,000')      #testing"
      ],
      "execution_count": 16,
      "outputs": [
        {
          "output_type": "execute_result",
          "data": {
            "application/vnd.google.colaboratory.intrinsic+json": {
              "type": "string"
            },
            "text/plain": [
              "'1078488000'"
            ]
          },
          "metadata": {
            "tags": []
          },
          "execution_count": 16
        }
      ]
    },
    {
      "cell_type": "code",
      "metadata": {
        "id": "m07nVzlNfv77",
        "outputId": "828f9884-e2d9-4fd1-984b-faa64e1b5548",
        "colab": {
          "base_uri": "https://localhost:8080/",
          "height": 35
        }
      },
      "source": [
        "cleanse_cost('$4.5 Billion')        #testing"
      ],
      "execution_count": 17,
      "outputs": [
        {
          "output_type": "execute_result",
          "data": {
            "application/vnd.google.colaboratory.intrinsic+json": {
              "type": "string"
            },
            "text/plain": [
              "'4500000000'"
            ]
          },
          "metadata": {
            "tags": []
          },
          "execution_count": 17
        }
      ]
    },
    {
      "cell_type": "code",
      "metadata": {
        "id": "pbq1ZOZdf4OO",
        "outputId": "5193d800-616b-4925-d662-be5a5cb150d1",
        "colab": {
          "base_uri": "https://localhost:8080/",
          "height": 35
        }
      },
      "source": [
        "cleanse_cost('$13 Billion')         #testing"
      ],
      "execution_count": 18,
      "outputs": [
        {
          "output_type": "execute_result",
          "data": {
            "application/vnd.google.colaboratory.intrinsic+json": {
              "type": "string"
            },
            "text/plain": [
              "'13000000000'"
            ]
          },
          "metadata": {
            "tags": []
          },
          "execution_count": 18
        }
      ]
    },
    {
      "cell_type": "code",
      "metadata": {
        "id": "3f7vAdTmhG8V",
        "outputId": "dceaaec2-eb34-478d-e571-685c32ce9676",
        "colab": {
          "base_uri": "https://localhost:8080/",
          "height": 762
        }
      },
      "source": [
        "data[\"Census Cost\"]=data[\"Census Cost\"].apply(cleanse_cost)       #use function to cleanse cost and then replace with\n",
        "data                                                              #cleansed costs\n"
      ],
      "execution_count": 19,
      "outputs": [
        {
          "output_type": "execute_result",
          "data": {
            "text/html": [
              "<div>\n",
              "<style scoped>\n",
              "    .dataframe tbody tr th:only-of-type {\n",
              "        vertical-align: middle;\n",
              "    }\n",
              "\n",
              "    .dataframe tbody tr th {\n",
              "        vertical-align: top;\n",
              "    }\n",
              "\n",
              "    .dataframe thead th {\n",
              "        text-align: right;\n",
              "    }\n",
              "</style>\n",
              "<table border=\"1\" class=\"dataframe\">\n",
              "  <thead>\n",
              "    <tr style=\"text-align: right;\">\n",
              "      <th></th>\n",
              "      <th>Census Year</th>\n",
              "      <th>Total Population</th>\n",
              "      <th>Census Cost</th>\n",
              "      <th>Average Cost Per Person</th>\n",
              "    </tr>\n",
              "  </thead>\n",
              "  <tbody>\n",
              "    <tr>\n",
              "      <th>1</th>\n",
              "      <td>1790</td>\n",
              "      <td>3929214</td>\n",
              "      <td>44377</td>\n",
              "      <td>1.13 cents</td>\n",
              "    </tr>\n",
              "    <tr>\n",
              "      <th>2</th>\n",
              "      <td>1800</td>\n",
              "      <td>5308483</td>\n",
              "      <td>66109</td>\n",
              "      <td>1.24 cents</td>\n",
              "    </tr>\n",
              "    <tr>\n",
              "      <th>3</th>\n",
              "      <td>1810</td>\n",
              "      <td>7239881</td>\n",
              "      <td>178445</td>\n",
              "      <td>2.46 cents</td>\n",
              "    </tr>\n",
              "    <tr>\n",
              "      <th>4</th>\n",
              "      <td>1820</td>\n",
              "      <td>9633822</td>\n",
              "      <td>208526</td>\n",
              "      <td>2.16 cents</td>\n",
              "    </tr>\n",
              "    <tr>\n",
              "      <th>5</th>\n",
              "      <td>1830</td>\n",
              "      <td>12866020</td>\n",
              "      <td>378545</td>\n",
              "      <td>2.94 cents</td>\n",
              "    </tr>\n",
              "    <tr>\n",
              "      <th>6</th>\n",
              "      <td>1840</td>\n",
              "      <td>17069458</td>\n",
              "      <td>833371</td>\n",
              "      <td>4.88 cents</td>\n",
              "    </tr>\n",
              "    <tr>\n",
              "      <th>7</th>\n",
              "      <td>1850</td>\n",
              "      <td>23191876</td>\n",
              "      <td>1423351</td>\n",
              "      <td>6.14 cents</td>\n",
              "    </tr>\n",
              "    <tr>\n",
              "      <th>8</th>\n",
              "      <td>1860</td>\n",
              "      <td>31443321</td>\n",
              "      <td>1969377</td>\n",
              "      <td>6.26 cents</td>\n",
              "    </tr>\n",
              "    <tr>\n",
              "      <th>9</th>\n",
              "      <td>1870</td>\n",
              "      <td>38558371</td>\n",
              "      <td>3421198</td>\n",
              "      <td>8.87 cents</td>\n",
              "    </tr>\n",
              "    <tr>\n",
              "      <th>10</th>\n",
              "      <td>1880</td>\n",
              "      <td>50155783</td>\n",
              "      <td>5790678</td>\n",
              "      <td>11.54 cents</td>\n",
              "    </tr>\n",
              "    <tr>\n",
              "      <th>11</th>\n",
              "      <td>1890</td>\n",
              "      <td>62979766</td>\n",
              "      <td>11547127</td>\n",
              "      <td>18.33 cents</td>\n",
              "    </tr>\n",
              "    <tr>\n",
              "      <th>12</th>\n",
              "      <td>1900</td>\n",
              "      <td>76303387</td>\n",
              "      <td>11854000</td>\n",
              "      <td>15.54 cents</td>\n",
              "    </tr>\n",
              "    <tr>\n",
              "      <th>13</th>\n",
              "      <td>1910</td>\n",
              "      <td>91972266</td>\n",
              "      <td>15968000</td>\n",
              "      <td>17.07 cents</td>\n",
              "    </tr>\n",
              "    <tr>\n",
              "      <th>14</th>\n",
              "      <td>1920</td>\n",
              "      <td>105710620</td>\n",
              "      <td>25117000</td>\n",
              "      <td>23.76 cents</td>\n",
              "    </tr>\n",
              "    <tr>\n",
              "      <th>15</th>\n",
              "      <td>1930</td>\n",
              "      <td>122775046</td>\n",
              "      <td>40156000</td>\n",
              "      <td>32.71 cents</td>\n",
              "    </tr>\n",
              "    <tr>\n",
              "      <th>16</th>\n",
              "      <td>1940</td>\n",
              "      <td>131669275</td>\n",
              "      <td>67527000</td>\n",
              "      <td>51.29 cents</td>\n",
              "    </tr>\n",
              "    <tr>\n",
              "      <th>17</th>\n",
              "      <td>1950</td>\n",
              "      <td>151325798</td>\n",
              "      <td>91462000</td>\n",
              "      <td>60.44 cents</td>\n",
              "    </tr>\n",
              "    <tr>\n",
              "      <th>18</th>\n",
              "      <td>1960</td>\n",
              "      <td>179323175</td>\n",
              "      <td>127934000</td>\n",
              "      <td>71.34 cents</td>\n",
              "    </tr>\n",
              "    <tr>\n",
              "      <th>19</th>\n",
              "      <td>1970</td>\n",
              "      <td>203302031</td>\n",
              "      <td>247653000</td>\n",
              "      <td>$1.22</td>\n",
              "    </tr>\n",
              "    <tr>\n",
              "      <th>20</th>\n",
              "      <td>1980</td>\n",
              "      <td>226542199</td>\n",
              "      <td>1078488000</td>\n",
              "      <td>$4.76</td>\n",
              "    </tr>\n",
              "    <tr>\n",
              "      <th>21</th>\n",
              "      <td>1990</td>\n",
              "      <td>248718301</td>\n",
              "      <td>2492830000</td>\n",
              "      <td>$10.02</td>\n",
              "    </tr>\n",
              "    <tr>\n",
              "      <th>22</th>\n",
              "      <td>2000</td>\n",
              "      <td>281421906</td>\n",
              "      <td>4500000000</td>\n",
              "      <td>$15.99</td>\n",
              "    </tr>\n",
              "    <tr>\n",
              "      <th>23</th>\n",
              "      <td>2010</td>\n",
              "      <td>308745538</td>\n",
              "      <td>13000000000</td>\n",
              "      <td>$42.11</td>\n",
              "    </tr>\n",
              "  </tbody>\n",
              "</table>\n",
              "</div>"
            ],
            "text/plain": [
              "0  Census Year Total Population  Census Cost Average Cost Per Person\n",
              "1         1790          3929214        44377              1.13 cents\n",
              "2         1800          5308483        66109              1.24 cents\n",
              "3         1810          7239881       178445              2.46 cents\n",
              "4         1820          9633822       208526              2.16 cents\n",
              "5         1830         12866020       378545              2.94 cents\n",
              "6         1840         17069458       833371              4.88 cents\n",
              "7         1850         23191876      1423351              6.14 cents\n",
              "8         1860         31443321      1969377              6.26 cents\n",
              "9         1870         38558371      3421198              8.87 cents\n",
              "10        1880         50155783      5790678             11.54 cents\n",
              "11        1890         62979766     11547127             18.33 cents\n",
              "12        1900         76303387     11854000             15.54 cents\n",
              "13        1910         91972266     15968000             17.07 cents\n",
              "14        1920        105710620     25117000             23.76 cents\n",
              "15        1930        122775046     40156000             32.71 cents\n",
              "16        1940        131669275     67527000             51.29 cents\n",
              "17        1950        151325798     91462000             60.44 cents\n",
              "18        1960        179323175    127934000             71.34 cents\n",
              "19        1970        203302031    247653000                   $1.22\n",
              "20        1980        226542199   1078488000                   $4.76\n",
              "21        1990        248718301   2492830000                  $10.02\n",
              "22        2000        281421906   4500000000                  $15.99\n",
              "23        2010        308745538  13000000000                  $42.11"
            ]
          },
          "metadata": {
            "tags": []
          },
          "execution_count": 19
        }
      ]
    },
    {
      "cell_type": "markdown",
      "metadata": {
        "id": "NVCOYwMWh6uY"
      },
      "source": [
        "### Cleanse average cost"
      ]
    },
    {
      "cell_type": "code",
      "metadata": {
        "id": "iuO7dnCAtbsA"
      },
      "source": [
        "def cleanse_avg(raw_avg):\n",
        "  \n",
        "  if raw_avg.find('cents') != -1:                    #if you see 'cents'\n",
        "    new_avg=float(raw_avg.replace('cents',''))/100   #replace it with nothing, change to a float, and divide by 100\n",
        "  elif raw_avg.find('$') != -1:                      #if you see a '$'\n",
        "    new_avg=raw_avg.replace('$','')                  #replace it with nothing\n",
        "  else: new_avg=raw_avg\n",
        "  return new_avg\n"
      ],
      "execution_count": 20,
      "outputs": []
    },
    {
      "cell_type": "code",
      "metadata": {
        "id": "YCTckgpRlFig",
        "outputId": "266ee626-9eb8-4038-adfd-9666a501e693",
        "colab": {
          "base_uri": "https://localhost:8080/",
          "height": 34
        }
      },
      "source": [
        "cleanse_avg('1.13 cents')"
      ],
      "execution_count": 21,
      "outputs": [
        {
          "output_type": "execute_result",
          "data": {
            "text/plain": [
              "0.0113"
            ]
          },
          "metadata": {
            "tags": []
          },
          "execution_count": 21
        }
      ]
    },
    {
      "cell_type": "code",
      "metadata": {
        "id": "25nMdDKHlPS3",
        "outputId": "e28cb309-c19b-491b-ce23-61fd9c0dde80",
        "colab": {
          "base_uri": "https://localhost:8080/",
          "height": 35
        }
      },
      "source": [
        "cleanse_avg('$1.22')"
      ],
      "execution_count": 22,
      "outputs": [
        {
          "output_type": "execute_result",
          "data": {
            "application/vnd.google.colaboratory.intrinsic+json": {
              "type": "string"
            },
            "text/plain": [
              "'1.22'"
            ]
          },
          "metadata": {
            "tags": []
          },
          "execution_count": 22
        }
      ]
    },
    {
      "cell_type": "code",
      "metadata": {
        "id": "CiH2WsUNlWow",
        "outputId": "785230a1-f816-499f-fc5b-ff7e120ad8fd",
        "colab": {
          "base_uri": "https://localhost:8080/",
          "height": 762
        }
      },
      "source": [
        "data[\"Average Cost Per Person\"]=data[\"Average Cost Per Person\"].apply(cleanse_avg)  #use function to cleanse avg cost and then replace with\n",
        "data                                                                                #cleansed avg costs\n"
      ],
      "execution_count": 23,
      "outputs": [
        {
          "output_type": "execute_result",
          "data": {
            "text/html": [
              "<div>\n",
              "<style scoped>\n",
              "    .dataframe tbody tr th:only-of-type {\n",
              "        vertical-align: middle;\n",
              "    }\n",
              "\n",
              "    .dataframe tbody tr th {\n",
              "        vertical-align: top;\n",
              "    }\n",
              "\n",
              "    .dataframe thead th {\n",
              "        text-align: right;\n",
              "    }\n",
              "</style>\n",
              "<table border=\"1\" class=\"dataframe\">\n",
              "  <thead>\n",
              "    <tr style=\"text-align: right;\">\n",
              "      <th></th>\n",
              "      <th>Census Year</th>\n",
              "      <th>Total Population</th>\n",
              "      <th>Census Cost</th>\n",
              "      <th>Average Cost Per Person</th>\n",
              "    </tr>\n",
              "  </thead>\n",
              "  <tbody>\n",
              "    <tr>\n",
              "      <th>1</th>\n",
              "      <td>1790</td>\n",
              "      <td>3929214</td>\n",
              "      <td>44377</td>\n",
              "      <td>0.0113</td>\n",
              "    </tr>\n",
              "    <tr>\n",
              "      <th>2</th>\n",
              "      <td>1800</td>\n",
              "      <td>5308483</td>\n",
              "      <td>66109</td>\n",
              "      <td>0.0124</td>\n",
              "    </tr>\n",
              "    <tr>\n",
              "      <th>3</th>\n",
              "      <td>1810</td>\n",
              "      <td>7239881</td>\n",
              "      <td>178445</td>\n",
              "      <td>0.0246</td>\n",
              "    </tr>\n",
              "    <tr>\n",
              "      <th>4</th>\n",
              "      <td>1820</td>\n",
              "      <td>9633822</td>\n",
              "      <td>208526</td>\n",
              "      <td>0.0216</td>\n",
              "    </tr>\n",
              "    <tr>\n",
              "      <th>5</th>\n",
              "      <td>1830</td>\n",
              "      <td>12866020</td>\n",
              "      <td>378545</td>\n",
              "      <td>0.0294</td>\n",
              "    </tr>\n",
              "    <tr>\n",
              "      <th>6</th>\n",
              "      <td>1840</td>\n",
              "      <td>17069458</td>\n",
              "      <td>833371</td>\n",
              "      <td>0.0488</td>\n",
              "    </tr>\n",
              "    <tr>\n",
              "      <th>7</th>\n",
              "      <td>1850</td>\n",
              "      <td>23191876</td>\n",
              "      <td>1423351</td>\n",
              "      <td>0.0614</td>\n",
              "    </tr>\n",
              "    <tr>\n",
              "      <th>8</th>\n",
              "      <td>1860</td>\n",
              "      <td>31443321</td>\n",
              "      <td>1969377</td>\n",
              "      <td>0.0626</td>\n",
              "    </tr>\n",
              "    <tr>\n",
              "      <th>9</th>\n",
              "      <td>1870</td>\n",
              "      <td>38558371</td>\n",
              "      <td>3421198</td>\n",
              "      <td>0.0887</td>\n",
              "    </tr>\n",
              "    <tr>\n",
              "      <th>10</th>\n",
              "      <td>1880</td>\n",
              "      <td>50155783</td>\n",
              "      <td>5790678</td>\n",
              "      <td>0.1154</td>\n",
              "    </tr>\n",
              "    <tr>\n",
              "      <th>11</th>\n",
              "      <td>1890</td>\n",
              "      <td>62979766</td>\n",
              "      <td>11547127</td>\n",
              "      <td>0.1833</td>\n",
              "    </tr>\n",
              "    <tr>\n",
              "      <th>12</th>\n",
              "      <td>1900</td>\n",
              "      <td>76303387</td>\n",
              "      <td>11854000</td>\n",
              "      <td>0.1554</td>\n",
              "    </tr>\n",
              "    <tr>\n",
              "      <th>13</th>\n",
              "      <td>1910</td>\n",
              "      <td>91972266</td>\n",
              "      <td>15968000</td>\n",
              "      <td>0.1707</td>\n",
              "    </tr>\n",
              "    <tr>\n",
              "      <th>14</th>\n",
              "      <td>1920</td>\n",
              "      <td>105710620</td>\n",
              "      <td>25117000</td>\n",
              "      <td>0.2376</td>\n",
              "    </tr>\n",
              "    <tr>\n",
              "      <th>15</th>\n",
              "      <td>1930</td>\n",
              "      <td>122775046</td>\n",
              "      <td>40156000</td>\n",
              "      <td>0.3271</td>\n",
              "    </tr>\n",
              "    <tr>\n",
              "      <th>16</th>\n",
              "      <td>1940</td>\n",
              "      <td>131669275</td>\n",
              "      <td>67527000</td>\n",
              "      <td>0.5129</td>\n",
              "    </tr>\n",
              "    <tr>\n",
              "      <th>17</th>\n",
              "      <td>1950</td>\n",
              "      <td>151325798</td>\n",
              "      <td>91462000</td>\n",
              "      <td>0.6044</td>\n",
              "    </tr>\n",
              "    <tr>\n",
              "      <th>18</th>\n",
              "      <td>1960</td>\n",
              "      <td>179323175</td>\n",
              "      <td>127934000</td>\n",
              "      <td>0.7134</td>\n",
              "    </tr>\n",
              "    <tr>\n",
              "      <th>19</th>\n",
              "      <td>1970</td>\n",
              "      <td>203302031</td>\n",
              "      <td>247653000</td>\n",
              "      <td>1.22</td>\n",
              "    </tr>\n",
              "    <tr>\n",
              "      <th>20</th>\n",
              "      <td>1980</td>\n",
              "      <td>226542199</td>\n",
              "      <td>1078488000</td>\n",
              "      <td>4.76</td>\n",
              "    </tr>\n",
              "    <tr>\n",
              "      <th>21</th>\n",
              "      <td>1990</td>\n",
              "      <td>248718301</td>\n",
              "      <td>2492830000</td>\n",
              "      <td>10.02</td>\n",
              "    </tr>\n",
              "    <tr>\n",
              "      <th>22</th>\n",
              "      <td>2000</td>\n",
              "      <td>281421906</td>\n",
              "      <td>4500000000</td>\n",
              "      <td>15.99</td>\n",
              "    </tr>\n",
              "    <tr>\n",
              "      <th>23</th>\n",
              "      <td>2010</td>\n",
              "      <td>308745538</td>\n",
              "      <td>13000000000</td>\n",
              "      <td>42.11</td>\n",
              "    </tr>\n",
              "  </tbody>\n",
              "</table>\n",
              "</div>"
            ],
            "text/plain": [
              "0  Census Year Total Population  Census Cost Average Cost Per Person\n",
              "1         1790          3929214        44377                  0.0113\n",
              "2         1800          5308483        66109                  0.0124\n",
              "3         1810          7239881       178445                  0.0246\n",
              "4         1820          9633822       208526                  0.0216\n",
              "5         1830         12866020       378545                  0.0294\n",
              "6         1840         17069458       833371                  0.0488\n",
              "7         1850         23191876      1423351                  0.0614\n",
              "8         1860         31443321      1969377                  0.0626\n",
              "9         1870         38558371      3421198                  0.0887\n",
              "10        1880         50155783      5790678                  0.1154\n",
              "11        1890         62979766     11547127                  0.1833\n",
              "12        1900         76303387     11854000                  0.1554\n",
              "13        1910         91972266     15968000                  0.1707\n",
              "14        1920        105710620     25117000                  0.2376\n",
              "15        1930        122775046     40156000                  0.3271\n",
              "16        1940        131669275     67527000                  0.5129\n",
              "17        1950        151325798     91462000                  0.6044\n",
              "18        1960        179323175    127934000                  0.7134\n",
              "19        1970        203302031    247653000                    1.22\n",
              "20        1980        226542199   1078488000                    4.76\n",
              "21        1990        248718301   2492830000                   10.02\n",
              "22        2000        281421906   4500000000                   15.99\n",
              "23        2010        308745538  13000000000                   42.11"
            ]
          },
          "metadata": {
            "tags": []
          },
          "execution_count": 23
        }
      ]
    },
    {
      "cell_type": "code",
      "metadata": {
        "id": "pF3L8hOij2az",
        "outputId": "b6440ff0-3170-4407-ac29-ee238eaf6d07",
        "colab": {
          "base_uri": "https://localhost:8080/",
          "height": 425
        }
      },
      "source": [
        "data.to_csv (r'census_cost_cleansed.csv', index = False, header=True)\n",
        "print(data)"
      ],
      "execution_count": 24,
      "outputs": [
        {
          "output_type": "stream",
          "text": [
            "0  Census Year Total Population  Census Cost Average Cost Per Person\n",
            "1         1790          3929214        44377                  0.0113\n",
            "2         1800          5308483        66109                  0.0124\n",
            "3         1810          7239881       178445                  0.0246\n",
            "4         1820          9633822       208526                  0.0216\n",
            "5         1830         12866020       378545                  0.0294\n",
            "6         1840         17069458       833371                  0.0488\n",
            "7         1850         23191876      1423351                  0.0614\n",
            "8         1860         31443321      1969377                  0.0626\n",
            "9         1870         38558371      3421198                  0.0887\n",
            "10        1880         50155783      5790678                  0.1154\n",
            "11        1890         62979766     11547127                  0.1833\n",
            "12        1900         76303387     11854000                  0.1554\n",
            "13        1910         91972266     15968000                  0.1707\n",
            "14        1920        105710620     25117000                  0.2376\n",
            "15        1930        122775046     40156000                  0.3271\n",
            "16        1940        131669275     67527000                  0.5129\n",
            "17        1950        151325798     91462000                  0.6044\n",
            "18        1960        179323175    127934000                  0.7134\n",
            "19        1970        203302031    247653000                    1.22\n",
            "20        1980        226542199   1078488000                    4.76\n",
            "21        1990        248718301   2492830000                   10.02\n",
            "22        2000        281421906   4500000000                   15.99\n",
            "23        2010        308745538  13000000000                   42.11\n"
          ],
          "name": "stdout"
        }
      ]
    }
  ]
}