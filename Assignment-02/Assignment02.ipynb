{
 "cells": [
  {
   "cell_type": "markdown",
   "metadata": {},
   "source": [
    "# Assignment 2\n",
    "# Goal:  Have a user input 10 integers and output the integers, max, min, range, mean, standard deviation and variance."
   ]
  },
  {
   "cell_type": "markdown",
   "metadata": {},
   "source": [
    "# Section 1:  Gets the integers the user enters into a list, making sure they're integers"
   ]
  },
  {
   "cell_type": "code",
   "execution_count": null,
   "metadata": {},
   "outputs": [],
   "source": [
    "numbers=list()                            #create an empty list to add to\n",
    "\n",
    "while len(numbers)<10:                    #keep going through the following loop until the length \n",
    "    num=input(\"Enter an integer: \")       #of the list is less than 10 (on the 9th run through \n",
    "    try:                                  #the 10th integer gets added to the list)\n",
    "        fnum=int(num)\n",
    "        numbers.append(fnum)              #use a try/except to test if the input is an integer\n",
    "    except:                               #if the input isn't an integer, the user is told and \n",
    "        print('Invalid input')            #the while loop continues.  If it is, it's appended to \n",
    "        continue                          #the list."
   ]
  },
  {
   "cell_type": "markdown",
   "metadata": {},
   "source": [
    "# Section 2:  Calculates mean"
   ]
  },
  {
   "cell_type": "code",
   "execution_count": null,
   "metadata": {},
   "outputs": [],
   "source": [
    "sum=0                                     #set the variable sum to 0\n",
    "\n",
    "for item in numbers:                      #iterate through the list, adding the items to sum\n",
    "    sum=sum+item\n",
    "mean=sum/len(numbers)                     #calculate the mean, store in variable mean\n"
   ]
  },
  {
   "cell_type": "markdown",
   "metadata": {},
   "source": [
    "# Section 3:  Calculates variance and standard deviation"
   ]
  },
  {
   "cell_type": "code",
   "execution_count": null,
   "metadata": {},
   "outputs": [],
   "source": [
    "squaresums=0                              #set the variable squaresums to 0\n",
    "\n",
    "for item in numbers:                      #iterate through the list, adding the square of the difference\n",
    "    squaresums=squaresums+(item-mean)**2  #between the item and the mean\n",
    "var=squaresums/len(numbers)               #calculate the population variance, store in variable var\n",
    "std=(var)**0.5                            #calculate the population standard deviation, store in std\n"
   ]
  },
  {
   "cell_type": "markdown",
   "metadata": {},
   "source": [
    "# Section 4:  Calculates the max and min"
   ]
  },
  {
   "cell_type": "code",
   "execution_count": null,
   "metadata": {},
   "outputs": [],
   "source": [
    "maxsofar=numbers[0]                       #set the max of the list to the first item in the list\n",
    "minsofar=numbers[0]                       #set the min of the list to the first item in the list\n",
    "\n",
    "for item in numbers:                      #iterate through the list, asking if the item is greater\n",
    "    if item>=maxsofar:                    #than the current set max. If so, replace maxsofar variable.\n",
    "        maxsofar=item\n",
    "for item in numbers:                      #iterate through the list, asking if the item is less\n",
    "    if item<=minsofar:                    #than the current set min. If so, replace minsofar variable.\n",
    "        minsofar=item"
   ]
  },
  {
   "cell_type": "markdown",
   "metadata": {},
   "source": [
    "# Section 5:  Outputs"
   ]
  },
  {
   "cell_type": "code",
   "execution_count": null,
   "metadata": {},
   "outputs": [],
   "source": [
    "print(\"Your numbers are: \", numbers)                        #print list of integers\n",
    "print(\"The minimum of your numbers is: \", minsofar)         #print min\n",
    "print(\"The maximum of your numbers is: \", maxsofar)         #print max\n",
    "print(\"The range of your numbers is: \", maxsofar-minsofar)  #print range by taking max minus min\n",
    "print(\"The mean of your numbers is: \", mean)                #print mean\n",
    "print(\"The variance of your numbers is :\",var)               #print variance\n",
    "print(\"The standard deviation of your numbers is: \",std)    #print standard deviation"
   ]
  }
 ],
 "metadata": {
  "kernelspec": {
   "display_name": "Python 3",
   "language": "python",
   "name": "python3"
  },
  "language_info": {
   "codemirror_mode": {
    "name": "ipython",
    "version": 3
   },
   "file_extension": ".py",
   "mimetype": "text/x-python",
   "name": "python",
   "nbconvert_exporter": "python",
   "pygments_lexer": "ipython3",
   "version": "3.8.1"
  }
 },
 "nbformat": 4,
 "nbformat_minor": 4
}
