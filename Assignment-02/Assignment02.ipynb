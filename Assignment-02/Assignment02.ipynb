{
 "cells": [
  {
   "cell_type": "markdown",
   "metadata": {},
   "source": [
    "# Assignment 2\n",
    "## Goal:  Have a user input 10 integers and output the integers, max, min, range, mean, standard deviation and variance."
   ]
  },
  {
   "cell_type": "code",
   "execution_count": 1,
   "metadata": {},
   "outputs": [
    {
     "name": "stdin",
     "output_type": "stream",
     "text": [
      "Enter an integer:  monkey\n"
     ]
    },
    {
     "name": "stdout",
     "output_type": "stream",
     "text": [
      "Invalid input\n"
     ]
    },
    {
     "name": "stdin",
     "output_type": "stream",
     "text": [
      "Enter an integer:  63\n",
      "Enter an integer:  -129\n",
      "Enter an integer:  32\n",
      "Enter an integer:  0\n",
      "Enter an integer:  0\n",
      "Enter an integer:  0\n",
      "Enter an integer:  y\n"
     ]
    },
    {
     "name": "stdout",
     "output_type": "stream",
     "text": [
      "Invalid input\n"
     ]
    },
    {
     "name": "stdin",
     "output_type": "stream",
     "text": [
      "Enter an integer:  -\n"
     ]
    },
    {
     "name": "stdout",
     "output_type": "stream",
     "text": [
      "Invalid input\n"
     ]
    },
    {
     "name": "stdin",
     "output_type": "stream",
     "text": [
      "Enter an integer:  -15\n",
      "Enter an integer:  +9\n",
      "Enter an integer:  {\n"
     ]
    },
    {
     "name": "stdout",
     "output_type": "stream",
     "text": [
      "Invalid input\n"
     ]
    },
    {
     "name": "stdin",
     "output_type": "stream",
     "text": [
      "Enter an integer:  27\n",
      "Enter an integer:  42\n"
     ]
    },
    {
     "name": "stdout",
     "output_type": "stream",
     "text": [
      "Your numbers are:  [63, -129, 32, 0, 0, 0, -15, 9, 27, 42]\n",
      "The minimum of your numbers is:  -129\n",
      "The maximum of your numbers is:  63\n",
      "The range of your numbers is:  192\n",
      "The mean of your numbers is:  2.9\n",
      "The variance of your number is : 2434.8900000000003\n",
      "The standard deviation of your numbers is:  49.34460456828082\n"
     ]
    }
   ],
   "source": [
    "#gets the integers the user enters into a list, making sure they're integers\n",
    "\n",
    "numbers=list()                            #create an empty list to add to\n",
    "\n",
    "while len(numbers)<10:                    #keep going through the following loop until the length \n",
    "    num=input(\"Enter an integer: \")       #of the list is less than 10 (on the 9th run through \n",
    "    try:                                  #the 10th integer gets added to the list)\n",
    "        fnum=int(num)\n",
    "        numbers.append(fnum)              #use a try/except to test if the input is an integer\n",
    "    except:                               #if the input isn't an integer, the user is told and \n",
    "        print('Invalid input')            #the while loop continues.  If it is, it's appended to \n",
    "        continue                          #the list.\n",
    "\n",
    "#calculates mean\n",
    "\n",
    "sum=0                                     #set the variable sum to 0\n",
    "\n",
    "for item in numbers:                      #iterate through the list, adding the items to sum\n",
    "    sum=sum+item\n",
    "mean=sum/len(numbers)                     #calculate the mean, store in variable mean\n",
    "\n",
    "#calculates variance and standard deviation\n",
    "\n",
    "squaresums=0                              #set the variable squaresums to 0\n",
    "\n",
    "for item in numbers:                      #iterate through the list, adding the square of the difference\n",
    "    squaresums=squaresums+(item-mean)**2  #between the item and the mean\n",
    "var=squaresums/len(numbers)               #calculate the population variance, store in variable var\n",
    "std=(var)**0.5                            #calculate the population standard deviation, store in std\n",
    "\n",
    "#calculates the max and min\n",
    "\n",
    "maxsofar=numbers[0]                       #set the max of the list to the first item in the list\n",
    "minsofar=numbers[0]                       #set the min of the list to the first item in the list\n",
    "\n",
    "for item in numbers:                      #iterate through the list, asking if the item is greater\n",
    "    if item>=maxsofar:                    #than the current set max. If so, replace maxsofar variable.\n",
    "        maxsofar=item\n",
    "for item in numbers:                      #iterate through the list, asking if the item is less\n",
    "    if item<=minsofar:                    #than the current set min. If so, replace minsofar variable.\n",
    "        minsofar=item\n",
    "    \n",
    "print(\"Your numbers are: \", numbers)                        #print list of integers\n",
    "print(\"The minimum of your numbers is: \", minsofar)         #print min\n",
    "print(\"The maximum of your numbers is: \", maxsofar)         #print max\n",
    "print(\"The range of your numbers is: \", maxsofar-minsofar)  #print range by taking max minus min\n",
    "print(\"The mean of your numbers is: \", mean)                #print mean\n",
    "print(\"The variance of your number is :\",var)               #print variance\n",
    "print(\"The standard deviation of your numbers is: \",std)    #print standard deviation\n",
    "\n",
    "\n",
    "\n",
    "\n",
    "    \n",
    "\n",
    "\n"
   ]
  },
  {
   "cell_type": "code",
   "execution_count": null,
   "metadata": {},
   "outputs": [],
   "source": []
  }
 ],
 "metadata": {
  "kernelspec": {
   "display_name": "Python 3",
   "language": "python",
   "name": "python3"
  },
  "language_info": {
   "codemirror_mode": {
    "name": "ipython",
    "version": 3
   },
   "file_extension": ".py",
   "mimetype": "text/x-python",
   "name": "python",
   "nbconvert_exporter": "python",
   "pygments_lexer": "ipython3",
   "version": "3.8.1"
  }
 },
 "nbformat": 4,
 "nbformat_minor": 4
}
