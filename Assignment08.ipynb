{
 "cells": [
  {
   "cell_type": "markdown",
   "metadata": {},
   "source": [
    "# College Scorecard Data Revisited"
   ]
  },
  {
   "cell_type": "code",
   "execution_count": 10,
   "metadata": {},
   "outputs": [],
   "source": [
    "# 1 - Import necessary libraries\n",
    "\n",
    "import numpy as np\n",
    "from scipy import stats\n",
    "import matplotlib.pyplot as plt\n",
    "import seaborn as sns\n",
    "import os "
   ]
  },
  {
   "cell_type": "code",
   "execution_count": 12,
   "metadata": {},
   "outputs": [
    {
     "data": {
      "text/plain": [
       "['MERGED1996_97_PP.csv',\n",
       " 'MERGED1997_98_PP.csv',\n",
       " 'MERGED1998_99_PP.csv',\n",
       " 'MERGED1999_00_PP.csv',\n",
       " 'MERGED2000_01_PP.csv',\n",
       " 'MERGED2001_02_PP.csv',\n",
       " 'MERGED2002_03_PP.csv',\n",
       " 'MERGED2003_04_PP.csv',\n",
       " 'MERGED2004_05_PP.csv',\n",
       " 'MERGED2005_06_PP.csv',\n",
       " 'MERGED2006_07_PP.csv',\n",
       " 'MERGED2007_08_PP.csv',\n",
       " 'MERGED2008_09_PP.csv',\n",
       " 'MERGED2009_10_PP.csv',\n",
       " 'MERGED2010_11_PP.csv',\n",
       " 'MERGED2011_12_PP.csv',\n",
       " 'MERGED2012_13_PP.csv',\n",
       " 'MERGED2013_14_PP.csv',\n",
       " 'MERGED2014_15_PP.csv',\n",
       " 'MERGED2015_16_PP.csv',\n",
       " 'MERGED2016_17_PP.csv',\n",
       " 'MERGED2017_18_PP.csv',\n",
       " 'MERGED2018_19_PP.csv']"
      ]
     },
     "execution_count": 12,
     "metadata": {},
     "output_type": "execute_result"
    }
   ],
   "source": [
    "# 2 - Retrieve the names of the 22 files and assign them to a List variable\n",
    "# You would need to filter out other files\n",
    "# Display the names of these 22 files\n",
    "\n",
    "all_collegescorecard_files=os.listdir('Assignment07\\CollegeScorecard_Raw_Data')\n",
    "\n",
    "college_data_files=[]\n",
    "for file in all_collegescorecard_files:\n",
    "    if file.startswith(\"MER\"):\n",
    "        college_data_files.append(os.path.join(file))\n",
    "\n",
    "college_data_files"
   ]
  },
  {
   "cell_type": "code",
   "execution_count": 29,
   "metadata": {},
   "outputs": [
    {
     "data": {
      "text/plain": [
       "'MERGED2012_13_PP.csv'"
      ]
     },
     "execution_count": 29,
     "metadata": {},
     "output_type": "execute_result"
    }
   ],
   "source": [
    "# 3 - Write code to randomly select one file name out of the 22 files names. \n",
    "# Hint: generate a random integer between 0 and 21 first\n",
    "# Display the file name\n",
    "\n",
    "\n",
    "file_number=np.random.randint(22)\n",
    "rand_file=college_data_files[file_number]\n",
    "rand_file"
   ]
  },
  {
   "cell_type": "code",
   "execution_count": 83,
   "metadata": {},
   "outputs": [
    {
     "name": "stdout",
     "output_type": "stream",
     "text": [
      "<class 'pandas.core.frame.DataFrame'>\n",
      "RangeIndex: 7862 entries, 0 to 7861\n",
      "Data columns (total 2 columns):\n",
      " #   Column         Non-Null Count  Dtype  \n",
      "---  ------         --------------  -----  \n",
      " 0   INSTNM         7862 non-null   object \n",
      " 1   TUITIONFEE_IN  4462 non-null   float64\n",
      "dtypes: float64(1), object(1)\n",
      "memory usage: 123.0+ KB\n"
     ]
    }
   ],
   "source": [
    "# 4 - Only read the two columns: college name (INSTNM) and in state tution (\"TUITIONFEE_IN\")\n",
    "# from this file into a data frame aand display use info() function to display a summary information\n",
    "\n",
    "df=pd.read_csv('Assignment07/CollegeScorecard_Raw_Data/' + rand_file,usecols=[\"INSTNM\", \"TUITIONFEE_IN\"])\n",
    "df.info()\n"
   ]
  },
  {
   "cell_type": "code",
   "execution_count": 34,
   "metadata": {},
   "outputs": [
    {
     "data": {
      "text/plain": [
       "INSTNM              0\n",
       "TUITIONFEE_IN    3400\n",
       "dtype: int64"
      ]
     },
     "execution_count": 34,
     "metadata": {},
     "output_type": "execute_result"
    }
   ],
   "source": [
    "# 5 - Find out how many observations have missing value.\n",
    "\n",
    "df.isnull().sum()"
   ]
  },
  {
   "cell_type": "code",
   "execution_count": 85,
   "metadata": {},
   "outputs": [
    {
     "data": {
      "text/plain": [
       "4462"
      ]
     },
     "execution_count": 85,
     "metadata": {},
     "output_type": "execute_result"
    }
   ],
   "source": [
    "# 6 - Drop those observations with missing value\n",
    "# Disaply the number of observations afterward\n",
    "\n",
    "df1=df.dropna() \n",
    "len(df1.index)\n",
    "\n"
   ]
  },
  {
   "cell_type": "code",
   "execution_count": 41,
   "metadata": {},
   "outputs": [
    {
     "data": {
      "text/plain": [
       "6"
      ]
     },
     "execution_count": 41,
     "metadata": {},
     "output_type": "execute_result"
    }
   ],
   "source": [
    "# 7 - Find out how many observations have 0 tution.\n",
    "\n",
    "len(df1.loc[df['TUITIONFEE_IN']==0])"
   ]
  },
  {
   "cell_type": "code",
   "execution_count": 89,
   "metadata": {},
   "outputs": [
    {
     "data": {
      "text/plain": [
       "4456"
      ]
     },
     "execution_count": 89,
     "metadata": {},
     "output_type": "execute_result"
    }
   ],
   "source": [
    "# 8.1 - Drop those observations with 0 tuition\n",
    "# Disaply the number of observations afterward\n",
    "\n",
    "df1.drop(df1.loc[df['TUITIONFEE_IN']==0].index, inplace=True)\n",
    "len(df1)\n"
   ]
  },
  {
   "cell_type": "code",
   "execution_count": 93,
   "metadata": {},
   "outputs": [
    {
     "data": {
      "text/plain": [
       "4456"
      ]
     },
     "execution_count": 93,
     "metadata": {},
     "output_type": "execute_result"
    }
   ],
   "source": [
    "# 8.2 - Reset the index so that it can be used to call observations correctly\n",
    "\n",
    "df2=df1.reset_index(drop=True)              \n",
    "len(df2)"
   ]
  },
  {
   "cell_type": "code",
   "execution_count": 94,
   "metadata": {},
   "outputs": [
    {
     "data": {
      "text/plain": [
       "13528.23698384201"
      ]
     },
     "execution_count": 94,
     "metadata": {},
     "output_type": "execute_result"
    }
   ],
   "source": [
    "# 9 - Calculate and display the mean (average) of the tuitions of all the remaining observations\n",
    "\n",
    "df2[\"TUITIONFEE_IN\"].mean()"
   ]
  },
  {
   "cell_type": "code",
   "execution_count": 113,
   "metadata": {},
   "outputs": [
    {
     "data": {
      "text/html": [
       "<div>\n",
       "<style scoped>\n",
       "    .dataframe tbody tr th:only-of-type {\n",
       "        vertical-align: middle;\n",
       "    }\n",
       "\n",
       "    .dataframe tbody tr th {\n",
       "        vertical-align: top;\n",
       "    }\n",
       "\n",
       "    .dataframe thead th {\n",
       "        text-align: right;\n",
       "    }\n",
       "</style>\n",
       "<table border=\"1\" class=\"dataframe\">\n",
       "  <thead>\n",
       "    <tr style=\"text-align: right;\">\n",
       "      <th></th>\n",
       "      <th>INSTNM</th>\n",
       "      <th>TUITIONFEE_IN</th>\n",
       "    </tr>\n",
       "  </thead>\n",
       "  <tbody>\n",
       "    <tr>\n",
       "      <th>574</th>\n",
       "      <td>Saint Johns River State College</td>\n",
       "      <td>2760.0</td>\n",
       "    </tr>\n",
       "  </tbody>\n",
       "</table>\n",
       "</div>"
      ],
      "text/plain": [
       "                              INSTNM  TUITIONFEE_IN\n",
       "574  Saint Johns River State College         2760.0"
      ]
     },
     "execution_count": 113,
     "metadata": {},
     "output_type": "execute_result"
    }
   ],
   "source": [
    "# 10 - Randomly select just 1 observation from the data frame.\n",
    "# Display the tuition of that observation.\n",
    "\n",
    "obs_num=np.random.randint(0,4456)\n",
    "rand_obs=df2.loc[[obs_num]]\n",
    "rand_obs"
   ]
  },
  {
   "cell_type": "code",
   "execution_count": 114,
   "metadata": {},
   "outputs": [
    {
     "data": {
      "text/plain": [
       "574    10768.236984\n",
       "Name: TUITIONFEE_IN, dtype: float64"
      ]
     },
     "execution_count": 114,
     "metadata": {},
     "output_type": "execute_result"
    }
   ],
   "source": [
    "# 11 - Calculate the difference between the tuition of this observation and \n",
    "# the mean tuition off all observations calculated earlier.\n",
    "# Display the difference\n",
    "\n",
    "diff=abs(df2[\"TUITIONFEE_IN\"].mean() - rand_obs[\"TUITIONFEE_IN\"])\n",
    "diff"
   ]
  },
  {
   "cell_type": "code",
   "execution_count": null,
   "metadata": {},
   "outputs": [],
   "source": [
    "# 12 - Repeat 10 to 11 several times get the feel of the size of the difference in means\n"
   ]
  },
  {
   "cell_type": "markdown",
   "metadata": {},
   "source": [
    "### I ran the code for steps 10 and 11 a number of times.  Found the differences ranged from as low as 200 to as high as 14,000"
   ]
  },
  {
   "cell_type": "code",
   "execution_count": 149,
   "metadata": {},
   "outputs": [
    {
     "data": {
      "text/html": [
       "<div>\n",
       "<style scoped>\n",
       "    .dataframe tbody tr th:only-of-type {\n",
       "        vertical-align: middle;\n",
       "    }\n",
       "\n",
       "    .dataframe tbody tr th {\n",
       "        vertical-align: top;\n",
       "    }\n",
       "\n",
       "    .dataframe thead th {\n",
       "        text-align: right;\n",
       "    }\n",
       "</style>\n",
       "<table border=\"1\" class=\"dataframe\">\n",
       "  <thead>\n",
       "    <tr style=\"text-align: right;\">\n",
       "      <th></th>\n",
       "      <th>INSTNM</th>\n",
       "      <th>TUITIONFEE_IN</th>\n",
       "    </tr>\n",
       "  </thead>\n",
       "  <tbody>\n",
       "    <tr>\n",
       "      <th>4213</th>\n",
       "      <td>Pennsylvania State University-World Campus</td>\n",
       "      <td>12962.0</td>\n",
       "    </tr>\n",
       "    <tr>\n",
       "      <th>3272</th>\n",
       "      <td>Remington College-Cleveland Campus</td>\n",
       "      <td>15995.0</td>\n",
       "    </tr>\n",
       "    <tr>\n",
       "      <th>154</th>\n",
       "      <td>Barstow Community College</td>\n",
       "      <td>1104.0</td>\n",
       "    </tr>\n",
       "    <tr>\n",
       "      <th>3190</th>\n",
       "      <td>Platt College-Aurora</td>\n",
       "      <td>20186.0</td>\n",
       "    </tr>\n",
       "    <tr>\n",
       "      <th>2202</th>\n",
       "      <td>Ohio Valley College of Technology</td>\n",
       "      <td>11141.0</td>\n",
       "    </tr>\n",
       "    <tr>\n",
       "      <th>3419</th>\n",
       "      <td>Northern Career Institute</td>\n",
       "      <td>10875.0</td>\n",
       "    </tr>\n",
       "    <tr>\n",
       "      <th>1922</th>\n",
       "      <td>Syracuse University</td>\n",
       "      <td>39004.0</td>\n",
       "    </tr>\n",
       "    <tr>\n",
       "      <th>2776</th>\n",
       "      <td>Stephen F Austin State University</td>\n",
       "      <td>7928.0</td>\n",
       "    </tr>\n",
       "    <tr>\n",
       "      <th>3388</th>\n",
       "      <td>Sage College</td>\n",
       "      <td>12460.0</td>\n",
       "    </tr>\n",
       "    <tr>\n",
       "      <th>1677</th>\n",
       "      <td>Stockton University</td>\n",
       "      <td>12322.0</td>\n",
       "    </tr>\n",
       "    <tr>\n",
       "      <th>1895</th>\n",
       "      <td>SUNY College of Technology at Alfred</td>\n",
       "      <td>6874.0</td>\n",
       "    </tr>\n",
       "    <tr>\n",
       "      <th>70</th>\n",
       "      <td>Arizona Western College</td>\n",
       "      <td>2360.0</td>\n",
       "    </tr>\n",
       "    <tr>\n",
       "      <th>765</th>\n",
       "      <td>College of Lake County</td>\n",
       "      <td>3136.0</td>\n",
       "    </tr>\n",
       "    <tr>\n",
       "      <th>503</th>\n",
       "      <td>Johnson University Florida</td>\n",
       "      <td>10472.0</td>\n",
       "    </tr>\n",
       "    <tr>\n",
       "      <th>3049</th>\n",
       "      <td>Northland College</td>\n",
       "      <td>28568.0</td>\n",
       "    </tr>\n",
       "    <tr>\n",
       "      <th>478</th>\n",
       "      <td>Delaware State University</td>\n",
       "      <td>7336.0</td>\n",
       "    </tr>\n",
       "    <tr>\n",
       "      <th>3402</th>\n",
       "      <td>ITT Technical Institute-Everett</td>\n",
       "      <td>18048.0</td>\n",
       "    </tr>\n",
       "    <tr>\n",
       "      <th>3384</th>\n",
       "      <td>Heald College-Salinas</td>\n",
       "      <td>13020.0</td>\n",
       "    </tr>\n",
       "    <tr>\n",
       "      <th>1490</th>\n",
       "      <td>Metropolitan Community College-Kansas City</td>\n",
       "      <td>2640.0</td>\n",
       "    </tr>\n",
       "    <tr>\n",
       "      <th>3552</th>\n",
       "      <td>University of Phoenix-Southern Colorado Campus</td>\n",
       "      <td>10240.0</td>\n",
       "    </tr>\n",
       "  </tbody>\n",
       "</table>\n",
       "</div>"
      ],
      "text/plain": [
       "                                              INSTNM  TUITIONFEE_IN\n",
       "4213      Pennsylvania State University-World Campus        12962.0\n",
       "3272              Remington College-Cleveland Campus        15995.0\n",
       "154                        Barstow Community College         1104.0\n",
       "3190                            Platt College-Aurora        20186.0\n",
       "2202               Ohio Valley College of Technology        11141.0\n",
       "3419                       Northern Career Institute        10875.0\n",
       "1922                             Syracuse University        39004.0\n",
       "2776               Stephen F Austin State University         7928.0\n",
       "3388                                    Sage College        12460.0\n",
       "1677                             Stockton University        12322.0\n",
       "1895            SUNY College of Technology at Alfred         6874.0\n",
       "70                           Arizona Western College         2360.0\n",
       "765                           College of Lake County         3136.0\n",
       "503                       Johnson University Florida        10472.0\n",
       "3049                               Northland College        28568.0\n",
       "478                        Delaware State University         7336.0\n",
       "3402                 ITT Technical Institute-Everett        18048.0\n",
       "3384                           Heald College-Salinas        13020.0\n",
       "1490      Metropolitan Community College-Kansas City         2640.0\n",
       "3552  University of Phoenix-Southern Colorado Campus        10240.0"
      ]
     },
     "execution_count": 149,
     "metadata": {},
     "output_type": "execute_result"
    }
   ],
   "source": [
    "# 13 - Randomly select 20 observations, display the tuition of these observation.\n",
    "\n",
    "df3 = pd.DataFrame()\n",
    "\n",
    "obs_num=np.random.randint(0,4456,20)\n",
    "\n",
    "for i in obs_num:\n",
    "    df3=df3.append(df2.loc[[i]])\n",
    "\n",
    "df3"
   ]
  },
  {
   "cell_type": "code",
   "execution_count": 150,
   "metadata": {},
   "outputs": [
    {
     "data": {
      "text/plain": [
       "12333.55"
      ]
     },
     "execution_count": 150,
     "metadata": {},
     "output_type": "execute_result"
    }
   ],
   "source": [
    "# 14 - Calculate and display the mean tuition of these 20 observations\n",
    "\n",
    "df3[\"TUITIONFEE_IN\"].mean()"
   ]
  },
  {
   "cell_type": "code",
   "execution_count": 151,
   "metadata": {},
   "outputs": [
    {
     "data": {
      "text/plain": [
       "1194.6869838420116"
      ]
     },
     "execution_count": 151,
     "metadata": {},
     "output_type": "execute_result"
    }
   ],
   "source": [
    "# 15 - Calculate the difference between the average tuition of these 20 observations \n",
    "# and the mean tuition off all observations calculated earlier.\n",
    "# Display the difference\n",
    "\n",
    "diff1=abs(df2[\"TUITIONFEE_IN\"].mean() - df3[\"TUITIONFEE_IN\"].mean())\n",
    "diff1"
   ]
  },
  {
   "cell_type": "code",
   "execution_count": null,
   "metadata": {},
   "outputs": [],
   "source": [
    "# 16 - Repeat 13 to 15 several times and get the feel of the size of the difference in means \n",
    "# Compare these differences with the differences calculated earlier with just 1 observation\n",
    "# Describe your hunch/conclusion"
   ]
  },
  {
   "cell_type": "markdown",
   "metadata": {},
   "source": [
    "###  I ran the code for steps 13 and 15 several times and got differences from as low of 1000 to a high of 2700.  The dfferences are confined to a much narrower range, suggesting that including more observations gives us a mean that is closer to the actual mean."
   ]
  },
  {
   "cell_type": "markdown",
   "metadata": {},
   "source": [
    "## Write a function that take two input parameters:\n",
    "\n",
    "* x (number of observations)\n",
    "* y (the name of the dataframe).\n",
    "\n",
    "## The function will perform the following:\n",
    "\n",
    "* Randomly select x observations from y\n",
    "* Calculate the mean of these x observations\n",
    "* Calculate the mean of all observations\n",
    "* Calculate the difference between the two means\n",
    "* Return the difference"
   ]
  },
  {
   "cell_type": "code",
   "execution_count": 152,
   "metadata": {},
   "outputs": [],
   "source": [
    "# 17 - write function Code here\n",
    "\n",
    "def difference(x,y):\n",
    "    df4 = pd.DataFrame()\n",
    "    obs_num=np.random.randint(0,4456,x)\n",
    "    for i in obs_num:\n",
    "        df4=df4.append(y.loc[[i]])\n",
    "    avg_sub=df4[\"TUITIONFEE_IN\"].mean()\n",
    "    avg_all=y[\"TUITIONFEE_IN\"].mean()\n",
    "    diff1=abs(avg_sub-avg_all)\n",
    "    \n",
    "    return diff1\n",
    "    \n",
    "\n"
   ]
  },
  {
   "cell_type": "code",
   "execution_count": 153,
   "metadata": {},
   "outputs": [
    {
     "data": {
      "text/plain": [
       "2662.8369838420113"
      ]
     },
     "execution_count": 153,
     "metadata": {},
     "output_type": "execute_result"
    }
   ],
   "source": [
    "# 18 - test the function by passing a sample size and the name of the dataframe\n",
    "# Dsplay the return of the function\n",
    "\n",
    "difference(10,df2)"
   ]
  },
  {
   "cell_type": "code",
   "execution_count": 158,
   "metadata": {},
   "outputs": [
    {
     "data": {
      "text/plain": [
       "[1,\n",
       " 2,\n",
       " 3,\n",
       " 4,\n",
       " 5,\n",
       " 6,\n",
       " 7,\n",
       " 8,\n",
       " 9,\n",
       " 10,\n",
       " 11,\n",
       " 12,\n",
       " 13,\n",
       " 14,\n",
       " 15,\n",
       " 16,\n",
       " 17,\n",
       " 18,\n",
       " 19,\n",
       " 20,\n",
       " 21,\n",
       " 22,\n",
       " 23,\n",
       " 24,\n",
       " 25,\n",
       " 26,\n",
       " 27,\n",
       " 28,\n",
       " 29,\n",
       " 30,\n",
       " 31,\n",
       " 32,\n",
       " 33,\n",
       " 34,\n",
       " 35,\n",
       " 36,\n",
       " 37,\n",
       " 38,\n",
       " 39,\n",
       " 40,\n",
       " 41,\n",
       " 42,\n",
       " 43,\n",
       " 44,\n",
       " 45,\n",
       " 46,\n",
       " 47,\n",
       " 48,\n",
       " 49,\n",
       " 50]"
      ]
     },
     "execution_count": 158,
     "metadata": {},
     "output_type": "execute_result"
    }
   ],
   "source": [
    "# 19 - Create a list of sequence numbers from 1 to 50, name it \"sample_sizes\";\n",
    "# display it to make sure its members are from 1 to 50\n",
    "\n",
    "sample_sizes_ay=np.arange(1,51,1)\n",
    "sample_sizes=sample_sizes_ay.tolist()\n",
    "sample_sizes"
   ]
  },
  {
   "cell_type": "code",
   "execution_count": 159,
   "metadata": {},
   "outputs": [
    {
     "data": {
      "text/plain": [
       "[11512.23698384201,\n",
       " 2291.763016157989,\n",
       " 5433.236983842011,\n",
       " 7071.763016157989,\n",
       " 1573.4369838420116,\n",
       " 5787.929682824657,\n",
       " 627.1915875865598,\n",
       " 2355.513016157989,\n",
       " 3905.570317175345,\n",
       " 1769.2630161579891,\n",
       " 1278.035743430717,\n",
       " 3880.513016157989,\n",
       " 696.0062146112414,\n",
       " 1221.1655552705815,\n",
       " 5742.829682824655,\n",
       " 392.8619838420109,\n",
       " 989.825219136128,\n",
       " 4666.0407939357665,\n",
       " 2106.7106680525376,\n",
       " 3413.0630161579884,\n",
       " 650.0011113960845,\n",
       " 536.2824383874649,\n",
       " 1797.806494418859,\n",
       " 327.2630161579891,\n",
       " 352.52301615798933,\n",
       " 3164.4937853887586,\n",
       " 1661.9482013431734,\n",
       " 1416.2726981277247,\n",
       " 2455.340432117873,\n",
       " 2220.370317175344,\n",
       " 334.3759193837959,\n",
       " 768.2994838420109,\n",
       " 2593.752135357163,\n",
       " 2454.089925018481,\n",
       " 913.2487304437036,\n",
       " 154.06857171354386,\n",
       " 2653.087340482314,\n",
       " 1133.842246999906,\n",
       " 905.6472402522668,\n",
       " 137.48801615798948,\n",
       " 1540.104479572623,\n",
       " 2147.072539967512,\n",
       " 62.446286167592916,\n",
       " 749.353925248899,\n",
       " 3443.474127269101,\n",
       " 93.15432050581512,\n",
       " 1640.3220902249905,\n",
       " 2026.7994838420109,\n",
       " 848.5385263620701,\n",
       " 550.0369838420102]"
      ]
     },
     "execution_count": 159,
     "metadata": {},
     "output_type": "execute_result"
    }
   ],
   "source": [
    "# 20 - Create an empty list and name it \"means_diff\" for differences of population mean and sample means;\n",
    "# Loop through the list sample_sizes:\n",
    "# For each element in the sample size list, obtain a random sample of that size from the data frame;\n",
    "# Calculate the sample mean \n",
    "# Calculate the difference between the population mean and the sample mean\n",
    "# Append the difference to the list \"means_diff\"\n",
    "# Display the list \"means_diff\" after the loop is completed\n",
    "\n",
    "means_diff=[]\n",
    "for i in sample_sizes:\n",
    "    diff2=difference(i,df2)\n",
    "    means_diff.append(diff2)\n",
    "means_diff\n",
    "    "
   ]
  },
  {
   "cell_type": "code",
   "execution_count": 160,
   "metadata": {},
   "outputs": [
    {
     "name": "stderr",
     "output_type": "stream",
     "text": [
      "<ipython-input-160-ce2ee06d54d5>:13: UserWarning: Matplotlib is currently using module://ipykernel.pylab.backend_inline, which is a non-GUI backend, so cannot show the figure.\n",
      "  fig.show()\n"
     ]
    },
    {
     "data": {
      "image/png": "[encoded data removed]",
      "text/plain": [
       "<Figure size 1440x576 with 1 Axes>"
      ]
     },
     "metadata": {
      "needs_background": "light"
     },
     "output_type": "display_data"
    }
   ],
   "source": [
    "# 21 - Make a scatter plot with sample size on the x-axis and mean difference on the y-axis\n",
    "# Observe as the sample size increases, the sample means converge to the population mean.\n",
    "# Make sure you make the plot large enough\n",
    "\n",
    "fig, ax = plt.subplots(figsize=(20,8))     \n",
    "\n",
    "ax.scatter(sample_sizes, means_diff)\n",
    "ax.set_title(\"Difference between Population and Sample Mean vs. Sample Size\")\n",
    "ax.set_xlabel(\"Sample Size\")\n",
    "ax.set_ylabel(\"Difference in Means\")\n",
    "\n",
    "\n",
    "fig.show()"
   ]
  },
  {
   "cell_type": "code",
   "execution_count": 161,
   "metadata": {},
   "outputs": [
    {
     "name": "stderr",
     "output_type": "stream",
     "text": [
      "<ipython-input-161-726d29f92aea>:25: UserWarning: Matplotlib is currently using module://ipykernel.pylab.backend_inline, which is a non-GUI backend, so cannot show the figure.\n",
      "  fig.show()\n"
     ]
    },
    {
     "data": {
      "image/png": "[encoded data removed]",
      "text/plain": [
       "<Figure size 1440x576 with 1 Axes>"
      ]
     },
     "metadata": {
      "needs_background": "light"
     },
     "output_type": "display_data"
    }
   ],
   "source": [
    "# 22.1 - repeat 18 to 21 by replacing 50 with a larger number. For example, 300.\n",
    "# and see how the plot looks.\n",
    "\n",
    "# 19\n",
    "sample_sizes_ay=np.arange(1,300,1)\n",
    "sample_sizes=sample_sizes_ay.tolist()\n",
    "\n",
    "# 20\n",
    "means_diff=[]\n",
    "for i in sample_sizes:\n",
    "    diff2=difference(i,df2)\n",
    "    means_diff.append(diff2)\n",
    "means_diff\n",
    "\n",
    "# 21\n",
    "\n",
    "fig, ax = plt.subplots(figsize=(20,8))     \n",
    "\n",
    "ax.scatter(sample_sizes, means_diff)\n",
    "ax.set_title(\"Difference between Population and Sample Mean vs. Sample Size\")\n",
    "ax.set_xlabel(\"Sample Size\")\n",
    "ax.set_ylabel(\"Difference in Means\")\n",
    "\n",
    "\n",
    "fig.show()\n"
   ]
  },
  {
   "cell_type": "code",
   "execution_count": 162,
   "metadata": {},
   "outputs": [
    {
     "name": "stderr",
     "output_type": "stream",
     "text": [
      "<ipython-input-162-fd1cf835b064>:25: UserWarning: Matplotlib is currently using module://ipykernel.pylab.backend_inline, which is a non-GUI backend, so cannot show the figure.\n",
      "  fig.show()\n"
     ]
    },
    {
     "data": {
      "image/png": "[encoded data removed]",
      "text/plain": [
       "<Figure size 1440x576 with 1 Axes>"
      ]
     },
     "metadata": {
      "needs_background": "light"
     },
     "output_type": "display_data"
    }
   ],
   "source": [
    "# 22.2 - repeat 18 to 21 by replacing 50 with a larger number. For example, 1000.\n",
    "# and see how the plot looks.\n",
    "\n",
    "# 19\n",
    "sample_sizes_ay=np.arange(1,1000,1)\n",
    "sample_sizes=sample_sizes_ay.tolist()\n",
    "\n",
    "# 20\n",
    "means_diff=[]\n",
    "for i in sample_sizes:\n",
    "    diff2=difference(i,df2)\n",
    "    means_diff.append(diff2)\n",
    "means_diff\n",
    "\n",
    "# 21\n",
    "\n",
    "fig, ax = plt.subplots(figsize=(20,8))     \n",
    "\n",
    "ax.scatter(sample_sizes, means_diff)\n",
    "ax.set_title(\"Difference between Population and Sample Mean vs. Sample Size\")\n",
    "ax.set_xlabel(\"Sample Size\")\n",
    "ax.set_ylabel(\"Difference in Means\")\n",
    "\n",
    "\n",
    "fig.show()"
   ]
  },
  {
   "cell_type": "markdown",
   "metadata": {},
   "source": [
    "### The difference between the sample mean and the population mean do converge to 0 the larger the sample size is"
   ]
  },
  {
   "cell_type": "code",
   "execution_count": null,
   "metadata": {},
   "outputs": [],
   "source": []
  }
 ],
 "metadata": {
  "kernelspec": {
   "display_name": "Python 3",
   "language": "python",
   "name": "python3"
  },
  "language_info": {
   "codemirror_mode": {
    "name": "ipython",
    "version": 3
   },
   "file_extension": ".py",
   "mimetype": "text/x-python",
   "name": "python",
   "nbconvert_exporter": "python",
   "pygments_lexer": "ipython3",
   "version": "3.8.3"
  }
 },
 "nbformat": 4,
 "nbformat_minor": 4
}
