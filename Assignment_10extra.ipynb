{
  "nbformat": 4,
  "nbformat_minor": 0,
  "metadata": {
    "colab": {
      "name": "Assignment_10.ipynb",
      "provenance": [],
      "authorship_tag": "ABX9TyPsbRLxTQkwpKtSoOyECj9s",
      "include_colab_link": true
    },
    "kernelspec": {
      "name": "python3",
      "display_name": "Python 3"
    }
  },
  "cells": [
    {
      "cell_type": "markdown",
      "metadata": {
        "id": "view-in-github",
        "colab_type": "text"
      },
      "source": [
        "<a href=\"https://colab.research.google.com/github/jessicabolz/DATA-690-WANG/blob/master/Assignment_10extra.ipynb\" target=\"_parent\"><img src=\"https://colab.research.google.com/assets/colab-badge.svg\" alt=\"Open In Colab\"/></a>"
      ]
    },
    {
      "cell_type": "markdown",
      "metadata": {
        "id": "WyWG94Qm_Ds9"
      },
      "source": [
        "# Assignment # 10 - Point Estimate and Interval Estimate (Confidence Interval)\r\n",
        "\r\n",
        "## A random survey of enrollment at 35 community colleges across the United States yielded the following figures:\r\n",
        "\r\n",
        "6,414; 1,550; 2,109; 9,350; 21,828; 4,300; 5,944; 5,722; 2,825; 2,044;\r\n",
        "\r\n",
        "5,481; 5,200; 5,853; 2,750; 10,012; 6,357; 27,000; 9,414; 7,681; 3,200;\r\n",
        "\r\n",
        "17,500; 9,200; 7,380; 18,314; 6,557; 13,713; 17,768; 7,493; 2,771; 2,861;\r\n",
        "\r\n",
        "1,263; 7,285; 28,165; 5,080; 11,622\r\n",
        "\r\n",
        "## Perform point estimate and interval estimate with 95% confidence level using t-distribution.\r\n",
        "\r\n",
        "## Since we don't know the population variance, we use t-distribiution instead of normal distribution."
      ]
    },
    {
      "cell_type": "code",
      "metadata": {
        "id": "4dYsq1MO_FCo"
      },
      "source": [
        "# Import Python packages\r\n",
        "import pandas as pd\r\n",
        "import numpy as np\r\n",
        "import statistics as st\r\n",
        "import scipy.stats as stats\r\n"
      ],
      "execution_count": 38,
      "outputs": []
    },
    {
      "cell_type": "markdown",
      "metadata": {
        "id": "h4tFpwz2_P-q"
      },
      "source": [
        "### Step 0 - Data Preprocessing\r\n",
        "\r\n",
        "Process the raw data to make a list of integers. In order to calculate descriptive statistic, Python needs to work with a list of numbers."
      ]
    },
    {
      "cell_type": "code",
      "metadata": {
        "colab": {
          "base_uri": "https://localhost:8080/"
        },
        "id": "ApF-mZcJ_LK9",
        "outputId": "2c153805-c374-4e1c-8b19-1b4d411c7383"
      },
      "source": [
        "# make each line of numbers a string object and then concatenate them together \r\n",
        "# The end result is one single string containing 35 numbers separated by \";\"\r\n",
        "\r\n",
        "data_1=\"6,414; 1,550; 2,109; 9,350; 21,828; 4,300; 5,944; 5,722; 2,825; 2,044;\"\r\n",
        "data_2=\"5,481; 5,200; 5,853; 2,750; 10,012; 6,357; 27,000; 9,414; 7,681; 3,200;\"\r\n",
        "data_3=\"17,500; 9,200; 7,380; 18,314; 6,557; 13,713; 17,768; 7,493; 2,771; 2,861;\"\r\n",
        "data_4=\"1,263; 7,285; 28,165; 5,080; 11,622\"\r\n",
        "\r\n",
        "data=data_1+data_2+data_3+data_4\r\n",
        "print(data)"
      ],
      "execution_count": 6,
      "outputs": [
        {
          "output_type": "stream",
          "text": [
            "6,414; 1,550; 2,109; 9,350; 21,828; 4,300; 5,944; 5,722; 2,825; 2,044;5,481; 5,200; 5,853; 2,750; 10,012; 6,357; 27,000; 9,414; 7,681; 3,200;17,500; 9,200; 7,380; 18,314; 6,557; 13,713; 17,768; 7,493; 2,771; 2,861;1,263; 7,285; 28,165; 5,080; 11,622\n"
          ],
          "name": "stdout"
        }
      ]
    },
    {
      "cell_type": "code",
      "metadata": {
        "colab": {
          "base_uri": "https://localhost:8080/"
        },
        "id": "s-QVaCso_Q4G",
        "outputId": "bef256cd-9a0e-4b04-ba86-340d4e02444b"
      },
      "source": [
        "type(data)"
      ],
      "execution_count": 7,
      "outputs": [
        {
          "output_type": "execute_result",
          "data": {
            "text/plain": [
              "str"
            ]
          },
          "metadata": {
            "tags": []
          },
          "execution_count": 7
        }
      ]
    },
    {
      "cell_type": "code",
      "metadata": {
        "colab": {
          "base_uri": "https://localhost:8080/"
        },
        "id": "AcypAJWs_bKk",
        "outputId": "dc87e0b3-b4f0-42f4-fa14-0967235b1b8a"
      },
      "source": [
        "# Convert the single string to a list of strings using split() function\r\n",
        "# Make sure to specify a delimter or separator\r\n",
        "\r\n",
        "x=data.split(';')\r\n",
        "print(x)"
      ],
      "execution_count": 9,
      "outputs": [
        {
          "output_type": "stream",
          "text": [
            "['6,414', ' 1,550', ' 2,109', ' 9,350', ' 21,828', ' 4,300', ' 5,944', ' 5,722', ' 2,825', ' 2,044', '5,481', ' 5,200', ' 5,853', ' 2,750', ' 10,012', ' 6,357', ' 27,000', ' 9,414', ' 7,681', ' 3,200', '17,500', ' 9,200', ' 7,380', ' 18,314', ' 6,557', ' 13,713', ' 17,768', ' 7,493', ' 2,771', ' 2,861', '1,263', ' 7,285', ' 28,165', ' 5,080', ' 11,622']\n"
          ],
          "name": "stdout"
        }
      ]
    },
    {
      "cell_type": "code",
      "metadata": {
        "colab": {
          "base_uri": "https://localhost:8080/"
        },
        "id": "o_1MCR_c_mxr",
        "outputId": "fded6ef6-a162-4358-b268-6dbbaf95a80f"
      },
      "source": [
        "# Create a list of integers from the list of strings using List Comprehension or a function\r\n",
        "# Make sure to remove the \",\" first and then convert the strings to integers\r\n",
        "\r\n",
        "e=[]\r\n",
        "\r\n",
        "for i in x:\r\n",
        "  e.append(int(i.replace(\",\",\"\")))\r\n",
        "  \r\n",
        "\r\n",
        "print(e)\r\n",
        "type(e[0])\r\n"
      ],
      "execution_count": 13,
      "outputs": [
        {
          "output_type": "stream",
          "text": [
            "[6414, 1550, 2109, 9350, 21828, 4300, 5944, 5722, 2825, 2044, 5481, 5200, 5853, 2750, 10012, 6357, 27000, 9414, 7681, 3200, 17500, 9200, 7380, 18314, 6557, 13713, 17768, 7493, 2771, 2861, 1263, 7285, 28165, 5080, 11622]\n"
          ],
          "name": "stdout"
        },
        {
          "output_type": "execute_result",
          "data": {
            "text/plain": [
              "int"
            ]
          },
          "metadata": {
            "tags": []
          },
          "execution_count": 13
        }
      ]
    },
    {
      "cell_type": "markdown",
      "metadata": {
        "id": "tL0Fk7IXCAit"
      },
      "source": [
        "### Step 1 - Calculate and Display the Sample Size and Sample Mean¶"
      ]
    },
    {
      "cell_type": "code",
      "metadata": {
        "colab": {
          "base_uri": "https://localhost:8080/"
        },
        "id": "IIBe4GQiA_32",
        "outputId": "b05c7a37-9bac-4e06-9698-5b9fb59fd5ec"
      },
      "source": [
        "# Calculate and display the sample size\r\n",
        "\r\n",
        "print(\"Sample size: \",len(e))\r\n"
      ],
      "execution_count": 24,
      "outputs": [
        {
          "output_type": "stream",
          "text": [
            "Sample size:  35\n"
          ],
          "name": "stdout"
        }
      ]
    },
    {
      "cell_type": "code",
      "metadata": {
        "colab": {
          "base_uri": "https://localhost:8080/"
        },
        "id": "Qk49JygCCBKe",
        "outputId": "803f22c5-bb5a-4f65-d4f8-a894ead1db6a"
      },
      "source": [
        "# Calculate and display the sample mean\r\n",
        "\r\n",
        "m=np.mean(e)\r\n",
        "print(\"Sample mean: \",round(m,0))"
      ],
      "execution_count": 53,
      "outputs": [
        {
          "output_type": "stream",
          "text": [
            "Sample mean:  8629.0\n"
          ],
          "name": "stdout"
        }
      ]
    },
    {
      "cell_type": "markdown",
      "metadata": {
        "id": "QRgjND43DrjR"
      },
      "source": [
        "The point estimate of the mean enrollment of US community colleges is 8629."
      ]
    },
    {
      "cell_type": "markdown",
      "metadata": {
        "id": "ROAu6PabDwV8"
      },
      "source": [
        "### Step 2 - Calculate and Display the Sample Standard Deviation & Sample Standard Error\r\n",
        "* Sample Standard Deviation $S=\\sqrt{\\dfrac{1}{n-1}\\sum\\limits_{i=1}^n (X_i-\\bar{X})^2}$\r\n",
        "\r\n",
        "* Sample Standard Error = $\\dfrac{S}{\\sqrt{n}}$\r\n",
        "\r\n",
        "Note: The default Delta Degree of Freedom (DDOF) for Numpy's std function is 0 which is applicable to populate data. For sample data, we need to specify ddof=1.\r\n",
        "\r\n",
        "For the enrollment data, we round up the statistics to be the full integers (no decimal points)."
      ]
    },
    {
      "cell_type": "code",
      "metadata": {
        "colab": {
          "base_uri": "https://localhost:8080/"
        },
        "id": "cVx26lpKDIzw",
        "outputId": "cad894d6-11a9-4b6e-add1-f57aca1d7a61"
      },
      "source": [
        "# Calculate and display the sample standard deviation using Numpy's std function.\r\n",
        "\r\n",
        "s=np.std(e,ddof=1)\r\n",
        "print(\"Sample Standard Deviation:  \",round(s,0))"
      ],
      "execution_count": 45,
      "outputs": [
        {
          "output_type": "stream",
          "text": [
            "Sample Standard Deviation:   6944.0\n"
          ],
          "name": "stdout"
        }
      ]
    },
    {
      "cell_type": "code",
      "metadata": {
        "colab": {
          "base_uri": "https://localhost:8080/"
        },
        "id": "HJkpu24uDsBL",
        "outputId": "5e0feea0-cf91-4e98-aa0d-1f12b731a0f0"
      },
      "source": [
        "# Calculate and display the sample standard error\r\n",
        "\r\n",
        "stder=s/(35**0.5)\r\n",
        "print(\"Sample Standard Error:  \",round(stder,0))"
      ],
      "execution_count": 62,
      "outputs": [
        {
          "output_type": "stream",
          "text": [
            "Sample Standard Error:   1174.0\n"
          ],
          "name": "stdout"
        }
      ]
    },
    {
      "cell_type": "markdown",
      "metadata": {
        "id": "BuPsUUsNE-j3"
      },
      "source": [
        "### Step 3 - Calculate t Critical Value using t-Distribution\r\n",
        "$\\alpha$ = 1 - Confidence Level = 1 - 95% = 0.05\r\n",
        "\r\n",
        "$\\dfrac{\\alpha}{2}$ = 0.025\r\n",
        "\r\n",
        "n (sample size) = 35\r\n",
        "\r\n",
        "df (degree of freedom) = n - 1 = 35 - 1 = 34\r\n",
        "\r\n",
        "We will use Python scipy.stats t-distribution's PPF (Percentage Point Function) to calculate t critical value $t_{0.025,34}$."
      ]
    },
    {
      "cell_type": "code",
      "metadata": {
        "colab": {
          "base_uri": "https://localhost:8080/"
        },
        "id": "xivruGIsE544",
        "outputId": "9a7ca724-e809-48b0-f486-2e56682c2a6c"
      },
      "source": [
        "# Calculate and display the t critical value using scipy.stats.t package ppf function\r\n",
        "\r\n",
        "t_value = stats.t.ppf(0.975, 34)\r\n",
        "print(\"t critical value or t statistics = \", round(t_value,2))\r\n",
        "\r\n"
      ],
      "execution_count": 47,
      "outputs": [
        {
          "output_type": "stream",
          "text": [
            "t critical value or t statistics =  2.03\n"
          ],
          "name": "stdout"
        }
      ]
    },
    {
      "cell_type": "markdown",
      "metadata": {
        "id": "XvV9NUisNOUZ"
      },
      "source": [
        "### Step 4 - Calculate the Margin of Error\r\n",
        "Margin of Error = t-Statistics * Sample Standard Error = $t_{\\alpha/2,n-1}\\left(\\dfrac{s}{\\sqrt{n}}\\right)$"
      ]
    },
    {
      "cell_type": "code",
      "metadata": {
        "colab": {
          "base_uri": "https://localhost:8080/"
        },
        "id": "0ut-pJvhFicq",
        "outputId": "8c302535-57b6-4fc1-da67-0278609294be"
      },
      "source": [
        "# Calculate and display the margin of error\r\n",
        "\r\n",
        "merr=t_value*stder\r\n",
        "print(\"Margin of error = \",round(merr,0))\r\n"
      ],
      "execution_count": 64,
      "outputs": [
        {
          "output_type": "stream",
          "text": [
            "Margin of error =  2385.0\n"
          ],
          "name": "stdout"
        }
      ]
    },
    {
      "cell_type": "markdown",
      "metadata": {
        "id": "YIPFBgFoO4d9"
      },
      "source": [
        "### Step 5 - Calculate Lower and Upper Limit of the Confidence Interval\r\n",
        "\r\n",
        "* Lower Limit = Sample Mean - Margin of Error\r\n",
        "* Upper Limit = Sample Mean + Margin of Error"
      ]
    },
    {
      "cell_type": "code",
      "metadata": {
        "colab": {
          "base_uri": "https://localhost:8080/"
        },
        "id": "Fqc0tUhXNPDI",
        "outputId": "9c025f34-0a10-4936-af54-0c1a082ceafb"
      },
      "source": [
        "# Calculate and display the lower limit\r\n",
        "\r\n",
        "lower_limit=m-merr\r\n",
        "print(\"Lower limit = \",round(lower_limit,0))"
      ],
      "execution_count": 55,
      "outputs": [
        {
          "output_type": "stream",
          "text": [
            "Lower limit =  6243.0\n"
          ],
          "name": "stdout"
        }
      ]
    },
    {
      "cell_type": "code",
      "metadata": {
        "colab": {
          "base_uri": "https://localhost:8080/"
        },
        "id": "BjkHiiWnO5c9",
        "outputId": "003b67a2-10b1-4d7f-e57a-1769694bbb84"
      },
      "source": [
        "# Calculate and display the upper limit\r\n",
        "\r\n",
        "upper_limit=m+merr\r\n",
        "print(\"Upper limit = \", round(upper_limit,0))"
      ],
      "execution_count": 56,
      "outputs": [
        {
          "output_type": "stream",
          "text": [
            "Upper limit =  11014.0\n"
          ],
          "name": "stdout"
        }
      ]
    },
    {
      "cell_type": "markdown",
      "metadata": {
        "id": "uUIZU_rsPjKq"
      },
      "source": [
        "### Step 6 - Now We have the 95% Confidence Interval\r\n",
        "\r\n",
        "*Confidence Interval ($\\sigma$ unknown) = $\\bar{x}\\space\\pm\\space t_{\\alpha/2}\\left(\\dfrac{S}{\\sqrt{n}}\\right)$ = Sample_Mean $\\pm$ Margin of Error"
      ]
    },
    {
      "cell_type": "code",
      "metadata": {
        "colab": {
          "base_uri": "https://localhost:8080/"
        },
        "id": "NlJLLL5NP2Ma",
        "outputId": "c1e5e273-3603-4af8-ee6f-b90b3d56f959"
      },
      "source": [
        "# Print the 95% confidence interveral in the form (lower limit, upper limit)\r\n",
        "\r\n",
        "print(\"The 95% Confidence Interval = \",round(lower_limit,0),round(upper_limit,0))"
      ],
      "execution_count": 60,
      "outputs": [
        {
          "output_type": "stream",
          "text": [
            "The 95% Confidence Interval =  6243.0 11014.0\n"
          ],
          "name": "stdout"
        }
      ]
    },
    {
      "cell_type": "markdown",
      "metadata": {
        "id": "MlVwWwKkQRc3"
      },
      "source": [
        "### The End"
      ]
    },
    {
      "cell_type": "code",
      "metadata": {
        "id": "SBl-mFX0QS28"
      },
      "source": [
        ""
      ],
      "execution_count": null,
      "outputs": []
    }
  ]
}