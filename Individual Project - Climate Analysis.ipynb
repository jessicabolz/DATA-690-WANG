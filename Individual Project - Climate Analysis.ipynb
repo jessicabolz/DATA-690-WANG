{
 "cells": [
  {
   "cell_type": "markdown",
   "metadata": {},
   "source": [
    "#  Climate Analysis"
   ]
  },
  {
   "cell_type": "markdown",
   "metadata": {},
   "source": [
    "###  I am very concerned about climate change, so I'd like to use my skills from the course to see if there is a measureable shift in weather patterns in the US as predicted by climate models.  Climate change is an existential crisis that our society has never before faced.  It is a threat to the planet and to human civilization in the near term.  It's important to validate the climate models in order to design resiliancy into response, planning, and preparation for our communities.  I'll be analyzing US tornado, precipitation, and temperature data."
   ]
  },
  {
   "cell_type": "markdown",
   "metadata": {},
   "source": [
    "#  Part 1: Analysis of Tornado Data for US from 1950 to 2018\n",
    "##  Data Source:  https://www.spc.noaa.gov/wcm/#data  (bottom of the page is a file called 1950-2018_all_tornadoes.csv"
   ]
  },
  {
   "cell_type": "markdown",
   "metadata": {},
   "source": [
    "   ### Step 1:  Import libraries, read the file, and get a feel for the data"
   ]
  },
  {
   "cell_type": "code",
   "execution_count": 85,
   "metadata": {},
   "outputs": [],
   "source": [
    "# Import libraries\n",
    "\n",
    "import matplotlib.pyplot as plt\n",
    "import pandas as pd\n",
    "import numpy as np\n",
    "import os "
   ]
  },
  {
   "cell_type": "code",
   "execution_count": 77,
   "metadata": {},
   "outputs": [
    {
     "data": {
      "text/plain": [
       "'C:\\\\Users\\\\bolzj'"
      ]
     },
     "execution_count": 77,
     "metadata": {},
     "output_type": "execute_result"
    }
   ],
   "source": [
    "#Check directory\n",
    "\n",
    "os.getcwd()"
   ]
  },
  {
   "cell_type": "code",
   "execution_count": 213,
   "metadata": {},
   "outputs": [
    {
     "data": {
      "text/plain": [
       "(64825, 29)"
      ]
     },
     "execution_count": 213,
     "metadata": {},
     "output_type": "execute_result"
    }
   ],
   "source": [
    "\n",
    "\n",
    "df=pd.read_csv('1950-2018_all_tornadoes.csv')       # Read the tornado data file into python data frame\n",
    "\n",
    "df.shape                                            # Find out the number of rows/observations and columns/variables\n",
    "\n"
   ]
  },
  {
   "cell_type": "code",
   "execution_count": 79,
   "metadata": {},
   "outputs": [
    {
     "data": {
      "text/html": [
       "<div>\n",
       "<style scoped>\n",
       "    .dataframe tbody tr th:only-of-type {\n",
       "        vertical-align: middle;\n",
       "    }\n",
       "\n",
       "    .dataframe tbody tr th {\n",
       "        vertical-align: top;\n",
       "    }\n",
       "\n",
       "    .dataframe thead th {\n",
       "        text-align: right;\n",
       "    }\n",
       "</style>\n",
       "<table border=\"1\" class=\"dataframe\">\n",
       "  <thead>\n",
       "    <tr style=\"text-align: right;\">\n",
       "      <th></th>\n",
       "      <th>om</th>\n",
       "      <th>yr</th>\n",
       "      <th>mo</th>\n",
       "      <th>dy</th>\n",
       "      <th>date</th>\n",
       "      <th>time</th>\n",
       "      <th>tz</th>\n",
       "      <th>st</th>\n",
       "      <th>stf</th>\n",
       "      <th>stn</th>\n",
       "      <th>...</th>\n",
       "      <th>len</th>\n",
       "      <th>wid</th>\n",
       "      <th>ns</th>\n",
       "      <th>sn</th>\n",
       "      <th>sg</th>\n",
       "      <th>f1</th>\n",
       "      <th>f2</th>\n",
       "      <th>f3</th>\n",
       "      <th>f4</th>\n",
       "      <th>fc</th>\n",
       "    </tr>\n",
       "  </thead>\n",
       "  <tbody>\n",
       "    <tr>\n",
       "      <th>0</th>\n",
       "      <td>1</td>\n",
       "      <td>1950</td>\n",
       "      <td>1</td>\n",
       "      <td>3</td>\n",
       "      <td>1950-01-03</td>\n",
       "      <td>11:00:00</td>\n",
       "      <td>3</td>\n",
       "      <td>MO</td>\n",
       "      <td>29</td>\n",
       "      <td>1</td>\n",
       "      <td>...</td>\n",
       "      <td>9.5</td>\n",
       "      <td>150</td>\n",
       "      <td>2</td>\n",
       "      <td>0</td>\n",
       "      <td>1</td>\n",
       "      <td>0</td>\n",
       "      <td>0</td>\n",
       "      <td>0</td>\n",
       "      <td>0</td>\n",
       "      <td>0</td>\n",
       "    </tr>\n",
       "    <tr>\n",
       "      <th>1</th>\n",
       "      <td>1</td>\n",
       "      <td>1950</td>\n",
       "      <td>1</td>\n",
       "      <td>3</td>\n",
       "      <td>1950-01-03</td>\n",
       "      <td>11:00:00</td>\n",
       "      <td>3</td>\n",
       "      <td>MO</td>\n",
       "      <td>29</td>\n",
       "      <td>1</td>\n",
       "      <td>...</td>\n",
       "      <td>6.2</td>\n",
       "      <td>150</td>\n",
       "      <td>2</td>\n",
       "      <td>1</td>\n",
       "      <td>2</td>\n",
       "      <td>189</td>\n",
       "      <td>0</td>\n",
       "      <td>0</td>\n",
       "      <td>0</td>\n",
       "      <td>0</td>\n",
       "    </tr>\n",
       "    <tr>\n",
       "      <th>2</th>\n",
       "      <td>1</td>\n",
       "      <td>1950</td>\n",
       "      <td>1</td>\n",
       "      <td>3</td>\n",
       "      <td>1950-01-03</td>\n",
       "      <td>11:10:00</td>\n",
       "      <td>3</td>\n",
       "      <td>IL</td>\n",
       "      <td>17</td>\n",
       "      <td>1</td>\n",
       "      <td>...</td>\n",
       "      <td>3.3</td>\n",
       "      <td>100</td>\n",
       "      <td>2</td>\n",
       "      <td>1</td>\n",
       "      <td>2</td>\n",
       "      <td>119</td>\n",
       "      <td>0</td>\n",
       "      <td>0</td>\n",
       "      <td>0</td>\n",
       "      <td>0</td>\n",
       "    </tr>\n",
       "    <tr>\n",
       "      <th>3</th>\n",
       "      <td>2</td>\n",
       "      <td>1950</td>\n",
       "      <td>1</td>\n",
       "      <td>3</td>\n",
       "      <td>1950-01-03</td>\n",
       "      <td>11:55:00</td>\n",
       "      <td>3</td>\n",
       "      <td>IL</td>\n",
       "      <td>17</td>\n",
       "      <td>2</td>\n",
       "      <td>...</td>\n",
       "      <td>3.6</td>\n",
       "      <td>130</td>\n",
       "      <td>1</td>\n",
       "      <td>1</td>\n",
       "      <td>1</td>\n",
       "      <td>135</td>\n",
       "      <td>0</td>\n",
       "      <td>0</td>\n",
       "      <td>0</td>\n",
       "      <td>0</td>\n",
       "    </tr>\n",
       "    <tr>\n",
       "      <th>4</th>\n",
       "      <td>3</td>\n",
       "      <td>1950</td>\n",
       "      <td>1</td>\n",
       "      <td>3</td>\n",
       "      <td>1950-01-03</td>\n",
       "      <td>16:00:00</td>\n",
       "      <td>3</td>\n",
       "      <td>OH</td>\n",
       "      <td>39</td>\n",
       "      <td>1</td>\n",
       "      <td>...</td>\n",
       "      <td>0.1</td>\n",
       "      <td>10</td>\n",
       "      <td>1</td>\n",
       "      <td>1</td>\n",
       "      <td>1</td>\n",
       "      <td>161</td>\n",
       "      <td>0</td>\n",
       "      <td>0</td>\n",
       "      <td>0</td>\n",
       "      <td>0</td>\n",
       "    </tr>\n",
       "  </tbody>\n",
       "</table>\n",
       "<p>5 rows × 29 columns</p>\n",
       "</div>"
      ],
      "text/plain": [
       "   om    yr  mo  dy        date      time  tz  st  stf  stn  ...  len  wid  \\\n",
       "0   1  1950   1   3  1950-01-03  11:00:00   3  MO   29    1  ...  9.5  150   \n",
       "1   1  1950   1   3  1950-01-03  11:00:00   3  MO   29    1  ...  6.2  150   \n",
       "2   1  1950   1   3  1950-01-03  11:10:00   3  IL   17    1  ...  3.3  100   \n",
       "3   2  1950   1   3  1950-01-03  11:55:00   3  IL   17    2  ...  3.6  130   \n",
       "4   3  1950   1   3  1950-01-03  16:00:00   3  OH   39    1  ...  0.1   10   \n",
       "\n",
       "   ns  sn  sg   f1  f2  f3  f4  fc  \n",
       "0   2   0   1    0   0   0   0   0  \n",
       "1   2   1   2  189   0   0   0   0  \n",
       "2   2   1   2  119   0   0   0   0  \n",
       "3   1   1   1  135   0   0   0   0  \n",
       "4   1   1   1  161   0   0   0   0  \n",
       "\n",
       "[5 rows x 29 columns]"
      ]
     },
     "execution_count": 79,
     "metadata": {},
     "output_type": "execute_result"
    }
   ],
   "source": [
    "df.head()                                          # Display the first five rows"
   ]
  },
  {
   "cell_type": "code",
   "execution_count": 228,
   "metadata": {},
   "outputs": [
    {
     "data": {
      "text/plain": [
       "0    TX\n",
       "dtype: object"
      ]
     },
     "execution_count": 228,
     "metadata": {},
     "output_type": "execute_result"
    }
   ],
   "source": [
    "df['st'].mode()                                 # Which state has had the most tornadoes"
   ]
  },
  {
   "cell_type": "code",
   "execution_count": 81,
   "metadata": {},
   "outputs": [
    {
     "name": "stdout",
     "output_type": "stream",
     "text": [
      "om\n",
      "yr\n",
      "mo\n",
      "dy\n",
      "date\n",
      "time\n",
      "tz\n",
      "st\n",
      "stf\n",
      "stn\n",
      "mag\n",
      "inj\n",
      "fat\n",
      "loss\n",
      "closs\n",
      "slat\n",
      "slon\n",
      "elat\n",
      "elon\n",
      "len\n",
      "wid\n",
      "ns\n",
      "sn\n",
      "sg\n",
      "f1\n",
      "f2\n",
      "f3\n",
      "f4\n",
      "fc\n"
     ]
    }
   ],
   "source": [
    "for col in df.columns:                           # Display variable names\n",
    "    print(col)"
   ]
  },
  {
   "cell_type": "markdown",
   "metadata": {},
   "source": [
    "### Important Fields\n",
    "\n",
    "### After analyzing the documentation that accompany the data file, only the following variables will be kept:\n",
    "\n",
    "1.  yr:  year\n",
    "2.  mo:  month\n",
    "3.  st:  state\n",
    "4.  mag:  F-scale (tornado intensity rating on 0 to 5 scale, -9 if unknown)\n",
    "5.  inj:  injuries\n",
    "6.  fat:  fatalities\n",
    "7.  loss:  prior to 1996, estimated property loss on a 1 to 9 scale:  \n",
    "            0/blank= unknown \n",
    "            1= less than $50\n",
    "            2= between $50 and $500\n",
    "            3= between $500 and $5,000\n",
    "            4= between $5,000 and $50,000\n",
    "            5= between $50,000 and $500,000\n",
    "            6= between $500,000 and $5,000,000\n",
    "            7= between $5,000,000 and $50,000,000\n",
    "            8= between $50,000,000 and $500,000,000\n",
    "            9= $5,000,000,000\n",
    "            \n",
    "            from 1996 on, listed in millions of dollars, 0/blank=unknown\n",
    "8.  closs:  crop loss in millions of dollars\n",
    "9.  len:  length in miles\n",
    "10.  wid:  width in yds"
   ]
  },
  {
   "cell_type": "code",
   "execution_count": 214,
   "metadata": {},
   "outputs": [
    {
     "data": {
      "text/html": [
       "<div>\n",
       "<style scoped>\n",
       "    .dataframe tbody tr th:only-of-type {\n",
       "        vertical-align: middle;\n",
       "    }\n",
       "\n",
       "    .dataframe tbody tr th {\n",
       "        vertical-align: top;\n",
       "    }\n",
       "\n",
       "    .dataframe thead th {\n",
       "        text-align: right;\n",
       "    }\n",
       "</style>\n",
       "<table border=\"1\" class=\"dataframe\">\n",
       "  <thead>\n",
       "    <tr style=\"text-align: right;\">\n",
       "      <th></th>\n",
       "      <th>yr</th>\n",
       "      <th>mo</th>\n",
       "      <th>st</th>\n",
       "      <th>mag</th>\n",
       "      <th>inj</th>\n",
       "      <th>fat</th>\n",
       "      <th>loss</th>\n",
       "      <th>closs</th>\n",
       "      <th>len</th>\n",
       "      <th>wid</th>\n",
       "    </tr>\n",
       "  </thead>\n",
       "  <tbody>\n",
       "    <tr>\n",
       "      <th>0</th>\n",
       "      <td>1950</td>\n",
       "      <td>1</td>\n",
       "      <td>MO</td>\n",
       "      <td>3</td>\n",
       "      <td>3</td>\n",
       "      <td>0</td>\n",
       "      <td>6.0</td>\n",
       "      <td>0.0</td>\n",
       "      <td>9.5</td>\n",
       "      <td>150</td>\n",
       "    </tr>\n",
       "    <tr>\n",
       "      <th>1</th>\n",
       "      <td>1950</td>\n",
       "      <td>1</td>\n",
       "      <td>MO</td>\n",
       "      <td>3</td>\n",
       "      <td>3</td>\n",
       "      <td>0</td>\n",
       "      <td>6.0</td>\n",
       "      <td>0.0</td>\n",
       "      <td>6.2</td>\n",
       "      <td>150</td>\n",
       "    </tr>\n",
       "    <tr>\n",
       "      <th>2</th>\n",
       "      <td>1950</td>\n",
       "      <td>1</td>\n",
       "      <td>IL</td>\n",
       "      <td>3</td>\n",
       "      <td>0</td>\n",
       "      <td>0</td>\n",
       "      <td>5.0</td>\n",
       "      <td>0.0</td>\n",
       "      <td>3.3</td>\n",
       "      <td>100</td>\n",
       "    </tr>\n",
       "    <tr>\n",
       "      <th>3</th>\n",
       "      <td>1950</td>\n",
       "      <td>1</td>\n",
       "      <td>IL</td>\n",
       "      <td>3</td>\n",
       "      <td>3</td>\n",
       "      <td>0</td>\n",
       "      <td>5.0</td>\n",
       "      <td>0.0</td>\n",
       "      <td>3.6</td>\n",
       "      <td>130</td>\n",
       "    </tr>\n",
       "    <tr>\n",
       "      <th>4</th>\n",
       "      <td>1950</td>\n",
       "      <td>1</td>\n",
       "      <td>OH</td>\n",
       "      <td>1</td>\n",
       "      <td>1</td>\n",
       "      <td>0</td>\n",
       "      <td>4.0</td>\n",
       "      <td>0.0</td>\n",
       "      <td>0.1</td>\n",
       "      <td>10</td>\n",
       "    </tr>\n",
       "  </tbody>\n",
       "</table>\n",
       "</div>"
      ],
      "text/plain": [
       "     yr  mo  st  mag  inj  fat  loss  closs  len  wid\n",
       "0  1950   1  MO    3    3    0   6.0    0.0  9.5  150\n",
       "1  1950   1  MO    3    3    0   6.0    0.0  6.2  150\n",
       "2  1950   1  IL    3    0    0   5.0    0.0  3.3  100\n",
       "3  1950   1  IL    3    3    0   5.0    0.0  3.6  130\n",
       "4  1950   1  OH    1    1    0   4.0    0.0  0.1   10"
      ]
     },
     "execution_count": 214,
     "metadata": {},
     "output_type": "execute_result"
    }
   ],
   "source": [
    "tornado_df=pd.read_csv('1950-2018_all_tornadoes.csv', usecols=[              # make a new df with chosen variables only\n",
    "    'yr','mo','st','mag','inj','fat','loss','closs','len','wid'])\n",
    "tornado_df.head()"
   ]
  },
  {
   "cell_type": "markdown",
   "metadata": {},
   "source": [
    "### Step 2:  Find the number of tornadoes per decade to see if there is an increase"
   ]
  },
  {
   "cell_type": "code",
   "execution_count": 224,
   "metadata": {},
   "outputs": [
    {
     "data": {
      "text/html": [
       "<div>\n",
       "<style scoped>\n",
       "    .dataframe tbody tr th:only-of-type {\n",
       "        vertical-align: middle;\n",
       "    }\n",
       "\n",
       "    .dataframe tbody tr th {\n",
       "        vertical-align: top;\n",
       "    }\n",
       "\n",
       "    .dataframe thead th {\n",
       "        text-align: right;\n",
       "    }\n",
       "</style>\n",
       "<table border=\"1\" class=\"dataframe\">\n",
       "  <thead>\n",
       "    <tr style=\"text-align: right;\">\n",
       "      <th></th>\n",
       "      <th>Decade</th>\n",
       "      <th>Number of Tornadoes</th>\n",
       "    </tr>\n",
       "  </thead>\n",
       "  <tbody>\n",
       "    <tr>\n",
       "      <th>0</th>\n",
       "      <td>1950s</td>\n",
       "      <td>4905</td>\n",
       "    </tr>\n",
       "    <tr>\n",
       "      <th>1</th>\n",
       "      <td>1960s</td>\n",
       "      <td>6938</td>\n",
       "    </tr>\n",
       "    <tr>\n",
       "      <th>2</th>\n",
       "      <td>1970s</td>\n",
       "      <td>8711</td>\n",
       "    </tr>\n",
       "    <tr>\n",
       "      <th>3</th>\n",
       "      <td>1980s</td>\n",
       "      <td>8312</td>\n",
       "    </tr>\n",
       "    <tr>\n",
       "      <th>4</th>\n",
       "      <td>1990s</td>\n",
       "      <td>12276</td>\n",
       "    </tr>\n",
       "    <tr>\n",
       "      <th>5</th>\n",
       "      <td>2000s</td>\n",
       "      <td>12970</td>\n",
       "    </tr>\n",
       "    <tr>\n",
       "      <th>6</th>\n",
       "      <td>2010s</td>\n",
       "      <td>10713</td>\n",
       "    </tr>\n",
       "  </tbody>\n",
       "</table>\n",
       "</div>"
      ],
      "text/plain": [
       "  Decade  Number of Tornadoes\n",
       "0  1950s                 4905\n",
       "1  1960s                 6938\n",
       "2  1970s                 8711\n",
       "3  1980s                 8312\n",
       "4  1990s                12276\n",
       "5  2000s                12970\n",
       "6  2010s                10713"
      ]
     },
     "execution_count": 224,
     "metadata": {},
     "output_type": "execute_result"
    }
   ],
   "source": [
    "# Find the number of tornadoes in each decade    (rewrite this code like I did the others?)\n",
    "\n",
    "fifties=len(tornado_df.loc[tornado_df['yr']<1960])\n",
    "sixties=len(tornado_df.loc[tornado_df['yr']<1970])-fifties\n",
    "seventies=len(tornado_df.loc[tornado_df['yr']<1980])-(sixties+fifties)\n",
    "eighties=len(tornado_df.loc[tornado_df['yr']<1990])-(seventies+sixties+fifties)\n",
    "nineties=len(tornado_df.loc[tornado_df['yr']<2000])-(eighties+seventies+sixties+fifties)\n",
    "naughts=len(tornado_df.loc[tornado_df['yr']<2010])-(nineties+eighties+seventies+sixties+fifties)\n",
    "tens=len(tornado_df.loc[tornado_df['yr']<2020])-(naughts+nineties+eighties+seventies+sixties+fifties)\n",
    "\n",
    "\n",
    "# Make a dictionary/change to df\n",
    "\n",
    "d={'Decade':['1950s', '1960s', '1970s', '1980s', '1990s','2000s','2010s'], 'Number of Tornadoes':[\n",
    "    fifties, sixties, seventies, eighties, nineties, naughts, tens]}\n",
    "\n",
    "tornado_decade = pd.DataFrame(data=d)\n",
    "tornado_decade\n",
    "\n",
    "\n",
    "\n"
   ]
  },
  {
   "cell_type": "code",
   "execution_count": 135,
   "metadata": {},
   "outputs": [
    {
     "name": "stderr",
     "output_type": "stream",
     "text": [
      "<ipython-input-135-64e41b47ce84>:14: UserWarning: Matplotlib is currently using module://ipykernel.pylab.backend_inline, which is a non-GUI backend, so cannot show the figure.\n",
      "  fig.show()\n"
     ]
    },
    {
     "data": {
      "image/png": "[encoded data removed]",
      "text/plain": [
       "<Figure size 864x576 with 2 Axes>"
      ]
     },
     "metadata": {
      "needs_background": "light"
     },
     "output_type": "display_data"
    }
   ],
   "source": [
    "fig, ax_list = plt.subplots(2,1,figsize=(12,8))\n",
    "\n",
    "\n",
    "ax_list[0].bar(tornado_decade[\"Decade\"], tornado_decade[\"Number of Tornadoes\"])   #make a bar plot of the data\n",
    "ax_list[0].set_title(\"Number of Tornadoes per Decade Since 1950\")\n",
    "#ax_list[0].set_xlabel(\"Decade\")\n",
    "ax_list[0].set_ylabel(\"Number of Tornadoes\")\n",
    "\n",
    "ax_list[1].plot(tornado_decade[\"Decade\"], tornado_decade[\"Number of Tornadoes\"])  #make a line plot of the data\n",
    "#ax_list[1].set_title(\"Number of Tornadoes per Decade Since 1950\")\n",
    "ax_list[1].set_xlabel(\"Decade\")\n",
    "ax_list[1].set_ylabel(\"Number of Tornados\")\n",
    "\n",
    "fig.show()\n"
   ]
  },
  {
   "cell_type": "markdown",
   "metadata": {},
   "source": [
    "### Observation:  There certainly seems to be an increase in the number of tornadoes since the fifties!  The decrease in 2010s is promising.  If the overall increase is due to carbon emissions, perhaps regulations put in place in the 2000s is making an impact."
   ]
  },
  {
   "cell_type": "markdown",
   "metadata": {},
   "source": [
    "### Step 3:  See if there is an increase in the number of injuries and fatalaties over time"
   ]
  },
  {
   "cell_type": "code",
   "execution_count": 257,
   "metadata": {},
   "outputs": [
    {
     "data": {
      "text/html": [
       "<div>\n",
       "<style scoped>\n",
       "    .dataframe tbody tr th:only-of-type {\n",
       "        vertical-align: middle;\n",
       "    }\n",
       "\n",
       "    .dataframe tbody tr th {\n",
       "        vertical-align: top;\n",
       "    }\n",
       "\n",
       "    .dataframe thead th {\n",
       "        text-align: right;\n",
       "    }\n",
       "</style>\n",
       "<table border=\"1\" class=\"dataframe\">\n",
       "  <thead>\n",
       "    <tr style=\"text-align: right;\">\n",
       "      <th></th>\n",
       "      <th>Decade</th>\n",
       "      <th>Number of Injuries and Fatalities</th>\n",
       "    </tr>\n",
       "  </thead>\n",
       "  <tbody>\n",
       "    <tr>\n",
       "      <th>0</th>\n",
       "      <td>1950s</td>\n",
       "      <td>18280</td>\n",
       "    </tr>\n",
       "    <tr>\n",
       "      <th>1</th>\n",
       "      <td>1960s</td>\n",
       "      <td>20174</td>\n",
       "    </tr>\n",
       "    <tr>\n",
       "      <th>2</th>\n",
       "      <td>1970s</td>\n",
       "      <td>27466</td>\n",
       "    </tr>\n",
       "    <tr>\n",
       "      <th>3</th>\n",
       "      <td>1980s</td>\n",
       "      <td>13497</td>\n",
       "    </tr>\n",
       "    <tr>\n",
       "      <th>4</th>\n",
       "      <td>1990s</td>\n",
       "      <td>12746</td>\n",
       "    </tr>\n",
       "    <tr>\n",
       "      <th>5</th>\n",
       "      <td>2000s</td>\n",
       "      <td>10076</td>\n",
       "    </tr>\n",
       "    <tr>\n",
       "      <th>6</th>\n",
       "      <td>2010s</td>\n",
       "      <td>12861</td>\n",
       "    </tr>\n",
       "  </tbody>\n",
       "</table>\n",
       "</div>"
      ],
      "text/plain": [
       "  Decade  Number of Injuries and Fatalities\n",
       "0  1950s                              18280\n",
       "1  1960s                              20174\n",
       "2  1970s                              27466\n",
       "3  1980s                              13497\n",
       "4  1990s                              12746\n",
       "5  2000s                              10076\n",
       "6  2010s                              12861"
      ]
     },
     "execution_count": 257,
     "metadata": {},
     "output_type": "execute_result"
    }
   ],
   "source": [
    "# Find the number of injuries and fatalities per decade  \n",
    "\n",
    "inj_fat5=(tornado_df['inj'].loc[tornado_df['yr']<1960].sum(axis=0))+(tornado_df['fat'].loc[tornado_df['yr']<1960].sum(axis=0))\n",
    "inj_fat6=(tornado_df['inj'].loc[(tornado_df['yr']>=1960)&(tornado_df['yr']<1970)].sum(axis=0)) + (tornado_df['fat'].loc[\n",
    "    (tornado_df['yr']>=1960)&(tornado_df['yr']<1970)].sum(axis=0))\n",
    "inj_fat7=(tornado_df['inj'].loc[(tornado_df['yr']>=1970)&(tornado_df['yr']<1980)].sum(axis=0)) + (tornado_df['fat'].loc[\n",
    "    (tornado_df['yr']>=1970)&(tornado_df['yr']<1980)].sum(axis=0))\n",
    "inj_fat8=(tornado_df['inj'].loc[(tornado_df['yr']>=1980)&(tornado_df['yr']<1990)].sum(axis=0)) + (tornado_df['fat'].loc[\n",
    "    (tornado_df['yr']>=1980)&(tornado_df['yr']<1990)].sum(axis=0))\n",
    "inj_fat9=(tornado_df['inj'].loc[(tornado_df['yr']>=1990)&(tornado_df['yr']<2000)].sum(axis=0)) + (tornado_df['fat'].loc[\n",
    "    (tornado_df['yr']>=1990)&(tornado_df['yr']<2000)].sum(axis=0))\n",
    "inj_fat0=(tornado_df['inj'].loc[(tornado_df['yr']>=2000)&(tornado_df['yr']<2010)].sum(axis=0)) + (tornado_df['fat'].loc[\n",
    "    (tornado_df['yr']>=2000)&(tornado_df['yr']<2010)].sum(axis=0))\n",
    "inj_fat1=(tornado_df['inj'].loc[(tornado_df['yr']>=2010)&(tornado_df['yr']<2020)].sum(axis=0)) + (tornado_df['fat'].loc[\n",
    "    (tornado_df['yr']>=2010)&(tornado_df['yr']<2020)].sum(axis=0))\n",
    "\n",
    "# Make a dictionary/change to df\n",
    "\n",
    "d1={'Decade':['1950s', '1960s', '1970s', '1980s', '1990s','2000s','2010s'], 'Number of Injuries and Fatalities':[inj_fat5, inj_fat6, inj_fat7, inj_fat8, inj_fat9, inj_fat0, inj_fat1]}\n",
    "\n",
    "tornado_injfat_decade = pd.DataFrame(data=d1)\n",
    "tornado_injfat_decade\n"
   ]
  },
  {
   "cell_type": "code",
   "execution_count": 258,
   "metadata": {},
   "outputs": [
    {
     "name": "stderr",
     "output_type": "stream",
     "text": [
      "<ipython-input-258-4619a7138f37>:14: UserWarning: Matplotlib is currently using module://ipykernel.pylab.backend_inline, which is a non-GUI backend, so cannot show the figure.\n",
      "  fig.show()\n"
     ]
    },
    {
     "data": {
      "image/png": "[encoded data removed]",
      "text/plain": [
       "<Figure size 864x576 with 2 Axes>"
      ]
     },
     "metadata": {
      "needs_background": "light"
     },
     "output_type": "display_data"
    }
   ],
   "source": [
    "fig, ax_list = plt.subplots(2,1,figsize=(12,8))              #make a bar and line plot of injuries+fatalities\n",
    "\n",
    "\n",
    "ax_list[0].bar(tornado_injfat_decade[\"Decade\"], tornado_injfat_decade[\"Number of Injuries and Fatalities\"])\n",
    "ax_list[0].set_title(\"Number of Injuries and Fatalities due to Tornadoes per Decade Since 1950\")\n",
    "#ax_list[0].set_xlabel(\"Decade\")\n",
    "ax_list[0].set_ylabel(\"Number of Injuries and Fatalities\")\n",
    "\n",
    "ax_list[1].plot(tornado_injfat_decade[\"Decade\"], tornado_injfat_decade[\"Number of Injuries and Fatalities\"])\n",
    "#ax_list[1].set_title(\"Number of Injuries and Fatalities per Decade Since 1950\")\n",
    "ax_list[1].set_xlabel(\"Decade\")\n",
    "ax_list[1].set_ylabel(\"Number of Injuries and Fatalities\")\n",
    "\n",
    "fig.show()"
   ]
  },
  {
   "cell_type": "markdown",
   "metadata": {},
   "source": [
    "### Observation:  I wasn't expecting to see a decrease!  Perhaps we've gotten better at alerting and preparing for tornadoes.  So maybe this doesn't belong in my project."
   ]
  },
  {
   "cell_type": "markdown",
   "metadata": {},
   "source": [
    "### Step 4:  See if there is an increase in the severity of the tornadoes over time"
   ]
  },
  {
   "cell_type": "code",
   "execution_count": 242,
   "metadata": {},
   "outputs": [
    {
     "data": {
      "text/html": [
       "<div>\n",
       "<style scoped>\n",
       "    .dataframe tbody tr th:only-of-type {\n",
       "        vertical-align: middle;\n",
       "    }\n",
       "\n",
       "    .dataframe tbody tr th {\n",
       "        vertical-align: top;\n",
       "    }\n",
       "\n",
       "    .dataframe thead th {\n",
       "        text-align: right;\n",
       "    }\n",
       "</style>\n",
       "<table border=\"1\" class=\"dataframe\">\n",
       "  <thead>\n",
       "    <tr style=\"text-align: right;\">\n",
       "      <th></th>\n",
       "      <th>Decade</th>\n",
       "      <th>Average f-score (magnitude)</th>\n",
       "    </tr>\n",
       "  </thead>\n",
       "  <tbody>\n",
       "    <tr>\n",
       "      <th>0</th>\n",
       "      <td>1950s</td>\n",
       "      <td>1.341081</td>\n",
       "    </tr>\n",
       "    <tr>\n",
       "      <th>1</th>\n",
       "      <td>1960s</td>\n",
       "      <td>1.219948</td>\n",
       "    </tr>\n",
       "    <tr>\n",
       "      <th>2</th>\n",
       "      <td>1970s</td>\n",
       "      <td>1.115142</td>\n",
       "    </tr>\n",
       "    <tr>\n",
       "      <th>3</th>\n",
       "      <td>1980s</td>\n",
       "      <td>0.866819</td>\n",
       "    </tr>\n",
       "    <tr>\n",
       "      <th>4</th>\n",
       "      <td>1990s</td>\n",
       "      <td>0.576246</td>\n",
       "    </tr>\n",
       "    <tr>\n",
       "      <th>5</th>\n",
       "      <td>2000s</td>\n",
       "      <td>0.500386</td>\n",
       "    </tr>\n",
       "    <tr>\n",
       "      <th>6</th>\n",
       "      <td>2010s</td>\n",
       "      <td>0.532251</td>\n",
       "    </tr>\n",
       "  </tbody>\n",
       "</table>\n",
       "</div>"
      ],
      "text/plain": [
       "  Decade  Average f-score (magnitude)\n",
       "0  1950s                     1.341081\n",
       "1  1960s                     1.219948\n",
       "2  1970s                     1.115142\n",
       "3  1980s                     0.866819\n",
       "4  1990s                     0.576246\n",
       "5  2000s                     0.500386\n",
       "6  2010s                     0.532251"
      ]
     },
     "execution_count": 242,
     "metadata": {},
     "output_type": "execute_result"
    }
   ],
   "source": [
    "# Find the average f-score per decade\n",
    "\n",
    "mag_fif=tornado_df['mag'].loc[tornado_df['yr']<1960].mean(axis=0)\n",
    "mag_six=tornado_df['mag'].loc[(tornado_df['yr']>=1960)&(tornado_df['yr']<1970)].mean(axis=0)\n",
    "mag_sev=tornado_df['mag'].loc[(tornado_df['yr']>=1970)&(tornado_df['yr']<1980)].mean(axis=0)\n",
    "mag_eig=tornado_df['mag'].loc[(tornado_df['yr']>=1980)&(tornado_df['yr']<1990)].mean(axis=0)\n",
    "mag_nin=tornado_df['mag'].loc[(tornado_df['yr']>=1990)&(tornado_df['yr']<2000)].mean(axis=0)\n",
    "mag_nau=tornado_df['mag'].loc[(tornado_df['yr']>=2000)&(tornado_df['yr']<2010)].mean(axis=0)\n",
    "mag_ten=tornado_df['mag'].loc[(tornado_df['yr']>=2010)&(tornado_df['yr']<2020)].mean(axis=0)\n",
    "\n",
    "# Make a dictionary/change to df\n",
    "\n",
    "d2={'Decade':['1950s', '1960s', '1970s', '1980s', '1990s','2000s','2010s'], 'Average f-score (magnitude)':[\n",
    "mag_fif, mag_six, mag_sev, mag_eig, mag_nin, mag_nau, mag_ten]}\n",
    "\n",
    "tornado_mag_decade = pd.DataFrame(data=d2)\n",
    "tornado_mag_decade\n"
   ]
  },
  {
   "cell_type": "markdown",
   "metadata": {},
   "source": [
    "### Observation:  There is a decrease in the average magnitude of the tornadoes"
   ]
  },
  {
   "cell_type": "markdown",
   "metadata": {},
   "source": [
    "### Step 5:  See if there is an increase in the length and width of the storms"
   ]
  },
  {
   "cell_type": "code",
   "execution_count": 259,
   "metadata": {},
   "outputs": [
    {
     "data": {
      "text/html": [
       "<div>\n",
       "<style scoped>\n",
       "    .dataframe tbody tr th:only-of-type {\n",
       "        vertical-align: middle;\n",
       "    }\n",
       "\n",
       "    .dataframe tbody tr th {\n",
       "        vertical-align: top;\n",
       "    }\n",
       "\n",
       "    .dataframe thead th {\n",
       "        text-align: right;\n",
       "    }\n",
       "</style>\n",
       "<table border=\"1\" class=\"dataframe\">\n",
       "  <thead>\n",
       "    <tr style=\"text-align: right;\">\n",
       "      <th></th>\n",
       "      <th>Decade</th>\n",
       "      <th>Average length in miles</th>\n",
       "      <th>Average width in miles</th>\n",
       "    </tr>\n",
       "  </thead>\n",
       "  <tbody>\n",
       "    <tr>\n",
       "      <th>0</th>\n",
       "      <td>1950s</td>\n",
       "      <td>6.013721</td>\n",
       "      <td>112.240775</td>\n",
       "    </tr>\n",
       "    <tr>\n",
       "      <th>1</th>\n",
       "      <td>1960s</td>\n",
       "      <td>4.430971</td>\n",
       "      <td>85.711300</td>\n",
       "    </tr>\n",
       "    <tr>\n",
       "      <th>2</th>\n",
       "      <td>1970s</td>\n",
       "      <td>4.245001</td>\n",
       "      <td>84.632189</td>\n",
       "    </tr>\n",
       "    <tr>\n",
       "      <th>3</th>\n",
       "      <td>1980s</td>\n",
       "      <td>3.105570</td>\n",
       "      <td>80.240014</td>\n",
       "    </tr>\n",
       "    <tr>\n",
       "      <th>4</th>\n",
       "      <td>1990s</td>\n",
       "      <td>2.618084</td>\n",
       "      <td>85.691838</td>\n",
       "    </tr>\n",
       "    <tr>\n",
       "      <th>5</th>\n",
       "      <td>2000s</td>\n",
       "      <td>3.012140</td>\n",
       "      <td>110.390594</td>\n",
       "    </tr>\n",
       "    <tr>\n",
       "      <th>6</th>\n",
       "      <td>2010s</td>\n",
       "      <td>3.739469</td>\n",
       "      <td>171.940259</td>\n",
       "    </tr>\n",
       "  </tbody>\n",
       "</table>\n",
       "</div>"
      ],
      "text/plain": [
       "  Decade  Average length in miles  Average width in miles\n",
       "0  1950s                 6.013721              112.240775\n",
       "1  1960s                 4.430971               85.711300\n",
       "2  1970s                 4.245001               84.632189\n",
       "3  1980s                 3.105570               80.240014\n",
       "4  1990s                 2.618084               85.691838\n",
       "5  2000s                 3.012140              110.390594\n",
       "6  2010s                 3.739469              171.940259"
      ]
     },
     "execution_count": 259,
     "metadata": {},
     "output_type": "execute_result"
    }
   ],
   "source": [
    "# Find the average length of the storms in miles per decade\n",
    "\n",
    "len_fif=tornado_df['len'].loc[tornado_df['yr']<1960].mean(axis=0)\n",
    "len_six=tornado_df['len'].loc[(tornado_df['yr']>=1960)&(tornado_df['yr']<1970)].mean(axis=0)\n",
    "len_sev=tornado_df['len'].loc[(tornado_df['yr']>=1970)&(tornado_df['yr']<1980)].mean(axis=0)\n",
    "len_eig=tornado_df['len'].loc[(tornado_df['yr']>=1980)&(tornado_df['yr']<1990)].mean(axis=0)\n",
    "len_nin=tornado_df['len'].loc[(tornado_df['yr']>=1990)&(tornado_df['yr']<2000)].mean(axis=0)\n",
    "len_nau=tornado_df['len'].loc[(tornado_df['yr']>=2000)&(tornado_df['yr']<2010)].mean(axis=0)\n",
    "len_ten=tornado_df['len'].loc[(tornado_df['yr']>=2010)&(tornado_df['yr']<2020)].mean(axis=0)\n",
    "\n",
    "# Find the average width of the storms in miles per decade\n",
    "\n",
    "wid_fif=tornado_df['wid'].loc[tornado_df['yr']<1960].mean(axis=0)\n",
    "wid_six=tornado_df['wid'].loc[(tornado_df['yr']>=1960)&(tornado_df['yr']<1970)].mean(axis=0)\n",
    "wid_sev=tornado_df['wid'].loc[(tornado_df['yr']>=1970)&(tornado_df['yr']<1980)].mean(axis=0)\n",
    "wid_eig=tornado_df['wid'].loc[(tornado_df['yr']>=1980)&(tornado_df['yr']<1990)].mean(axis=0)\n",
    "wid_nin=tornado_df['wid'].loc[(tornado_df['yr']>=1990)&(tornado_df['yr']<2000)].mean(axis=0)\n",
    "wid_nau=tornado_df['wid'].loc[(tornado_df['yr']>=2000)&(tornado_df['yr']<2010)].mean(axis=0)\n",
    "wid_ten=tornado_df['wid'].loc[(tornado_df['yr']>=2010)&(tornado_df['yr']<2020)].mean(axis=0)\n",
    "\n",
    "# Make a dictionary/change to df\n",
    "\n",
    "d3={'Decade':['1950s', '1960s', '1970s', '1980s', '1990s','2000s','2010s'], 'Average length in miles':[\n",
    "len_fif, len_six, len_sev, len_eig, len_nin, len_nau, len_ten],'Average width in miles':[\n",
    "    wid_fif, wid_six, wid_sev, wid_eig, wid_nin, wid_nau, wid_ten]}\n",
    "\n",
    "tornado_size_decade = pd.DataFrame(data=d3)\n",
    "tornado_size_decade\n"
   ]
  },
  {
   "cell_type": "code",
   "execution_count": 265,
   "metadata": {},
   "outputs": [
    {
     "name": "stderr",
     "output_type": "stream",
     "text": [
      "<ipython-input-265-9bdef137e4c6>:6: UserWarning: Matplotlib is currently using module://ipykernel.pylab.backend_inline, which is a non-GUI backend, so cannot show the figure.\n",
      "  fig.show()\n",
      "<ipython-input-265-9bdef137e4c6>:13: UserWarning: Matplotlib is currently using module://ipykernel.pylab.backend_inline, which is a non-GUI backend, so cannot show the figure.\n",
      "  fig.show()\n",
      "<ipython-input-265-9bdef137e4c6>:20: UserWarning: Matplotlib is currently using module://ipykernel.pylab.backend_inline, which is a non-GUI backend, so cannot show the figure.\n",
      "  fig.show()\n",
      "<ipython-input-265-9bdef137e4c6>:27: UserWarning: Matplotlib is currently using module://ipykernel.pylab.backend_inline, which is a non-GUI backend, so cannot show the figure.\n",
      "  fig.show()\n"
     ]
    },
    {
     "data": {
      "image/png": "[encoded data removed]",
      "text/plain": [
       "<Figure size 432x288 with 1 Axes>"
      ]
     },
     "metadata": {
      "needs_background": "light"
     },
     "output_type": "display_data"
    },
    {
     "data": {
      "image/png": "[encoded data removed]",
      "text/plain": [
       "<Figure size 432x288 with 1 Axes>"
      ]
     },
     "metadata": {
      "needs_background": "light"
     },
     "output_type": "display_data"
    },
    {
     "data": {
      "image/png": "[encoded data removed]",
      "text/plain": [
       "<Figure size 432x288 with 1 Axes>"
      ]
     },
     "metadata": {
      "needs_background": "light"
     },
     "output_type": "display_data"
    },
    {
     "data": {
      "image/png": "[encoded data removed]",
      "text/plain": [
       "<Figure size 432x288 with 1 Axes>"
      ]
     },
     "metadata": {
      "needs_background": "light"
     },
     "output_type": "display_data"
    }
   ],
   "source": [
    "ax=tornado_size_decade.plot.bar(\"Decade\",\"Average length in miles\")           # make bar and line plots\n",
    "ax.set_title(\"Size of Tornado\")                                               # (make this 2x 2 plot)\n",
    "ax.set_xlabel(\"Decade\")\n",
    "ax.set_ylabel(\"Miles\")\n",
    "\n",
    "fig.show()\n",
    "\n",
    "ax=tornado_size_decade.plot.bar(\"Decade\",\"Average width in miles\")\n",
    "ax.set_title(\"Size of Tornado\")\n",
    "ax.set_xlabel(\"Decade\")\n",
    "ax.set_ylabel(\"Miles\")\n",
    "\n",
    "fig.show()\n",
    "\n",
    "ax=tornado_size_decade.plot(\"Decade\",\"Average length in miles\")\n",
    "ax.set_title(\"Size of Tornado\")\n",
    "ax.set_xlabel(\"Decade\")\n",
    "ax.set_ylabel(\"Miles\")\n",
    "\n",
    "fig.show()\n",
    "\n",
    "ax=tornado_size_decade.plot(\"Decade\",\"Average width in miles\")\n",
    "ax.set_title(\"Size of Tornado\")\n",
    "ax.set_xlabel(\"Decade\")\n",
    "ax.set_ylabel(\"Miles\")\n",
    "\n",
    "fig.show()"
   ]
  },
  {
   "cell_type": "markdown",
   "metadata": {},
   "source": [
    "### Observation:  After a decrease in size, there seems to be an increase since the 90s"
   ]
  },
  {
   "cell_type": "code",
   "execution_count": 267,
   "metadata": {},
   "outputs": [
    {
     "data": {
      "text/html": [
       "<div>\n",
       "<style scoped>\n",
       "    .dataframe tbody tr th:only-of-type {\n",
       "        vertical-align: middle;\n",
       "    }\n",
       "\n",
       "    .dataframe tbody tr th {\n",
       "        vertical-align: top;\n",
       "    }\n",
       "\n",
       "    .dataframe thead th {\n",
       "        text-align: right;\n",
       "    }\n",
       "</style>\n",
       "<table border=\"1\" class=\"dataframe\">\n",
       "  <thead>\n",
       "    <tr style=\"text-align: right;\">\n",
       "      <th></th>\n",
       "      <th>Decade</th>\n",
       "      <th>Total Crop Loss in Millions of Dollars</th>\n",
       "    </tr>\n",
       "  </thead>\n",
       "  <tbody>\n",
       "    <tr>\n",
       "      <th>0</th>\n",
       "      <td>1950s</td>\n",
       "      <td>0.000000e+00</td>\n",
       "    </tr>\n",
       "    <tr>\n",
       "      <th>1</th>\n",
       "      <td>1960s</td>\n",
       "      <td>0.000000e+00</td>\n",
       "    </tr>\n",
       "    <tr>\n",
       "      <th>2</th>\n",
       "      <td>1970s</td>\n",
       "      <td>0.000000e+00</td>\n",
       "    </tr>\n",
       "    <tr>\n",
       "      <th>3</th>\n",
       "      <td>1980s</td>\n",
       "      <td>0.000000e+00</td>\n",
       "    </tr>\n",
       "    <tr>\n",
       "      <th>4</th>\n",
       "      <td>1990s</td>\n",
       "      <td>0.000000e+00</td>\n",
       "    </tr>\n",
       "    <tr>\n",
       "      <th>5</th>\n",
       "      <td>2000s</td>\n",
       "      <td>4.714450e+01</td>\n",
       "    </tr>\n",
       "    <tr>\n",
       "      <th>6</th>\n",
       "      <td>2010s</td>\n",
       "      <td>2.237806e+07</td>\n",
       "    </tr>\n",
       "  </tbody>\n",
       "</table>\n",
       "</div>"
      ],
      "text/plain": [
       "  Decade  Total Crop Loss in Millions of Dollars\n",
       "0  1950s                            0.000000e+00\n",
       "1  1960s                            0.000000e+00\n",
       "2  1970s                            0.000000e+00\n",
       "3  1980s                            0.000000e+00\n",
       "4  1990s                            0.000000e+00\n",
       "5  2000s                            4.714450e+01\n",
       "6  2010s                            2.237806e+07"
      ]
     },
     "execution_count": 267,
     "metadata": {},
     "output_type": "execute_result"
    }
   ],
   "source": [
    "# Find the total crop loss per decade  \n",
    "\n",
    "closs_5=(tornado_df['closs'].loc[tornado_df['yr']<1960].sum(axis=0))\n",
    "closs_6=(tornado_df['closs'].loc[(tornado_df['yr']>=1960)&(tornado_df['yr']<1970)].sum(axis=0)) \n",
    "closs_7=(tornado_df['closs'].loc[(tornado_df['yr']>=1970)&(tornado_df['yr']<1980)].sum(axis=0)) \n",
    "closs_8=(tornado_df['closs'].loc[(tornado_df['yr']>=1980)&(tornado_df['yr']<1990)].sum(axis=0)) \n",
    "closs_9=(tornado_df['closs'].loc[(tornado_df['yr']>=1990)&(tornado_df['yr']<2000)].sum(axis=0)) \n",
    "closs_0=(tornado_df['closs'].loc[(tornado_df['yr']>=2000)&(tornado_df['yr']<2010)].sum(axis=0))\n",
    "closs_1=(tornado_df['closs'].loc[(tornado_df['yr']>=2010)&(tornado_df['yr']<2020)].sum(axis=0)) \n",
    "\n",
    "# Make a dictionary/change to df\n",
    "\n",
    "d4={'Decade':['1950s', '1960s', '1970s', '1980s', '1990s','2000s','2010s'], 'Total Crop Loss in Millions of Dollars':[\n",
    "    closs_5, closs_6, closs_7, closs_8, closs_9, closs_0, closs_1]}\n",
    "\n",
    "tornado_closs_decade = pd.DataFrame(data=d4)\n",
    "tornado_closs_decade\n"
   ]
  },
  {
   "cell_type": "markdown",
   "metadata": {},
   "source": [
    "### Observation:  Didn't realize there wasn't data on this until 2000.  Probably not worth keeping."
   ]
  },
  {
   "cell_type": "markdown",
   "metadata": {},
   "source": [
    "#  Part 2:  Temperature and Precipitation Analysis\n",
    "\n",
    "##  Note:  Since starting, I have found new data for annual values for the US as a whole, since 1950, which I think will go better with the tornado data.  So I plan to maybe redo or add that to this part.  "
   ]
  },
  {
   "cell_type": "markdown",
   "metadata": {},
   "source": [
    "## Source:  In order to compare densely vs. non-densely populated areas, I ordered yearly date for Baltimore and Savage River Dam, MD (Western MD) from NOAA.  https://www.ncdc.noaa.gov/cdo-web/confirmation"
   ]
  },
  {
   "cell_type": "markdown",
   "metadata": {},
   "source": [
    "### Step 1:  Read in, get a feel for the data, and organize "
   ]
  },
  {
   "cell_type": "code",
   "execution_count": 225,
   "metadata": {},
   "outputs": [
    {
     "data": {
      "text/plain": [
       "(135, 17)"
      ]
     },
     "execution_count": 225,
     "metadata": {},
     "output_type": "execute_result"
    }
   ],
   "source": [
    "df2=pd.read_csv('2328476.csv')               # Read the precip and temp data file into python data frame\n",
    "\n",
    "df2.shape                                    # Find number of rows/observations and columns/variables"
   ]
  },
  {
   "cell_type": "code",
   "execution_count": 197,
   "metadata": {},
   "outputs": [
    {
     "data": {
      "text/html": [
       "<div>\n",
       "<style scoped>\n",
       "    .dataframe tbody tr th:only-of-type {\n",
       "        vertical-align: middle;\n",
       "    }\n",
       "\n",
       "    .dataframe tbody tr th {\n",
       "        vertical-align: top;\n",
       "    }\n",
       "\n",
       "    .dataframe thead th {\n",
       "        text-align: right;\n",
       "    }\n",
       "</style>\n",
       "<table border=\"1\" class=\"dataframe\">\n",
       "  <thead>\n",
       "    <tr style=\"text-align: right;\">\n",
       "      <th></th>\n",
       "      <th>STATION</th>\n",
       "      <th>NAME</th>\n",
       "      <th>DATE</th>\n",
       "      <th>CDSD</th>\n",
       "      <th>DSND</th>\n",
       "      <th>DSNW</th>\n",
       "      <th>EMNT</th>\n",
       "      <th>EMSD</th>\n",
       "      <th>EMSN</th>\n",
       "      <th>EMXP</th>\n",
       "      <th>EMXT</th>\n",
       "      <th>HDSD</th>\n",
       "      <th>PRCP</th>\n",
       "      <th>SNOW</th>\n",
       "      <th>TAVG</th>\n",
       "      <th>TMAX</th>\n",
       "      <th>TMIN</th>\n",
       "    </tr>\n",
       "  </thead>\n",
       "  <tbody>\n",
       "    <tr>\n",
       "      <th>0</th>\n",
       "      <td>USC00188065</td>\n",
       "      <td>SAVAGE RIVER DAM, MD US</td>\n",
       "      <td>1950</td>\n",
       "      <td>NaN</td>\n",
       "      <td>NaN</td>\n",
       "      <td>NaN</td>\n",
       "      <td>NaN</td>\n",
       "      <td>NaN</td>\n",
       "      <td>NaN</td>\n",
       "      <td>NaN</td>\n",
       "      <td>NaN</td>\n",
       "      <td>NaN</td>\n",
       "      <td>38.05</td>\n",
       "      <td>NaN</td>\n",
       "      <td>NaN</td>\n",
       "      <td>NaN</td>\n",
       "      <td>NaN</td>\n",
       "    </tr>\n",
       "    <tr>\n",
       "      <th>1</th>\n",
       "      <td>USC00188065</td>\n",
       "      <td>SAVAGE RIVER DAM, MD US</td>\n",
       "      <td>1951</td>\n",
       "      <td>NaN</td>\n",
       "      <td>NaN</td>\n",
       "      <td>NaN</td>\n",
       "      <td>NaN</td>\n",
       "      <td>NaN</td>\n",
       "      <td>NaN</td>\n",
       "      <td>NaN</td>\n",
       "      <td>NaN</td>\n",
       "      <td>NaN</td>\n",
       "      <td>41.11</td>\n",
       "      <td>NaN</td>\n",
       "      <td>NaN</td>\n",
       "      <td>NaN</td>\n",
       "      <td>NaN</td>\n",
       "    </tr>\n",
       "    <tr>\n",
       "      <th>2</th>\n",
       "      <td>USC00188065</td>\n",
       "      <td>SAVAGE RIVER DAM, MD US</td>\n",
       "      <td>1952</td>\n",
       "      <td>NaN</td>\n",
       "      <td>NaN</td>\n",
       "      <td>NaN</td>\n",
       "      <td>NaN</td>\n",
       "      <td>NaN</td>\n",
       "      <td>NaN</td>\n",
       "      <td>NaN</td>\n",
       "      <td>NaN</td>\n",
       "      <td>NaN</td>\n",
       "      <td>38.73</td>\n",
       "      <td>NaN</td>\n",
       "      <td>NaN</td>\n",
       "      <td>NaN</td>\n",
       "      <td>NaN</td>\n",
       "    </tr>\n",
       "    <tr>\n",
       "      <th>3</th>\n",
       "      <td>USC00188065</td>\n",
       "      <td>SAVAGE RIVER DAM, MD US</td>\n",
       "      <td>1953</td>\n",
       "      <td>596.0</td>\n",
       "      <td>NaN</td>\n",
       "      <td>NaN</td>\n",
       "      <td>8.0</td>\n",
       "      <td>NaN</td>\n",
       "      <td>NaN</td>\n",
       "      <td>1.34</td>\n",
       "      <td>98.0</td>\n",
       "      <td>5615.0</td>\n",
       "      <td>31.67</td>\n",
       "      <td>NaN</td>\n",
       "      <td>51.4</td>\n",
       "      <td>63.9</td>\n",
       "      <td>38.9</td>\n",
       "    </tr>\n",
       "    <tr>\n",
       "      <th>4</th>\n",
       "      <td>USC00188065</td>\n",
       "      <td>SAVAGE RIVER DAM, MD US</td>\n",
       "      <td>1954</td>\n",
       "      <td>NaN</td>\n",
       "      <td>NaN</td>\n",
       "      <td>NaN</td>\n",
       "      <td>NaN</td>\n",
       "      <td>NaN</td>\n",
       "      <td>NaN</td>\n",
       "      <td>NaN</td>\n",
       "      <td>NaN</td>\n",
       "      <td>5710.0</td>\n",
       "      <td>NaN</td>\n",
       "      <td>NaN</td>\n",
       "      <td>NaN</td>\n",
       "      <td>NaN</td>\n",
       "      <td>NaN</td>\n",
       "    </tr>\n",
       "  </tbody>\n",
       "</table>\n",
       "</div>"
      ],
      "text/plain": [
       "       STATION                     NAME  DATE   CDSD  DSND  DSNW  EMNT  EMSD  \\\n",
       "0  USC00188065  SAVAGE RIVER DAM, MD US  1950    NaN   NaN   NaN   NaN   NaN   \n",
       "1  USC00188065  SAVAGE RIVER DAM, MD US  1951    NaN   NaN   NaN   NaN   NaN   \n",
       "2  USC00188065  SAVAGE RIVER DAM, MD US  1952    NaN   NaN   NaN   NaN   NaN   \n",
       "3  USC00188065  SAVAGE RIVER DAM, MD US  1953  596.0   NaN   NaN   8.0   NaN   \n",
       "4  USC00188065  SAVAGE RIVER DAM, MD US  1954    NaN   NaN   NaN   NaN   NaN   \n",
       "\n",
       "   EMSN  EMXP  EMXT    HDSD   PRCP  SNOW  TAVG  TMAX  TMIN  \n",
       "0   NaN   NaN   NaN     NaN  38.05   NaN   NaN   NaN   NaN  \n",
       "1   NaN   NaN   NaN     NaN  41.11   NaN   NaN   NaN   NaN  \n",
       "2   NaN   NaN   NaN     NaN  38.73   NaN   NaN   NaN   NaN  \n",
       "3   NaN  1.34  98.0  5615.0  31.67   NaN  51.4  63.9  38.9  \n",
       "4   NaN   NaN   NaN  5710.0    NaN   NaN   NaN   NaN   NaN  "
      ]
     },
     "execution_count": 197,
     "metadata": {},
     "output_type": "execute_result"
    }
   ],
   "source": [
    "df2.head()                                   # Display first 5 rows"
   ]
  },
  {
   "cell_type": "code",
   "execution_count": 198,
   "metadata": {},
   "outputs": [
    {
     "data": {
      "text/html": [
       "<div>\n",
       "<style scoped>\n",
       "    .dataframe tbody tr th:only-of-type {\n",
       "        vertical-align: middle;\n",
       "    }\n",
       "\n",
       "    .dataframe tbody tr th {\n",
       "        vertical-align: top;\n",
       "    }\n",
       "\n",
       "    .dataframe thead th {\n",
       "        text-align: right;\n",
       "    }\n",
       "</style>\n",
       "<table border=\"1\" class=\"dataframe\">\n",
       "  <thead>\n",
       "    <tr style=\"text-align: right;\">\n",
       "      <th></th>\n",
       "      <th>STATION</th>\n",
       "      <th>NAME</th>\n",
       "      <th>DATE</th>\n",
       "      <th>CDSD</th>\n",
       "      <th>DSND</th>\n",
       "      <th>DSNW</th>\n",
       "      <th>EMNT</th>\n",
       "      <th>EMSD</th>\n",
       "      <th>EMSN</th>\n",
       "      <th>EMXP</th>\n",
       "      <th>EMXT</th>\n",
       "      <th>HDSD</th>\n",
       "      <th>PRCP</th>\n",
       "      <th>SNOW</th>\n",
       "      <th>TAVG</th>\n",
       "      <th>TMAX</th>\n",
       "      <th>TMIN</th>\n",
       "    </tr>\n",
       "  </thead>\n",
       "  <tbody>\n",
       "    <tr>\n",
       "      <th>130</th>\n",
       "      <td>USW00093721</td>\n",
       "      <td>BALTIMORE WASHINGTON INTERNATIONAL AIRPORT, MD US</td>\n",
       "      <td>2016</td>\n",
       "      <td>1512.0</td>\n",
       "      <td>14.0</td>\n",
       "      <td>4.0</td>\n",
       "      <td>8.0</td>\n",
       "      <td>26.0</td>\n",
       "      <td>25.5</td>\n",
       "      <td>2.61</td>\n",
       "      <td>100.0</td>\n",
       "      <td>4060.0</td>\n",
       "      <td>40.55</td>\n",
       "      <td>35.2</td>\n",
       "      <td>57.1</td>\n",
       "      <td>67.2</td>\n",
       "      <td>47.1</td>\n",
       "    </tr>\n",
       "    <tr>\n",
       "      <th>131</th>\n",
       "      <td>USW00093721</td>\n",
       "      <td>BALTIMORE WASHINGTON INTERNATIONAL AIRPORT, MD US</td>\n",
       "      <td>2017</td>\n",
       "      <td>1285.0</td>\n",
       "      <td>8.0</td>\n",
       "      <td>2.0</td>\n",
       "      <td>8.0</td>\n",
       "      <td>2.0</td>\n",
       "      <td>2.8</td>\n",
       "      <td>2.58</td>\n",
       "      <td>98.0</td>\n",
       "      <td>3913.0</td>\n",
       "      <td>38.30</td>\n",
       "      <td>7.4</td>\n",
       "      <td>57.4</td>\n",
       "      <td>67.3</td>\n",
       "      <td>47.4</td>\n",
       "    </tr>\n",
       "    <tr>\n",
       "      <th>132</th>\n",
       "      <td>USW00093721</td>\n",
       "      <td>BALTIMORE WASHINGTON INTERNATIONAL AIRPORT, MD US</td>\n",
       "      <td>2018</td>\n",
       "      <td>1579.0</td>\n",
       "      <td>7.0</td>\n",
       "      <td>5.0</td>\n",
       "      <td>1.0</td>\n",
       "      <td>4.0</td>\n",
       "      <td>4.7</td>\n",
       "      <td>4.79</td>\n",
       "      <td>99.0</td>\n",
       "      <td>4547.0</td>\n",
       "      <td>71.84</td>\n",
       "      <td>12.8</td>\n",
       "      <td>56.7</td>\n",
       "      <td>65.9</td>\n",
       "      <td>47.5</td>\n",
       "    </tr>\n",
       "    <tr>\n",
       "      <th>133</th>\n",
       "      <td>USW00093721</td>\n",
       "      <td>BALTIMORE WASHINGTON INTERNATIONAL AIRPORT, MD US</td>\n",
       "      <td>2019</td>\n",
       "      <td>1716.0</td>\n",
       "      <td>10.0</td>\n",
       "      <td>5.0</td>\n",
       "      <td>5.0</td>\n",
       "      <td>5.0</td>\n",
       "      <td>4.8</td>\n",
       "      <td>1.74</td>\n",
       "      <td>100.0</td>\n",
       "      <td>4375.0</td>\n",
       "      <td>38.15</td>\n",
       "      <td>16.9</td>\n",
       "      <td>58.0</td>\n",
       "      <td>68.0</td>\n",
       "      <td>48.1</td>\n",
       "    </tr>\n",
       "    <tr>\n",
       "      <th>134</th>\n",
       "      <td>USW00093721</td>\n",
       "      <td>BALTIMORE WASHINGTON INTERNATIONAL AIRPORT, MD US</td>\n",
       "      <td>2020</td>\n",
       "      <td>NaN</td>\n",
       "      <td>NaN</td>\n",
       "      <td>NaN</td>\n",
       "      <td>NaN</td>\n",
       "      <td>NaN</td>\n",
       "      <td>NaN</td>\n",
       "      <td>NaN</td>\n",
       "      <td>NaN</td>\n",
       "      <td>3958.0</td>\n",
       "      <td>NaN</td>\n",
       "      <td>NaN</td>\n",
       "      <td>NaN</td>\n",
       "      <td>NaN</td>\n",
       "      <td>NaN</td>\n",
       "    </tr>\n",
       "  </tbody>\n",
       "</table>\n",
       "</div>"
      ],
      "text/plain": [
       "         STATION                                               NAME  DATE  \\\n",
       "130  USW00093721  BALTIMORE WASHINGTON INTERNATIONAL AIRPORT, MD US  2016   \n",
       "131  USW00093721  BALTIMORE WASHINGTON INTERNATIONAL AIRPORT, MD US  2017   \n",
       "132  USW00093721  BALTIMORE WASHINGTON INTERNATIONAL AIRPORT, MD US  2018   \n",
       "133  USW00093721  BALTIMORE WASHINGTON INTERNATIONAL AIRPORT, MD US  2019   \n",
       "134  USW00093721  BALTIMORE WASHINGTON INTERNATIONAL AIRPORT, MD US  2020   \n",
       "\n",
       "       CDSD  DSND  DSNW  EMNT  EMSD  EMSN  EMXP   EMXT    HDSD   PRCP  SNOW  \\\n",
       "130  1512.0  14.0   4.0   8.0  26.0  25.5  2.61  100.0  4060.0  40.55  35.2   \n",
       "131  1285.0   8.0   2.0   8.0   2.0   2.8  2.58   98.0  3913.0  38.30   7.4   \n",
       "132  1579.0   7.0   5.0   1.0   4.0   4.7  4.79   99.0  4547.0  71.84  12.8   \n",
       "133  1716.0  10.0   5.0   5.0   5.0   4.8  1.74  100.0  4375.0  38.15  16.9   \n",
       "134     NaN   NaN   NaN   NaN   NaN   NaN   NaN    NaN  3958.0    NaN   NaN   \n",
       "\n",
       "     TAVG  TMAX  TMIN  \n",
       "130  57.1  67.2  47.1  \n",
       "131  57.4  67.3  47.4  \n",
       "132  56.7  65.9  47.5  \n",
       "133  58.0  68.0  48.1  \n",
       "134   NaN   NaN   NaN  "
      ]
     },
     "execution_count": 198,
     "metadata": {},
     "output_type": "execute_result"
    }
   ],
   "source": [
    "df2.tail()                                   # Display last 5 rows"
   ]
  },
  {
   "cell_type": "code",
   "execution_count": 199,
   "metadata": {},
   "outputs": [
    {
     "data": {
      "text/plain": [
       "(132, 17)"
      ]
     },
     "execution_count": 199,
     "metadata": {},
     "output_type": "execute_result"
    }
   ],
   "source": [
    "df.shape"
   ]
  },
  {
   "cell_type": "code",
   "execution_count": 165,
   "metadata": {},
   "outputs": [
    {
     "data": {
      "text/html": [
       "<div>\n",
       "<style scoped>\n",
       "    .dataframe tbody tr th:only-of-type {\n",
       "        vertical-align: middle;\n",
       "    }\n",
       "\n",
       "    .dataframe tbody tr th {\n",
       "        vertical-align: top;\n",
       "    }\n",
       "\n",
       "    .dataframe thead th {\n",
       "        text-align: right;\n",
       "    }\n",
       "</style>\n",
       "<table border=\"1\" class=\"dataframe\">\n",
       "  <thead>\n",
       "    <tr style=\"text-align: right;\">\n",
       "      <th></th>\n",
       "      <th>STATION</th>\n",
       "      <th>NAME</th>\n",
       "      <th>DATE</th>\n",
       "      <th>CDSD</th>\n",
       "      <th>DSND</th>\n",
       "      <th>DSNW</th>\n",
       "      <th>EMNT</th>\n",
       "      <th>EMSD</th>\n",
       "      <th>EMSN</th>\n",
       "      <th>EMXP</th>\n",
       "      <th>EMXT</th>\n",
       "      <th>HDSD</th>\n",
       "      <th>PRCP</th>\n",
       "      <th>SNOW</th>\n",
       "      <th>TAVG</th>\n",
       "      <th>TMAX</th>\n",
       "      <th>TMIN</th>\n",
       "    </tr>\n",
       "  </thead>\n",
       "  <tbody>\n",
       "    <tr>\n",
       "      <th>127</th>\n",
       "      <td>USW00093721</td>\n",
       "      <td>BALTIMORE WASHINGTON INTERNATIONAL AIRPORT, MD US</td>\n",
       "      <td>2016</td>\n",
       "      <td>1512.0</td>\n",
       "      <td>14.0</td>\n",
       "      <td>4.0</td>\n",
       "      <td>8.0</td>\n",
       "      <td>26.0</td>\n",
       "      <td>25.5</td>\n",
       "      <td>2.61</td>\n",
       "      <td>100.0</td>\n",
       "      <td>4060.0</td>\n",
       "      <td>40.55</td>\n",
       "      <td>35.2</td>\n",
       "      <td>57.1</td>\n",
       "      <td>67.2</td>\n",
       "      <td>47.1</td>\n",
       "    </tr>\n",
       "    <tr>\n",
       "      <th>128</th>\n",
       "      <td>USW00093721</td>\n",
       "      <td>BALTIMORE WASHINGTON INTERNATIONAL AIRPORT, MD US</td>\n",
       "      <td>2017</td>\n",
       "      <td>1285.0</td>\n",
       "      <td>8.0</td>\n",
       "      <td>2.0</td>\n",
       "      <td>8.0</td>\n",
       "      <td>2.0</td>\n",
       "      <td>2.8</td>\n",
       "      <td>2.58</td>\n",
       "      <td>98.0</td>\n",
       "      <td>3913.0</td>\n",
       "      <td>38.30</td>\n",
       "      <td>7.4</td>\n",
       "      <td>57.4</td>\n",
       "      <td>67.3</td>\n",
       "      <td>47.4</td>\n",
       "    </tr>\n",
       "    <tr>\n",
       "      <th>129</th>\n",
       "      <td>USW00093721</td>\n",
       "      <td>BALTIMORE WASHINGTON INTERNATIONAL AIRPORT, MD US</td>\n",
       "      <td>2018</td>\n",
       "      <td>1579.0</td>\n",
       "      <td>7.0</td>\n",
       "      <td>5.0</td>\n",
       "      <td>1.0</td>\n",
       "      <td>4.0</td>\n",
       "      <td>4.7</td>\n",
       "      <td>4.79</td>\n",
       "      <td>99.0</td>\n",
       "      <td>4547.0</td>\n",
       "      <td>71.84</td>\n",
       "      <td>12.8</td>\n",
       "      <td>56.7</td>\n",
       "      <td>65.9</td>\n",
       "      <td>47.5</td>\n",
       "    </tr>\n",
       "    <tr>\n",
       "      <th>130</th>\n",
       "      <td>USW00093721</td>\n",
       "      <td>BALTIMORE WASHINGTON INTERNATIONAL AIRPORT, MD US</td>\n",
       "      <td>2019</td>\n",
       "      <td>1716.0</td>\n",
       "      <td>10.0</td>\n",
       "      <td>5.0</td>\n",
       "      <td>5.0</td>\n",
       "      <td>5.0</td>\n",
       "      <td>4.8</td>\n",
       "      <td>1.74</td>\n",
       "      <td>100.0</td>\n",
       "      <td>4375.0</td>\n",
       "      <td>38.15</td>\n",
       "      <td>16.9</td>\n",
       "      <td>58.0</td>\n",
       "      <td>68.0</td>\n",
       "      <td>48.1</td>\n",
       "    </tr>\n",
       "    <tr>\n",
       "      <th>131</th>\n",
       "      <td>USW00093721</td>\n",
       "      <td>BALTIMORE WASHINGTON INTERNATIONAL AIRPORT, MD US</td>\n",
       "      <td>2020</td>\n",
       "      <td>NaN</td>\n",
       "      <td>NaN</td>\n",
       "      <td>NaN</td>\n",
       "      <td>NaN</td>\n",
       "      <td>NaN</td>\n",
       "      <td>NaN</td>\n",
       "      <td>NaN</td>\n",
       "      <td>NaN</td>\n",
       "      <td>3958.0</td>\n",
       "      <td>NaN</td>\n",
       "      <td>NaN</td>\n",
       "      <td>NaN</td>\n",
       "      <td>NaN</td>\n",
       "      <td>NaN</td>\n",
       "    </tr>\n",
       "  </tbody>\n",
       "</table>\n",
       "</div>"
      ],
      "text/plain": [
       "         STATION                                               NAME  DATE  \\\n",
       "127  USW00093721  BALTIMORE WASHINGTON INTERNATIONAL AIRPORT, MD US  2016   \n",
       "128  USW00093721  BALTIMORE WASHINGTON INTERNATIONAL AIRPORT, MD US  2017   \n",
       "129  USW00093721  BALTIMORE WASHINGTON INTERNATIONAL AIRPORT, MD US  2018   \n",
       "130  USW00093721  BALTIMORE WASHINGTON INTERNATIONAL AIRPORT, MD US  2019   \n",
       "131  USW00093721  BALTIMORE WASHINGTON INTERNATIONAL AIRPORT, MD US  2020   \n",
       "\n",
       "       CDSD  DSND  DSNW  EMNT  EMSD  EMSN  EMXP   EMXT    HDSD   PRCP  SNOW  \\\n",
       "127  1512.0  14.0   4.0   8.0  26.0  25.5  2.61  100.0  4060.0  40.55  35.2   \n",
       "128  1285.0   8.0   2.0   8.0   2.0   2.8  2.58   98.0  3913.0  38.30   7.4   \n",
       "129  1579.0   7.0   5.0   1.0   4.0   4.7  4.79   99.0  4547.0  71.84  12.8   \n",
       "130  1716.0  10.0   5.0   5.0   5.0   4.8  1.74  100.0  4375.0  38.15  16.9   \n",
       "131     NaN   NaN   NaN   NaN   NaN   NaN   NaN    NaN  3958.0    NaN   NaN   \n",
       "\n",
       "     TAVG  TMAX  TMIN  \n",
       "127  57.1  67.2  47.1  \n",
       "128  57.4  67.3  47.4  \n",
       "129  56.7  65.9  47.5  \n",
       "130  58.0  68.0  48.1  \n",
       "131   NaN   NaN   NaN  "
      ]
     },
     "execution_count": 165,
     "metadata": {},
     "output_type": "execute_result"
    }
   ],
   "source": [
    "df2.tail()"
   ]
  },
  {
   "cell_type": "code",
   "execution_count": 200,
   "metadata": {},
   "outputs": [
    {
     "name": "stdout",
     "output_type": "stream",
     "text": [
      "STATION\n",
      "NAME\n",
      "DATE\n",
      "CDSD\n",
      "DSND\n",
      "DSNW\n",
      "EMNT\n",
      "EMSD\n",
      "EMSN\n",
      "EMXP\n",
      "EMXT\n",
      "HDSD\n",
      "PRCP\n",
      "SNOW\n",
      "TAVG\n",
      "TMAX\n",
      "TMIN\n"
     ]
    }
   ],
   "source": [
    "for col in df2.columns: \n",
    "    print(col)"
   ]
  },
  {
   "cell_type": "markdown",
   "metadata": {},
   "source": [
    "### Important Fields\n",
    "\n",
    "### After analyzing the documentation that accompany the data file, only the following variables will be kept:\n",
    "\n",
    "1.  STATION  \n",
    "2.  NAME  \n",
    "3.  DATE:  year\n",
    "4.  PRCP:  precipitation in ?\n",
    "5.  SNOW:  snowfall in ?\n",
    "6.  TAVG:  average temperature for the year\n",
    "7.  TMIN:  min temp for the year\n",
    "8.  TMAX:  max temp for the year\n"
   ]
  },
  {
   "cell_type": "code",
   "execution_count": 202,
   "metadata": {},
   "outputs": [
    {
     "data": {
      "text/html": [
       "<div>\n",
       "<style scoped>\n",
       "    .dataframe tbody tr th:only-of-type {\n",
       "        vertical-align: middle;\n",
       "    }\n",
       "\n",
       "    .dataframe tbody tr th {\n",
       "        vertical-align: top;\n",
       "    }\n",
       "\n",
       "    .dataframe thead th {\n",
       "        text-align: right;\n",
       "    }\n",
       "</style>\n",
       "<table border=\"1\" class=\"dataframe\">\n",
       "  <thead>\n",
       "    <tr style=\"text-align: right;\">\n",
       "      <th></th>\n",
       "      <th>STATION</th>\n",
       "      <th>NAME</th>\n",
       "      <th>DATE</th>\n",
       "      <th>PRCP</th>\n",
       "      <th>SNOW</th>\n",
       "      <th>TAVG</th>\n",
       "      <th>TMAX</th>\n",
       "      <th>TMIN</th>\n",
       "    </tr>\n",
       "  </thead>\n",
       "  <tbody>\n",
       "    <tr>\n",
       "      <th>0</th>\n",
       "      <td>USC00188065</td>\n",
       "      <td>SAVAGE RIVER DAM, MD US</td>\n",
       "      <td>1950</td>\n",
       "      <td>38.05</td>\n",
       "      <td>NaN</td>\n",
       "      <td>NaN</td>\n",
       "      <td>NaN</td>\n",
       "      <td>NaN</td>\n",
       "    </tr>\n",
       "    <tr>\n",
       "      <th>1</th>\n",
       "      <td>USC00188065</td>\n",
       "      <td>SAVAGE RIVER DAM, MD US</td>\n",
       "      <td>1951</td>\n",
       "      <td>41.11</td>\n",
       "      <td>NaN</td>\n",
       "      <td>NaN</td>\n",
       "      <td>NaN</td>\n",
       "      <td>NaN</td>\n",
       "    </tr>\n",
       "    <tr>\n",
       "      <th>2</th>\n",
       "      <td>USC00188065</td>\n",
       "      <td>SAVAGE RIVER DAM, MD US</td>\n",
       "      <td>1952</td>\n",
       "      <td>38.73</td>\n",
       "      <td>NaN</td>\n",
       "      <td>NaN</td>\n",
       "      <td>NaN</td>\n",
       "      <td>NaN</td>\n",
       "    </tr>\n",
       "    <tr>\n",
       "      <th>3</th>\n",
       "      <td>USC00188065</td>\n",
       "      <td>SAVAGE RIVER DAM, MD US</td>\n",
       "      <td>1953</td>\n",
       "      <td>31.67</td>\n",
       "      <td>NaN</td>\n",
       "      <td>51.4</td>\n",
       "      <td>63.9</td>\n",
       "      <td>38.9</td>\n",
       "    </tr>\n",
       "    <tr>\n",
       "      <th>4</th>\n",
       "      <td>USC00188065</td>\n",
       "      <td>SAVAGE RIVER DAM, MD US</td>\n",
       "      <td>1954</td>\n",
       "      <td>NaN</td>\n",
       "      <td>NaN</td>\n",
       "      <td>NaN</td>\n",
       "      <td>NaN</td>\n",
       "      <td>NaN</td>\n",
       "    </tr>\n",
       "  </tbody>\n",
       "</table>\n",
       "</div>"
      ],
      "text/plain": [
       "       STATION                     NAME  DATE   PRCP  SNOW  TAVG  TMAX  TMIN\n",
       "0  USC00188065  SAVAGE RIVER DAM, MD US  1950  38.05   NaN   NaN   NaN   NaN\n",
       "1  USC00188065  SAVAGE RIVER DAM, MD US  1951  41.11   NaN   NaN   NaN   NaN\n",
       "2  USC00188065  SAVAGE RIVER DAM, MD US  1952  38.73   NaN   NaN   NaN   NaN\n",
       "3  USC00188065  SAVAGE RIVER DAM, MD US  1953  31.67   NaN  51.4  63.9  38.9\n",
       "4  USC00188065  SAVAGE RIVER DAM, MD US  1954    NaN   NaN   NaN   NaN   NaN"
      ]
     },
     "execution_count": 202,
     "metadata": {},
     "output_type": "execute_result"
    }
   ],
   "source": [
    "temp_precip_df=pd.read_csv('2328476.csv', usecols=['STATION','NAME','DATE','PRCP','SNOW','TAVG','TMIN','TMAX'])\n",
    "temp_precip_df.head()"
   ]
  },
  {
   "cell_type": "code",
   "execution_count": 203,
   "metadata": {},
   "outputs": [
    {
     "data": {
      "text/html": [
       "<div>\n",
       "<style scoped>\n",
       "    .dataframe tbody tr th:only-of-type {\n",
       "        vertical-align: middle;\n",
       "    }\n",
       "\n",
       "    .dataframe tbody tr th {\n",
       "        vertical-align: top;\n",
       "    }\n",
       "\n",
       "    .dataframe thead th {\n",
       "        text-align: right;\n",
       "    }\n",
       "</style>\n",
       "<table border=\"1\" class=\"dataframe\">\n",
       "  <thead>\n",
       "    <tr style=\"text-align: right;\">\n",
       "      <th></th>\n",
       "      <th>STATION</th>\n",
       "      <th>NAME</th>\n",
       "      <th>YEAR</th>\n",
       "      <th>PRCP</th>\n",
       "      <th>SNOW</th>\n",
       "      <th>TAVG</th>\n",
       "      <th>TMAX</th>\n",
       "      <th>TMIN</th>\n",
       "    </tr>\n",
       "  </thead>\n",
       "  <tbody>\n",
       "    <tr>\n",
       "      <th>0</th>\n",
       "      <td>USC00188065</td>\n",
       "      <td>SAVAGE RIVER DAM, MD US</td>\n",
       "      <td>1950</td>\n",
       "      <td>38.05</td>\n",
       "      <td>NaN</td>\n",
       "      <td>NaN</td>\n",
       "      <td>NaN</td>\n",
       "      <td>NaN</td>\n",
       "    </tr>\n",
       "    <tr>\n",
       "      <th>1</th>\n",
       "      <td>USC00188065</td>\n",
       "      <td>SAVAGE RIVER DAM, MD US</td>\n",
       "      <td>1951</td>\n",
       "      <td>41.11</td>\n",
       "      <td>NaN</td>\n",
       "      <td>NaN</td>\n",
       "      <td>NaN</td>\n",
       "      <td>NaN</td>\n",
       "    </tr>\n",
       "    <tr>\n",
       "      <th>2</th>\n",
       "      <td>USC00188065</td>\n",
       "      <td>SAVAGE RIVER DAM, MD US</td>\n",
       "      <td>1952</td>\n",
       "      <td>38.73</td>\n",
       "      <td>NaN</td>\n",
       "      <td>NaN</td>\n",
       "      <td>NaN</td>\n",
       "      <td>NaN</td>\n",
       "    </tr>\n",
       "    <tr>\n",
       "      <th>3</th>\n",
       "      <td>USC00188065</td>\n",
       "      <td>SAVAGE RIVER DAM, MD US</td>\n",
       "      <td>1953</td>\n",
       "      <td>31.67</td>\n",
       "      <td>NaN</td>\n",
       "      <td>51.4</td>\n",
       "      <td>63.9</td>\n",
       "      <td>38.9</td>\n",
       "    </tr>\n",
       "    <tr>\n",
       "      <th>4</th>\n",
       "      <td>USC00188065</td>\n",
       "      <td>SAVAGE RIVER DAM, MD US</td>\n",
       "      <td>1954</td>\n",
       "      <td>NaN</td>\n",
       "      <td>NaN</td>\n",
       "      <td>NaN</td>\n",
       "      <td>NaN</td>\n",
       "      <td>NaN</td>\n",
       "    </tr>\n",
       "  </tbody>\n",
       "</table>\n",
       "</div>"
      ],
      "text/plain": [
       "       STATION                     NAME  YEAR   PRCP  SNOW  TAVG  TMAX  TMIN\n",
       "0  USC00188065  SAVAGE RIVER DAM, MD US  1950  38.05   NaN   NaN   NaN   NaN\n",
       "1  USC00188065  SAVAGE RIVER DAM, MD US  1951  41.11   NaN   NaN   NaN   NaN\n",
       "2  USC00188065  SAVAGE RIVER DAM, MD US  1952  38.73   NaN   NaN   NaN   NaN\n",
       "3  USC00188065  SAVAGE RIVER DAM, MD US  1953  31.67   NaN  51.4  63.9  38.9\n",
       "4  USC00188065  SAVAGE RIVER DAM, MD US  1954    NaN   NaN   NaN   NaN   NaN"
      ]
     },
     "execution_count": 203,
     "metadata": {},
     "output_type": "execute_result"
    }
   ],
   "source": [
    "# Change \"date\" to \"year\"\n",
    "\n",
    "temp_precip_df1=temp_precip_df.rename(columns={'DATE':'YEAR'})  \n",
    "temp_precip_df1.head()\n"
   ]
  },
  {
   "cell_type": "code",
   "execution_count": 205,
   "metadata": {},
   "outputs": [
    {
     "data": {
      "text/html": [
       "<div>\n",
       "<style scoped>\n",
       "    .dataframe tbody tr th:only-of-type {\n",
       "        vertical-align: middle;\n",
       "    }\n",
       "\n",
       "    .dataframe tbody tr th {\n",
       "        vertical-align: top;\n",
       "    }\n",
       "\n",
       "    .dataframe thead th {\n",
       "        text-align: right;\n",
       "    }\n",
       "</style>\n",
       "<table border=\"1\" class=\"dataframe\">\n",
       "  <thead>\n",
       "    <tr style=\"text-align: right;\">\n",
       "      <th></th>\n",
       "      <th>STATION</th>\n",
       "      <th>NAME</th>\n",
       "      <th>YEAR</th>\n",
       "      <th>PRCP</th>\n",
       "      <th>SNOW</th>\n",
       "      <th>TAVG</th>\n",
       "      <th>TMAX</th>\n",
       "      <th>TMIN</th>\n",
       "    </tr>\n",
       "  </thead>\n",
       "  <tbody>\n",
       "    <tr>\n",
       "      <th>64</th>\n",
       "      <td>USW00093721</td>\n",
       "      <td>BALTIMORE WASHINGTON INTERNATIONAL AIRPORT, MD US</td>\n",
       "      <td>1950</td>\n",
       "      <td>38.51</td>\n",
       "      <td>3.7</td>\n",
       "      <td>55.2</td>\n",
       "      <td>64.0</td>\n",
       "      <td>46.4</td>\n",
       "    </tr>\n",
       "    <tr>\n",
       "      <th>65</th>\n",
       "      <td>USW00093721</td>\n",
       "      <td>BALTIMORE WASHINGTON INTERNATIONAL AIRPORT, MD US</td>\n",
       "      <td>1951</td>\n",
       "      <td>45.83</td>\n",
       "      <td>8.6</td>\n",
       "      <td>55.5</td>\n",
       "      <td>65.6</td>\n",
       "      <td>45.4</td>\n",
       "    </tr>\n",
       "    <tr>\n",
       "      <th>66</th>\n",
       "      <td>USW00093721</td>\n",
       "      <td>BALTIMORE WASHINGTON INTERNATIONAL AIRPORT, MD US</td>\n",
       "      <td>1952</td>\n",
       "      <td>56.60</td>\n",
       "      <td>14.4</td>\n",
       "      <td>56.0</td>\n",
       "      <td>65.7</td>\n",
       "      <td>46.2</td>\n",
       "    </tr>\n",
       "    <tr>\n",
       "      <th>67</th>\n",
       "      <td>USW00093721</td>\n",
       "      <td>BALTIMORE WASHINGTON INTERNATIONAL AIRPORT, MD US</td>\n",
       "      <td>1953</td>\n",
       "      <td>48.27</td>\n",
       "      <td>11.9</td>\n",
       "      <td>57.0</td>\n",
       "      <td>67.4</td>\n",
       "      <td>46.6</td>\n",
       "    </tr>\n",
       "    <tr>\n",
       "      <th>68</th>\n",
       "      <td>USW00093721</td>\n",
       "      <td>BALTIMORE WASHINGTON INTERNATIONAL AIRPORT, MD US</td>\n",
       "      <td>1954</td>\n",
       "      <td>27.91</td>\n",
       "      <td>16.6</td>\n",
       "      <td>55.3</td>\n",
       "      <td>65.6</td>\n",
       "      <td>45.0</td>\n",
       "    </tr>\n",
       "  </tbody>\n",
       "</table>\n",
       "</div>"
      ],
      "text/plain": [
       "        STATION                                               NAME  YEAR  \\\n",
       "64  USW00093721  BALTIMORE WASHINGTON INTERNATIONAL AIRPORT, MD US  1950   \n",
       "65  USW00093721  BALTIMORE WASHINGTON INTERNATIONAL AIRPORT, MD US  1951   \n",
       "66  USW00093721  BALTIMORE WASHINGTON INTERNATIONAL AIRPORT, MD US  1952   \n",
       "67  USW00093721  BALTIMORE WASHINGTON INTERNATIONAL AIRPORT, MD US  1953   \n",
       "68  USW00093721  BALTIMORE WASHINGTON INTERNATIONAL AIRPORT, MD US  1954   \n",
       "\n",
       "     PRCP  SNOW  TAVG  TMAX  TMIN  \n",
       "64  38.51   3.7  55.2  64.0  46.4  \n",
       "65  45.83   8.6  55.5  65.6  45.4  \n",
       "66  56.60  14.4  56.0  65.7  46.2  \n",
       "67  48.27  11.9  57.0  67.4  46.6  \n",
       "68  27.91  16.6  55.3  65.6  45.0  "
      ]
     },
     "execution_count": 205,
     "metadata": {},
     "output_type": "execute_result"
    }
   ],
   "source": [
    "# Make a baltimore only df\n",
    "\n",
    "baltimore_df=temp_precip_df1[64:]                    \n",
    "baltimore_df.head()"
   ]
  },
  {
   "cell_type": "markdown",
   "metadata": {},
   "source": [
    "### Step 2:  Visualize Baltimore rainfall and temperature data"
   ]
  },
  {
   "cell_type": "code",
   "execution_count": 268,
   "metadata": {},
   "outputs": [
    {
     "name": "stderr",
     "output_type": "stream",
     "text": [
      "<ipython-input-268-a0e5e2a6c006>:12: UserWarning: Matplotlib is currently using module://ipykernel.pylab.backend_inline, which is a non-GUI backend, so cannot show the figure.\n",
      "  fig.show()\n"
     ]
    },
    {
     "data": {
      "image/png": "[encoded data removed]",
      "text/plain": [
       "<Figure size 1440x576 with 1 Axes>"
      ]
     },
     "metadata": {
      "needs_background": "light"
     },
     "output_type": "display_data"
    }
   ],
   "source": [
    "fig, ax_list = plt.subplots(figsize=(20,8))                            # Make a scatter plot of the baltimore avg temp\n",
    "\n",
    "\n",
    "\n",
    "ax_list.scatter(baltimore_df[\"YEAR\"], baltimore_df[\"TAVG\"])\n",
    "ax_list.set_title(\"Average Yearly Temperature at BWI\")\n",
    "ax_list.set_xlabel(\"Year\")\n",
    "ax_list.set_ylabel(\"Temperature in Degrees Fahrenheit\")\n",
    "\n",
    "#m, b = np.polyfit(baltimore_df[\"YEAR\"], baltimore_df[\"TAVG\"], 1)     # Can't get this to work\n",
    "#plt.plot(x, m*x + b)\n",
    "fig.show()"
   ]
  },
  {
   "cell_type": "code",
   "execution_count": 207,
   "metadata": {},
   "outputs": [
    {
     "name": "stderr",
     "output_type": "stream",
     "text": [
      "<ipython-input-207-d17ced1bbff2>:10: UserWarning: Matplotlib is currently using module://ipykernel.pylab.backend_inline, which is a non-GUI backend, so cannot show the figure.\n",
      "  fig.show()\n"
     ]
    },
    {
     "data": {
      "image/png": "[encoded data removed]",
      "text/plain": [
       "<Figure size 1440x576 with 1 Axes>"
      ]
     },
     "metadata": {
      "needs_background": "light"
     },
     "output_type": "display_data"
    }
   ],
   "source": [
    "fig, ax_list = plt.subplots(figsize=(20,8))                              # Make a scatter plot of the baltimore max temp\n",
    "\n",
    "\n",
    "\n",
    "ax_list.scatter(baltimore_df[\"YEAR\"], baltimore_df[\"TMAX\"])\n",
    "ax_list.set_title(\"Maximum Reported Temperature at BWI\")\n",
    "ax_list.set_xlabel(\"Year\")\n",
    "ax_list.set_ylabel(\"Temperature in Degrees Fahrenheit\")\n",
    "\n",
    "fig.show()"
   ]
  },
  {
   "cell_type": "code",
   "execution_count": 191,
   "metadata": {},
   "outputs": [
    {
     "name": "stderr",
     "output_type": "stream",
     "text": [
      "<ipython-input-191-16e25a0cb990>:10: UserWarning: Matplotlib is currently using module://ipykernel.pylab.backend_inline, which is a non-GUI backend, so cannot show the figure.\n",
      "  fig.show()\n"
     ]
    },
    {
     "data": {
      "image/png": "[encoded data removed]",
      "text/plain": [
       "<Figure size 1440x576 with 1 Axes>"
      ]
     },
     "metadata": {
      "needs_background": "light"
     },
     "output_type": "display_data"
    }
   ],
   "source": [
    "fig, ax_list = plt.subplots(figsize=(20,8))                            # Make a scatter plot of the baltimore min temp\n",
    "\n",
    "\n",
    "\n",
    "ax_list.scatter(baltimore_df[\"YEAR\"], baltimore_df[\"TMIN\"])\n",
    "ax_list.set_title(\"Minimum Reported Temperature at BWI\")\n",
    "ax_list.set_xlabel(\"Year\")\n",
    "ax_list.set_ylabel(\"Temperature in Degrees Fahrenheit\")\n",
    "\n",
    "fig.show()"
   ]
  },
  {
   "cell_type": "code",
   "execution_count": 269,
   "metadata": {},
   "outputs": [
    {
     "name": "stderr",
     "output_type": "stream",
     "text": [
      "<ipython-input-269-66913b618519>:10: UserWarning: Matplotlib is currently using module://ipykernel.pylab.backend_inline, which is a non-GUI backend, so cannot show the figure.\n",
      "  fig.show()\n"
     ]
    },
    {
     "data": {
      "image/png": "[encoded data removed]",
      "text/plain": [
       "<Figure size 1440x576 with 1 Axes>"
      ]
     },
     "metadata": {
      "needs_background": "light"
     },
     "output_type": "display_data"
    }
   ],
   "source": [
    "fig, ax_list = plt.subplots(figsize=(20,8))                           # Make a scatter plot of the baltimore precip\n",
    "\n",
    "\n",
    "\n",
    "ax_list.scatter(baltimore_df[\"YEAR\"], baltimore_df[\"PRCP\"])\n",
    "ax_list.set_title(\"Yearly Precipiation Totals at BWI\")\n",
    "ax_list.set_xlabel(\"Year\")\n",
    "ax_list.set_ylabel(\"Precipitation in inches\")\n",
    "\n",
    "fig.show()"
   ]
  },
  {
   "cell_type": "markdown",
   "metadata": {},
   "source": [
    "### Observation:  There does seem to be an upward trend for Baltimore's precipitation and temperature data over time.  Trying to figure out how to add lines of best fit."
   ]
  },
  {
   "cell_type": "markdown",
   "metadata": {},
   "source": [
    "### Step 2:  Visualize Western, MD rainfall and temperature data"
   ]
  },
  {
   "cell_type": "code",
   "execution_count": 208,
   "metadata": {},
   "outputs": [
    {
     "data": {
      "text/html": [
       "<div>\n",
       "<style scoped>\n",
       "    .dataframe tbody tr th:only-of-type {\n",
       "        vertical-align: middle;\n",
       "    }\n",
       "\n",
       "    .dataframe tbody tr th {\n",
       "        vertical-align: top;\n",
       "    }\n",
       "\n",
       "    .dataframe thead th {\n",
       "        text-align: right;\n",
       "    }\n",
       "</style>\n",
       "<table border=\"1\" class=\"dataframe\">\n",
       "  <thead>\n",
       "    <tr style=\"text-align: right;\">\n",
       "      <th></th>\n",
       "      <th>STATION</th>\n",
       "      <th>NAME</th>\n",
       "      <th>YEAR</th>\n",
       "      <th>PRCP</th>\n",
       "      <th>SNOW</th>\n",
       "      <th>TAVG</th>\n",
       "      <th>TMAX</th>\n",
       "      <th>TMIN</th>\n",
       "    </tr>\n",
       "  </thead>\n",
       "  <tbody>\n",
       "    <tr>\n",
       "      <th>0</th>\n",
       "      <td>USC00188065</td>\n",
       "      <td>SAVAGE RIVER DAM, MD US</td>\n",
       "      <td>1950</td>\n",
       "      <td>38.05</td>\n",
       "      <td>NaN</td>\n",
       "      <td>NaN</td>\n",
       "      <td>NaN</td>\n",
       "      <td>NaN</td>\n",
       "    </tr>\n",
       "    <tr>\n",
       "      <th>1</th>\n",
       "      <td>USC00188065</td>\n",
       "      <td>SAVAGE RIVER DAM, MD US</td>\n",
       "      <td>1951</td>\n",
       "      <td>41.11</td>\n",
       "      <td>NaN</td>\n",
       "      <td>NaN</td>\n",
       "      <td>NaN</td>\n",
       "      <td>NaN</td>\n",
       "    </tr>\n",
       "    <tr>\n",
       "      <th>2</th>\n",
       "      <td>USC00188065</td>\n",
       "      <td>SAVAGE RIVER DAM, MD US</td>\n",
       "      <td>1952</td>\n",
       "      <td>38.73</td>\n",
       "      <td>NaN</td>\n",
       "      <td>NaN</td>\n",
       "      <td>NaN</td>\n",
       "      <td>NaN</td>\n",
       "    </tr>\n",
       "    <tr>\n",
       "      <th>3</th>\n",
       "      <td>USC00188065</td>\n",
       "      <td>SAVAGE RIVER DAM, MD US</td>\n",
       "      <td>1953</td>\n",
       "      <td>31.67</td>\n",
       "      <td>NaN</td>\n",
       "      <td>51.4</td>\n",
       "      <td>63.9</td>\n",
       "      <td>38.9</td>\n",
       "    </tr>\n",
       "    <tr>\n",
       "      <th>4</th>\n",
       "      <td>USC00188065</td>\n",
       "      <td>SAVAGE RIVER DAM, MD US</td>\n",
       "      <td>1954</td>\n",
       "      <td>NaN</td>\n",
       "      <td>NaN</td>\n",
       "      <td>NaN</td>\n",
       "      <td>NaN</td>\n",
       "      <td>NaN</td>\n",
       "    </tr>\n",
       "  </tbody>\n",
       "</table>\n",
       "</div>"
      ],
      "text/plain": [
       "       STATION                     NAME  YEAR   PRCP  SNOW  TAVG  TMAX  TMIN\n",
       "0  USC00188065  SAVAGE RIVER DAM, MD US  1950  38.05   NaN   NaN   NaN   NaN\n",
       "1  USC00188065  SAVAGE RIVER DAM, MD US  1951  41.11   NaN   NaN   NaN   NaN\n",
       "2  USC00188065  SAVAGE RIVER DAM, MD US  1952  38.73   NaN   NaN   NaN   NaN\n",
       "3  USC00188065  SAVAGE RIVER DAM, MD US  1953  31.67   NaN  51.4  63.9  38.9\n",
       "4  USC00188065  SAVAGE RIVER DAM, MD US  1954    NaN   NaN   NaN   NaN   NaN"
      ]
     },
     "execution_count": 208,
     "metadata": {},
     "output_type": "execute_result"
    }
   ],
   "source": [
    "savage_df=temp_precip_df1[:63]               # Make a df of just Savage River Dam, MD data\n",
    "savage_df.head()\n"
   ]
  },
  {
   "cell_type": "code",
   "execution_count": 209,
   "metadata": {},
   "outputs": [
    {
     "name": "stderr",
     "output_type": "stream",
     "text": [
      "<ipython-input-209-c7d09035149a>:10: UserWarning: Matplotlib is currently using module://ipykernel.pylab.backend_inline, which is a non-GUI backend, so cannot show the figure.\n",
      "  fig.show()\n"
     ]
    },
    {
     "data": {
      "image/png": "[encoded data removed]",
      "text/plain": [
       "<Figure size 1440x576 with 1 Axes>"
      ]
     },
     "metadata": {
      "needs_background": "light"
     },
     "output_type": "display_data"
    }
   ],
   "source": [
    "fig, ax_list = plt.subplots(figsize=(20,8))      # Make a scatter plot of average temps for Savage River Dam, MD\n",
    "\n",
    "\n",
    "\n",
    "ax_list.scatter(savage_df[\"YEAR\"], savage_df[\"TAVG\"])\n",
    "ax_list.set_title(\"Average Yearly Temperature at Savage River Dam, MD\")\n",
    "ax_list.set_xlabel(\"Year\")\n",
    "ax_list.set_ylabel(\"Temperature in Degrees Fahrenheit\")\n",
    "\n",
    "fig.show()"
   ]
  },
  {
   "cell_type": "code",
   "execution_count": 210,
   "metadata": {},
   "outputs": [
    {
     "name": "stderr",
     "output_type": "stream",
     "text": [
      "<ipython-input-210-fc489628a3a2>:10: UserWarning: Matplotlib is currently using module://ipykernel.pylab.backend_inline, which is a non-GUI backend, so cannot show the figure.\n",
      "  fig.show()\n"
     ]
    },
    {
     "data": {
      "image/png": "[encoded data removed]",
      "text/plain": [
       "<Figure size 1440x576 with 1 Axes>"
      ]
     },
     "metadata": {
      "needs_background": "light"
     },
     "output_type": "display_data"
    }
   ],
   "source": [
    "fig, ax_list = plt.subplots(figsize=(20,8))                  # Make a scatter plot of max temps for Savage River Dam, MD\n",
    "\n",
    "\n",
    "\n",
    "ax_list.scatter(savage_df[\"YEAR\"], savage_df[\"TMAX\"])\n",
    "ax_list.set_title(\"Maximum Reported Temperature at Savage River Dam, MD\")\n",
    "ax_list.set_xlabel(\"Year\")\n",
    "ax_list.set_ylabel(\"Temperature in Degrees Fahrenheit\")\n",
    "\n",
    "fig.show()"
   ]
  },
  {
   "cell_type": "code",
   "execution_count": 194,
   "metadata": {},
   "outputs": [
    {
     "name": "stderr",
     "output_type": "stream",
     "text": [
      "<ipython-input-194-872312dc3b5f>:10: UserWarning: Matplotlib is currently using module://ipykernel.pylab.backend_inline, which is a non-GUI backend, so cannot show the figure.\n",
      "  fig.show()\n"
     ]
    },
    {
     "data": {
      "image/png": "[encoded data removed]",
      "text/plain": [
       "<Figure size 1440x576 with 1 Axes>"
      ]
     },
     "metadata": {
      "needs_background": "light"
     },
     "output_type": "display_data"
    }
   ],
   "source": [
    "fig, ax_list = plt.subplots(figsize=(20,8))              # Make a scatter plot of min temps for Savage River Dam, MD\n",
    "\n",
    "\n",
    "\n",
    "ax_list.scatter(savage_df[\"YEAR\"], savage_df[\"TMIN\"])\n",
    "ax_list.set_title(\"Minimum Reported Temperature at Savage River Dam, MD\")\n",
    "ax_list.set_xlabel(\"Year\")\n",
    "ax_list.set_ylabel(\"Temperature in Degrees Fahrenheit\")\n",
    "\n",
    "fig.show()"
   ]
  },
  {
   "cell_type": "code",
   "execution_count": 270,
   "metadata": {},
   "outputs": [
    {
     "name": "stderr",
     "output_type": "stream",
     "text": [
      "<ipython-input-270-edc024fb9005>:10: UserWarning: Matplotlib is currently using module://ipykernel.pylab.backend_inline, which is a non-GUI backend, so cannot show the figure.\n",
      "  fig.show()\n"
     ]
    },
    {
     "data": {
      "image/png": "[encoded data removed]",
      "text/plain": [
       "<Figure size 1440x576 with 1 Axes>"
      ]
     },
     "metadata": {
      "needs_background": "light"
     },
     "output_type": "display_data"
    }
   ],
   "source": [
    "fig, ax_list = plt.subplots(figsize=(20,8))                # Make a scatter plot of the Savage River Dam, MD precip\n",
    "\n",
    "\n",
    "\n",
    "ax_list.scatter(savage_df[\"YEAR\"], savage_df[\"PRCP\"])\n",
    "ax_list.set_title(\"Yearly Precipiation Totals at Savage River Dam, MD\")\n",
    "ax_list.set_xlabel(\"Year\")\n",
    "ax_list.set_ylabel(\"Precipitation in inches\")\n",
    "\n",
    "fig.show()"
   ]
  },
  {
   "cell_type": "markdown",
   "metadata": {},
   "source": [
    "### Observation:  Not really sure I see an upward trend as clearly as with Baltimore, so mabye population density does play a role.  Would like to add best fit lines here too."
   ]
  },
  {
   "cell_type": "code",
   "execution_count": null,
   "metadata": {},
   "outputs": [],
   "source": []
  }
 ],
 "metadata": {
  "kernelspec": {
   "display_name": "Python 3",
   "language": "python",
   "name": "python3"
  },
  "language_info": {
   "codemirror_mode": {
    "name": "ipython",
    "version": 3
   },
   "file_extension": ".py",
   "mimetype": "text/x-python",
   "name": "python",
   "nbconvert_exporter": "python",
   "pygments_lexer": "ipython3",
   "version": "3.8.3"
  }
 },
 "nbformat": 4,
 "nbformat_minor": 4
}
